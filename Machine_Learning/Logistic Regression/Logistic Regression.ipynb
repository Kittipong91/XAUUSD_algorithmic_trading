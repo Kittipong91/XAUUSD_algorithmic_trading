{
 "cells": [
  {
   "cell_type": "markdown",
   "metadata": {},
   "source": [
    "# Trading Strategies powered by Machine Learning - Logistic Regression"
   ]
  },
  {
   "cell_type": "markdown",
   "metadata": {},
   "source": [
    "## Logistic Regression with scikit-learn - a Simple Introduction"
   ]
  },
  {
   "cell_type": "code",
   "execution_count": null,
   "metadata": {},
   "outputs": [],
   "source": [
    "import sys\n",
    "sys.path.append('../../')"
   ]
  },
  {
   "cell_type": "code",
   "execution_count": null,
   "metadata": {},
   "outputs": [],
   "source": [
    "from util.load_data import *\n",
    "from config.constants import *\n",
    "from util.plot_equity import plot_equity_trades\n",
    "from util.Save_result_return import save_to_csv"
   ]
  },
  {
   "cell_type": "code",
   "execution_count": null,
   "metadata": {},
   "outputs": [],
   "source": [
    "import pandas as pd\n",
    "import numpy as np\n",
    "import matplotlib.pyplot as plt\n",
    "from sklearn.linear_model import LinearRegression\n",
    "plt.style.use(\"seaborn-v0_8\")"
   ]
  },
  {
   "cell_type": "code",
   "execution_count": null,
   "metadata": {},
   "outputs": [],
   "source": [
    "from backtesting import Strategy"
   ]
  },
  {
   "cell_type": "markdown",
   "metadata": {},
   "source": [
    "## Getting the Data"
   ]
  },
  {
   "cell_type": "code",
   "execution_count": null,
   "metadata": {},
   "outputs": [],
   "source": [
    "XAUUSD = load_data()"
   ]
  },
  {
   "cell_type": "code",
   "execution_count": null,
   "metadata": {},
   "outputs": [],
   "source": [
    "XAUUSD['H4'].Close"
   ]
  },
  {
   "cell_type": "code",
   "execution_count": null,
   "metadata": {},
   "outputs": [],
   "source": [
    "XAUUSD['H4'].info()"
   ]
  },
  {
   "cell_type": "code",
   "execution_count": null,
   "metadata": {},
   "outputs": [],
   "source": [
    "XAUUSD['H4'].plot(figsize = (12, 8))\n",
    "plt.show()"
   ]
  },
  {
   "cell_type": "markdown",
   "metadata": {},
   "source": [
    "## ML"
   ]
  },
  {
   "cell_type": "markdown",
   "metadata": {},
   "source": [
    "### Class and Strategy ML"
   ]
  },
  {
   "cell_type": "code",
   "execution_count": null,
   "metadata": {},
   "outputs": [],
   "source": [
    "class Logistic_Regression(Strategy):\n",
    "\n",
    "    def init(self):\n",
    "        pass\n",
    "\n",
    "    def next(self):\n",
    "\n",
    "        if self.data.pred[-1] == 1:\n",
    "            if not self.position :\n",
    "                self.buy(size=1)\n",
    "            elif self.position.is_short:\n",
    "                self.position.close()\n",
    "                self.buy(size=1)\n",
    "            \n",
    "        elif self.data.pred[-1] == -1:\n",
    "            if not self.position:\n",
    "                self.sell(size=1)\n",
    "            elif self.position.is_long:\n",
    "                self.position.close()\n",
    "                self.sell(size=1)\n",
    "\n",
    "        "
   ]
  },
  {
   "cell_type": "code",
   "execution_count": null,
   "metadata": {},
   "outputs": [],
   "source": [
    "strategy = Logistic_Regression\n",
    "account_size = 10000\n",
    "folder_ML_Strategy = 'Logistic Regression'"
   ]
  },
  {
   "cell_type": "code",
   "execution_count": null,
   "metadata": {},
   "outputs": [],
   "source": [
    "from backtesting import Backtest\n",
    "import matplotlib.pyplot as plt\n",
    "from sklearn.linear_model import LogisticRegression\n",
    "import numpy as np\n",
    "import pandas as pd\n",
    "from util.Save_result_return import save_to_csv\n",
    "import sys\n",
    "sys.path.append('../../')\n",
    "\n",
    "\n",
    "plt.style.use(\"seaborn-v0_8\")\n",
    "\n",
    "\n",
    "class ML_Regression():\n",
    "\n",
    "    def __init__(self, data, strategy, start_train, start_test, end_train, end_test, TF):\n",
    "        self.data = data\n",
    "        self.strategy = strategy\n",
    "        self.start_train = start_train\n",
    "        self.start_test = start_test\n",
    "        self.end_train = end_train\n",
    "        self.end_test = end_test\n",
    "        self.TF = TF\n",
    "        self.data_train = None\n",
    "        self.data_test = None\n",
    "        self.results = None\n",
    "        self.model = None\n",
    "\n",
    "    def Prepare(self, lags=5):\n",
    "        data = self.data.loc[self.start_train:self.end_train].copy()\n",
    "        data[\"returns\"] = np.log(data['Close'].div(data['Close'].shift(1)))\n",
    "        data[\"return_signal\"] = data[\"returns\"].shift(-1)\n",
    "        data.dropna(inplace=True)\n",
    "        data[\"direction\"] = np.sign(data.return_signal)\n",
    "\n",
    "        cols = []\n",
    "\n",
    "        for lag in range(lags + 1):\n",
    "            col = \"lag{}\".format(lag)\n",
    "            data[col] = data['returns'].shift(lag)\n",
    "            cols.append(col)\n",
    "        data.dropna(inplace=True)\n",
    "\n",
    "        lm = LogisticRegression(C=1e6, max_iter=100000, multi_class=\"ovr\")\n",
    "        lm.fit(data[cols], data['direction'])\n",
    "        data[\"pred\"] = lm.predict(data[cols])\n",
    "        data['pred'] = np.sign(data['pred'])\n",
    "\n",
    "\n",
    "        self.model = lm\n",
    "        self.data_train = data\n",
    "\n",
    "    def Predict(self, lags=5):\n",
    "        data = self.data.loc[self.start_test:self.end_test].copy()\n",
    "        data[\"returns\"] = np.log(data['Close'].div(data['Close'].shift(1)))\n",
    "        cols = []\n",
    "\n",
    "        for lag in range(lags + 1):\n",
    "            col = \"lag{}\".format(lag)\n",
    "            data[col] = data['returns'].shift(lag)\n",
    "            cols.append(col)\n",
    "        data.dropna(inplace=True)\n",
    "\n",
    "        data[\"pred\"] = self.model.predict(data[cols])\n",
    "        data['pred'] = np.sign(data['pred'])\n",
    "\n",
    "        self.data_test = data\n",
    "\n",
    "    def Backtest(self, data, account_size=10000):\n",
    "        # Assuming you have a Backtest class that performs backtesting\n",
    "        backtest = Backtest(data, self.strategy,\n",
    "                            cash=account_size, margin=1/100, commission=0.0002)\n",
    "        result = backtest.run()\n",
    "        return result\n",
    "\n",
    "\n",
    "    def Run(self):\n",
    "        self.Prepare()\n",
    "        result_train = self.Backtest(self.data_train)\n",
    "        \n",
    "        self.Predict()\n",
    "        result_test = self.Backtest(self.data_test)\n",
    "        \n",
    "\n",
    "        return result_train, result_test"
   ]
  },
  {
   "cell_type": "markdown",
   "metadata": {},
   "source": [
    "## TF D1"
   ]
  },
  {
   "cell_type": "code",
   "execution_count": null,
   "metadata": {},
   "outputs": [],
   "source": [
    "data = XAUUSD['D1']\n",
    "start_train = '2007'\n",
    "start_test = '2020'\n",
    "end_train = '2019'\n",
    "end_test = '2023'\n",
    "TF = 'D1'"
   ]
  },
  {
   "cell_type": "code",
   "execution_count": null,
   "metadata": {},
   "outputs": [],
   "source": [
    "ml = ML_Regression(data,strategy,start_train,start_test,end_train,end_test,TF)"
   ]
  },
  {
   "cell_type": "code",
   "execution_count": null,
   "metadata": {},
   "outputs": [],
   "source": [
    "train , test = ml.Run()"
   ]
  },
  {
   "cell_type": "markdown",
   "metadata": {},
   "source": [
    "### In-Sample Backtesting"
   ]
  },
  {
   "cell_type": "code",
   "execution_count": null,
   "metadata": {},
   "outputs": [],
   "source": [
    "train"
   ]
  },
  {
   "cell_type": "code",
   "execution_count": null,
   "metadata": {},
   "outputs": [],
   "source": [
    "plot_equity_trades(train['_equity_curve'],\n",
    "                   f'XAUUSD_In_Sample_{TF}', account_size)"
   ]
  },
  {
   "cell_type": "markdown",
   "metadata": {},
   "source": [
    "### Out-Sample Backtesting"
   ]
  },
  {
   "cell_type": "code",
   "execution_count": null,
   "metadata": {},
   "outputs": [],
   "source": [
    "test"
   ]
  },
  {
   "cell_type": "code",
   "execution_count": null,
   "metadata": {},
   "outputs": [],
   "source": [
    "plot_equity_trades(test['_equity_curve'],\n",
    "                   f'XAUUSD_Out_Sample_{TF}', account_size)"
   ]
  },
  {
   "cell_type": "markdown",
   "metadata": {},
   "source": [
    "### Save result "
   ]
  },
  {
   "cell_type": "code",
   "execution_count": null,
   "metadata": {},
   "outputs": [],
   "source": [
    "filename_train = f'result_{TF}_In_Sample.csv'"
   ]
  },
  {
   "cell_type": "code",
   "execution_count": null,
   "metadata": {},
   "outputs": [],
   "source": [
    "save_to_csv(\n",
    "    train, f'../../out/Machine_Learning/{folder_ML_Strategy}/Backtest/{filename_train}')"
   ]
  },
  {
   "cell_type": "code",
   "execution_count": null,
   "metadata": {},
   "outputs": [],
   "source": [
    "filename_test = f'result_{TF}_Out_Sample.csv'"
   ]
  },
  {
   "cell_type": "code",
   "execution_count": null,
   "metadata": {},
   "outputs": [],
   "source": [
    "save_to_csv(\n",
    "    test, f'../../out/Machine_Learning/{folder_ML_Strategy}/Backtest/{filename_test}')"
   ]
  },
  {
   "cell_type": "markdown",
   "metadata": {},
   "source": [
    "## TF H4"
   ]
  },
  {
   "cell_type": "code",
   "execution_count": null,
   "metadata": {},
   "outputs": [],
   "source": [
    "data = XAUUSD['H4']\n",
    "start_train = '2007'\n",
    "start_test = '2020'\n",
    "end_train = '2019'\n",
    "end_test = '2023'\n",
    "TF = 'H4'"
   ]
  },
  {
   "cell_type": "code",
   "execution_count": null,
   "metadata": {},
   "outputs": [],
   "source": [
    "ml = ML_Regression(data,strategy,start_train,start_test,end_train,end_test,TF)"
   ]
  },
  {
   "cell_type": "code",
   "execution_count": null,
   "metadata": {},
   "outputs": [],
   "source": [
    "train , test = ml.Run()"
   ]
  },
  {
   "cell_type": "markdown",
   "metadata": {},
   "source": [
    "### In-Sample Backtesting"
   ]
  },
  {
   "cell_type": "code",
   "execution_count": null,
   "metadata": {},
   "outputs": [],
   "source": [
    "train"
   ]
  },
  {
   "cell_type": "code",
   "execution_count": null,
   "metadata": {},
   "outputs": [],
   "source": [
    "plot_equity_trades(train['_equity_curve'],\n",
    "                   f'XAUUSD_In_Sample_{TF}', account_size)"
   ]
  },
  {
   "cell_type": "markdown",
   "metadata": {},
   "source": [
    "### Out-Sample Backtesting"
   ]
  },
  {
   "cell_type": "code",
   "execution_count": null,
   "metadata": {},
   "outputs": [],
   "source": [
    "test"
   ]
  },
  {
   "cell_type": "code",
   "execution_count": null,
   "metadata": {},
   "outputs": [],
   "source": [
    "plot_equity_trades(test['_equity_curve'],\n",
    "                   f'XAUUSD_Out_Sample_{TF}', account_size)"
   ]
  },
  {
   "cell_type": "markdown",
   "metadata": {},
   "source": [
    "### Save result "
   ]
  },
  {
   "cell_type": "code",
   "execution_count": null,
   "metadata": {},
   "outputs": [],
   "source": [
    "filename_train = f'result_{TF}_In_Sample.csv'"
   ]
  },
  {
   "cell_type": "code",
   "execution_count": null,
   "metadata": {},
   "outputs": [],
   "source": [
    "save_to_csv(\n",
    "    train, f'../../out/Machine_Learning/{folder_ML_Strategy}/Backtest/{filename_train}')"
   ]
  },
  {
   "cell_type": "code",
   "execution_count": null,
   "metadata": {},
   "outputs": [],
   "source": [
    "filename_test = f'result_{TF}_Out_Sample.csv'"
   ]
  },
  {
   "cell_type": "code",
   "execution_count": null,
   "metadata": {},
   "outputs": [],
   "source": [
    "save_to_csv(\n",
    "    test, f'../../out/Machine_Learning/{folder_ML_Strategy}/Backtest/{filename_test}')"
   ]
  },
  {
   "cell_type": "markdown",
   "metadata": {},
   "source": [
    "## TF H1"
   ]
  },
  {
   "cell_type": "code",
   "execution_count": null,
   "metadata": {},
   "outputs": [],
   "source": [
    "data = XAUUSD['H1']\n",
    "start_train = '2007'\n",
    "start_test = '2020'\n",
    "end_train = '2019'\n",
    "end_test = '2023'\n",
    "TF = 'H1'"
   ]
  },
  {
   "cell_type": "code",
   "execution_count": null,
   "metadata": {},
   "outputs": [],
   "source": [
    "ml = ML_Regression(data,strategy,start_train,start_test,end_train,end_test,TF)"
   ]
  },
  {
   "cell_type": "code",
   "execution_count": null,
   "metadata": {},
   "outputs": [],
   "source": [
    "train , test = ml.Run()"
   ]
  },
  {
   "cell_type": "markdown",
   "metadata": {},
   "source": [
    "### In-Sample Backtesting"
   ]
  },
  {
   "cell_type": "code",
   "execution_count": null,
   "metadata": {},
   "outputs": [],
   "source": [
    "train"
   ]
  },
  {
   "cell_type": "code",
   "execution_count": null,
   "metadata": {},
   "outputs": [],
   "source": [
    "plot_equity_trades(train['_equity_curve'],\n",
    "                   f'XAUUSD_In_Sample_{TF}', account_size)"
   ]
  },
  {
   "cell_type": "markdown",
   "metadata": {},
   "source": [
    "### Out-Sample Backtesting"
   ]
  },
  {
   "cell_type": "code",
   "execution_count": null,
   "metadata": {},
   "outputs": [],
   "source": [
    "test"
   ]
  },
  {
   "cell_type": "code",
   "execution_count": null,
   "metadata": {},
   "outputs": [],
   "source": [
    "plot_equity_trades(test['_equity_curve'],\n",
    "                   f'XAUUSD_Out_Sample_{TF}', account_size)"
   ]
  },
  {
   "cell_type": "markdown",
   "metadata": {},
   "source": [
    "### Save result "
   ]
  },
  {
   "cell_type": "code",
   "execution_count": null,
   "metadata": {},
   "outputs": [],
   "source": [
    "filename_train = f'result_{TF}_In_Sample.csv'"
   ]
  },
  {
   "cell_type": "code",
   "execution_count": null,
   "metadata": {},
   "outputs": [],
   "source": [
    "save_to_csv(\n",
    "    train, f'../../out/Machine_Learning/{folder_ML_Strategy}/Backtest/{filename_train}')"
   ]
  },
  {
   "cell_type": "code",
   "execution_count": null,
   "metadata": {},
   "outputs": [],
   "source": [
    "filename_test = f'result_{TF}_Out_Sample.csv'"
   ]
  },
  {
   "cell_type": "code",
   "execution_count": null,
   "metadata": {},
   "outputs": [],
   "source": [
    "save_to_csv(\n",
    "    test, f'../../out/Machine_Learning/{folder_ML_Strategy}/Backtest/{filename_test}')"
   ]
  },
  {
   "cell_type": "markdown",
   "metadata": {},
   "source": [
    "## TF M30"
   ]
  },
  {
   "cell_type": "code",
   "execution_count": null,
   "metadata": {},
   "outputs": [],
   "source": [
    "data = XAUUSD['M30']\n",
    "start_train = '2007'\n",
    "start_test = '2020'\n",
    "end_train = '2019'\n",
    "end_test = '2023'\n",
    "TF = 'M30'"
   ]
  },
  {
   "cell_type": "code",
   "execution_count": null,
   "metadata": {},
   "outputs": [],
   "source": [
    "ml = ML_Regression(data,strategy,start_train,start_test,end_train,end_test,TF)"
   ]
  },
  {
   "cell_type": "code",
   "execution_count": null,
   "metadata": {},
   "outputs": [],
   "source": [
    "train , test = ml.Run()"
   ]
  },
  {
   "cell_type": "markdown",
   "metadata": {},
   "source": [
    "### In-Sample Backtesting"
   ]
  },
  {
   "cell_type": "code",
   "execution_count": null,
   "metadata": {},
   "outputs": [],
   "source": [
    "train"
   ]
  },
  {
   "cell_type": "code",
   "execution_count": null,
   "metadata": {},
   "outputs": [],
   "source": [
    "plot_equity_trades(train['_equity_curve'],\n",
    "                   f'XAUUSD_Out_Sample_{TF}', account_size)"
   ]
  },
  {
   "cell_type": "markdown",
   "metadata": {},
   "source": [
    "### Out-Sample Backtesting"
   ]
  },
  {
   "cell_type": "code",
   "execution_count": null,
   "metadata": {},
   "outputs": [],
   "source": [
    "test"
   ]
  },
  {
   "cell_type": "code",
   "execution_count": null,
   "metadata": {},
   "outputs": [],
   "source": [
    "plot_equity_trades(test['_equity_curve'],\n",
    "                   f'XAUUSD_Out_Sample_{TF}', account_size)"
   ]
  },
  {
   "cell_type": "markdown",
   "metadata": {},
   "source": [
    "### Save result "
   ]
  },
  {
   "cell_type": "code",
   "execution_count": null,
   "metadata": {},
   "outputs": [],
   "source": [
    "filename_train = f'result_{TF}_In_Sample.csv'"
   ]
  },
  {
   "cell_type": "code",
   "execution_count": null,
   "metadata": {},
   "outputs": [],
   "source": [
    "save_to_csv(\n",
    "    train, f'../../out/Machine_Learning/{folder_ML_Strategy}/Backtest/{filename_train}')"
   ]
  },
  {
   "cell_type": "code",
   "execution_count": null,
   "metadata": {},
   "outputs": [],
   "source": [
    "filename_test = f'result_{TF}_Out_Sample.csv'"
   ]
  },
  {
   "cell_type": "code",
   "execution_count": null,
   "metadata": {},
   "outputs": [],
   "source": [
    "save_to_csv(\n",
    "    test, f'../../out/Machine_Learning/{folder_ML_Strategy}/Backtest/{filename_test}')"
   ]
  },
  {
   "cell_type": "markdown",
   "metadata": {},
   "source": [
    "## TF M15"
   ]
  },
  {
   "cell_type": "code",
   "execution_count": null,
   "metadata": {},
   "outputs": [],
   "source": [
    "data = XAUUSD['M15']\n",
    "start_train = '2014'\n",
    "start_test = '2020'\n",
    "end_train = '2019'\n",
    "end_test = '2023'\n",
    "TF = 'M15'"
   ]
  },
  {
   "cell_type": "code",
   "execution_count": null,
   "metadata": {},
   "outputs": [],
   "source": [
    "ml = ML_Regression(data,strategy,start_train,start_test,end_train,end_test,TF)"
   ]
  },
  {
   "cell_type": "code",
   "execution_count": null,
   "metadata": {},
   "outputs": [],
   "source": [
    "train , test = ml.Run()"
   ]
  },
  {
   "cell_type": "markdown",
   "metadata": {},
   "source": [
    "### In-Sample Backtesting"
   ]
  },
  {
   "cell_type": "code",
   "execution_count": null,
   "metadata": {},
   "outputs": [],
   "source": [
    "train"
   ]
  },
  {
   "cell_type": "code",
   "execution_count": null,
   "metadata": {},
   "outputs": [],
   "source": [
    "plot_equity_trades(train['_equity_curve'],\n",
    "                   f'XAUUSD_In_Sample_{TF}', account_size)"
   ]
  },
  {
   "cell_type": "markdown",
   "metadata": {},
   "source": [
    "### Out-Sample Backtesting"
   ]
  },
  {
   "cell_type": "code",
   "execution_count": null,
   "metadata": {},
   "outputs": [],
   "source": [
    "test"
   ]
  },
  {
   "cell_type": "code",
   "execution_count": null,
   "metadata": {},
   "outputs": [],
   "source": [
    "plot_equity_trades(test['_equity_curve'],\n",
    "                   f'XAUUSD_Out_Sample_{TF}', account_size)"
   ]
  },
  {
   "cell_type": "markdown",
   "metadata": {},
   "source": [
    "### Save result "
   ]
  },
  {
   "cell_type": "code",
   "execution_count": null,
   "metadata": {},
   "outputs": [],
   "source": [
    "filename_train = f'result_{TF}_In_Sample.csv'"
   ]
  },
  {
   "cell_type": "code",
   "execution_count": null,
   "metadata": {},
   "outputs": [],
   "source": [
    "save_to_csv(\n",
    "    train, f'../../out/Machine_Learning/{folder_ML_Strategy}/Backtest/{filename_train}')"
   ]
  },
  {
   "cell_type": "code",
   "execution_count": null,
   "metadata": {},
   "outputs": [],
   "source": [
    "filename_test = f'result_{TF}_Out_Sample.csv'"
   ]
  },
  {
   "cell_type": "code",
   "execution_count": null,
   "metadata": {},
   "outputs": [],
   "source": [
    "save_to_csv(\n",
    "    test, f'../../out/Machine_Learning/{folder_ML_Strategy}/Backtest/{filename_test}')"
   ]
  },
  {
   "cell_type": "markdown",
   "metadata": {},
   "source": [
    "## TF M5"
   ]
  },
  {
   "cell_type": "code",
   "execution_count": null,
   "metadata": {},
   "outputs": [],
   "source": [
    "data = XAUUSD['M5']\n",
    "start_train = '2020'\n",
    "start_test = '2023'\n",
    "end_train = '2022'\n",
    "end_test = '2023'\n",
    "TF = 'M5'"
   ]
  },
  {
   "cell_type": "code",
   "execution_count": null,
   "metadata": {},
   "outputs": [],
   "source": [
    "ml = ML_Regression(data,strategy,start_train,start_test,end_train,end_test,TF)"
   ]
  },
  {
   "cell_type": "code",
   "execution_count": null,
   "metadata": {},
   "outputs": [],
   "source": [
    "train , test = ml.Run()"
   ]
  },
  {
   "cell_type": "markdown",
   "metadata": {},
   "source": [
    "### In-Sample Backtesting"
   ]
  },
  {
   "cell_type": "code",
   "execution_count": null,
   "metadata": {},
   "outputs": [],
   "source": [
    "train"
   ]
  },
  {
   "cell_type": "code",
   "execution_count": null,
   "metadata": {},
   "outputs": [],
   "source": [
    "plot_equity_trades(train['_equity_curve'],\n",
    "                   f'XAUUSD_In_Sample_{TF}', account_size)"
   ]
  },
  {
   "cell_type": "markdown",
   "metadata": {},
   "source": [
    "### Out-Sample Backtesting"
   ]
  },
  {
   "cell_type": "code",
   "execution_count": null,
   "metadata": {},
   "outputs": [],
   "source": [
    "test"
   ]
  },
  {
   "cell_type": "code",
   "execution_count": null,
   "metadata": {},
   "outputs": [],
   "source": [
    "plot_equity_trades(test['_equity_curve'],\n",
    "                   f'XAUUSD_Out_Sample_{TF}', account_size)"
   ]
  },
  {
   "cell_type": "markdown",
   "metadata": {},
   "source": [
    "### Save result "
   ]
  },
  {
   "cell_type": "code",
   "execution_count": null,
   "metadata": {},
   "outputs": [],
   "source": [
    "filename_train = f'result_{TF}_In_Sample.csv'"
   ]
  },
  {
   "cell_type": "code",
   "execution_count": null,
   "metadata": {},
   "outputs": [],
   "source": [
    "save_to_csv(\n",
    "    train, f'../../out/Machine_Learning/{folder_ML_Strategy}/Backtest/{filename_train}')"
   ]
  },
  {
   "cell_type": "code",
   "execution_count": null,
   "metadata": {},
   "outputs": [],
   "source": [
    "filename_test = f'result_{TF}_Out_Sample.csv'"
   ]
  },
  {
   "cell_type": "code",
   "execution_count": null,
   "metadata": {},
   "outputs": [],
   "source": [
    "save_to_csv(\n",
    "    test, f'../../out/Machine_Learning/{folder_ML_Strategy}/Backtest/{filename_test}')"
   ]
  },
  {
   "cell_type": "markdown",
   "metadata": {},
   "source": [
    "## TF M1"
   ]
  },
  {
   "cell_type": "code",
   "execution_count": null,
   "metadata": {},
   "outputs": [],
   "source": [
    "data = XAUUSD['M1']\n",
    "start_train = '2022'\n",
    "start_test = '2023'\n",
    "end_train = '2022'\n",
    "end_test = '2023'\n",
    "TF = 'M1'"
   ]
  },
  {
   "cell_type": "code",
   "execution_count": null,
   "metadata": {},
   "outputs": [],
   "source": [
    "ml = ML_Regression(data,strategy,start_train,start_test,end_train,end_test,TF)"
   ]
  },
  {
   "cell_type": "code",
   "execution_count": null,
   "metadata": {},
   "outputs": [],
   "source": [
    "train , test = ml.Run()"
   ]
  },
  {
   "cell_type": "markdown",
   "metadata": {},
   "source": [
    "### In-Sample Backtesting"
   ]
  },
  {
   "cell_type": "code",
   "execution_count": null,
   "metadata": {},
   "outputs": [],
   "source": [
    "train"
   ]
  },
  {
   "cell_type": "code",
   "execution_count": null,
   "metadata": {},
   "outputs": [],
   "source": [
    "plot_equity_trades(train['_equity_curve'],\n",
    "                   f'XAUUSD_In_Sample_{TF}', account_size)"
   ]
  },
  {
   "cell_type": "markdown",
   "metadata": {},
   "source": [
    "### Out-Sample Backtesting"
   ]
  },
  {
   "cell_type": "code",
   "execution_count": null,
   "metadata": {},
   "outputs": [],
   "source": [
    "test"
   ]
  },
  {
   "cell_type": "code",
   "execution_count": null,
   "metadata": {},
   "outputs": [],
   "source": [
    "plot_equity_trades(test['_equity_curve'],\n",
    "                   f'XAUUSD_Out_Sample_{TF}', account_size)"
   ]
  },
  {
   "cell_type": "markdown",
   "metadata": {},
   "source": [
    "### Save result "
   ]
  },
  {
   "cell_type": "code",
   "execution_count": null,
   "metadata": {},
   "outputs": [],
   "source": [
    "filename_train = f'result_{TF}_In_Sample.csv'"
   ]
  },
  {
   "cell_type": "code",
   "execution_count": null,
   "metadata": {},
   "outputs": [],
   "source": [
    "save_to_csv(\n",
    "    train, f'../../out/Machine_Learning/{folder_ML_Strategy}/Backtest/{filename_train}')"
   ]
  },
  {
   "cell_type": "code",
   "execution_count": null,
   "metadata": {},
   "outputs": [],
   "source": [
    "filename_test = f'result_{TF}_Out_Sample.csv'"
   ]
  },
  {
   "cell_type": "code",
   "execution_count": null,
   "metadata": {},
   "outputs": [],
   "source": [
    "save_to_csv(\n",
    "    test, f'../../out/Machine_Learning/{folder_ML_Strategy}/Backtest/{filename_test}')"
   ]
  }
 ],
 "metadata": {
  "kernelspec": {
   "display_name": "base",
   "language": "python",
   "name": "python3"
  },
  "language_info": {
   "codemirror_mode": {
    "name": "ipython",
    "version": 3
   },
   "file_extension": ".py",
   "mimetype": "text/x-python",
   "name": "python",
   "nbconvert_exporter": "python",
   "pygments_lexer": "ipython3",
   "version": "3.10.9"
  }
 },
 "nbformat": 4,
 "nbformat_minor": 2
}
