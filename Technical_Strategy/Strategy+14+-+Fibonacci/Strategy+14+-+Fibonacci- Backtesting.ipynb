{
 "cells": [
  {
   "cell_type": "markdown",
   "metadata": {},
   "source": [
    "# Fibonacci Strategies"
   ]
  },
  {
   "cell_type": "markdown",
   "metadata": {},
   "source": [
    "## Import Library"
   ]
  },
  {
   "cell_type": "code",
   "execution_count": 1,
   "metadata": {},
   "outputs": [],
   "source": [
    "import sys\n",
    "sys.path.append('../../')"
   ]
  },
  {
   "cell_type": "code",
   "execution_count": 2,
   "metadata": {},
   "outputs": [],
   "source": [
    "from config.constants import *\n",
    "from backtesting import Backtest\n",
    "from util.plot_equity import plot_equity_trades\n",
    "from util.load_data import load_data\n",
    "from Fibonacci import Fibonacci , PrepareData\n",
    "from util.Save_result_return import save_to_csv\n"
   ]
  },
  {
   "cell_type": "markdown",
   "metadata": {},
   "source": [
    "## Get Data"
   ]
  },
  {
   "cell_type": "code",
   "execution_count": 3,
   "metadata": {},
   "outputs": [],
   "source": [
    "XAUUSD = load_data()"
   ]
  },
  {
   "cell_type": "code",
   "execution_count": 4,
   "metadata": {},
   "outputs": [
    {
     "name": "stdout",
     "output_type": "stream",
     "text": [
      "<class 'pandas.core.frame.DataFrame'>\n",
      "DatetimeIndex: 5043 entries, 2007-01-01 to 2023-03-10\n",
      "Data columns (total 5 columns):\n",
      " #   Column  Non-Null Count  Dtype  \n",
      "---  ------  --------------  -----  \n",
      " 0   Open    5043 non-null   float64\n",
      " 1   High    5043 non-null   float64\n",
      " 2   Low     5043 non-null   float64\n",
      " 3   Close   5043 non-null   float64\n",
      " 4   Volume  5043 non-null   int64  \n",
      "dtypes: float64(4), int64(1)\n",
      "memory usage: 236.4 KB\n"
     ]
    }
   ],
   "source": [
    "XAUUSD['D1'].info()"
   ]
  },
  {
   "cell_type": "markdown",
   "metadata": {},
   "source": [
    "## Define Strategy"
   ]
  },
  {
   "cell_type": "code",
   "execution_count": 5,
   "metadata": {},
   "outputs": [],
   "source": [
    "strategy = Fibonacci"
   ]
  },
  {
   "cell_type": "code",
   "execution_count": 6,
   "metadata": {},
   "outputs": [],
   "source": [
    "account_size = 10000"
   ]
  },
  {
   "cell_type": "markdown",
   "metadata": {},
   "source": [
    "## Prepare Data"
   ]
  },
  {
   "cell_type": "code",
   "execution_count": 7,
   "metadata": {},
   "outputs": [],
   "source": [
    "data_D1 = PrepareData(XAUUSD['D1'])"
   ]
  },
  {
   "cell_type": "code",
   "execution_count": 11,
   "metadata": {},
   "outputs": [],
   "source": [
    "data_H4 = PrepareData(XAUUSD['H4'])"
   ]
  },
  {
   "cell_type": "code",
   "execution_count": null,
   "metadata": {},
   "outputs": [],
   "source": [
    "data_M30 = PrepareData(XAUUSD['M30'])"
   ]
  },
  {
   "cell_type": "code",
   "execution_count": 7,
   "metadata": {},
   "outputs": [],
   "source": [
    "data_H1 = PrepareData(XAUUSD['H1'], order=30)"
   ]
  },
  {
   "cell_type": "markdown",
   "metadata": {},
   "source": [
    "# Backtest each time frame"
   ]
  },
  {
   "cell_type": "markdown",
   "metadata": {},
   "source": [
    "## TF D1"
   ]
  },
  {
   "cell_type": "code",
   "execution_count": 8,
   "metadata": {},
   "outputs": [
    {
     "data": {
      "text/plain": [
       "Start                     2007-01-01 00:00:00\n",
       "End                       2023-03-10 00:00:00\n",
       "Duration                   5912 days 00:00:00\n",
       "Exposure Time [%]                   21.158041\n",
       "Equity Final [$]                          0.0\n",
       "Equity Peak [$]                  11342.650597\n",
       "Return [%]                             -100.0\n",
       "Buy & Hold Return [%]               193.12344\n",
       "Return (Ann.) [%]                         0.0\n",
       "Volatility (Ann.) [%]              198.003605\n",
       "Sharpe Ratio                              0.0\n",
       "Sortino Ratio                             0.0\n",
       "Calmar Ratio                              0.0\n",
       "Max. Drawdown [%]                      -100.0\n",
       "Avg. Drawdown [%]                  -24.376793\n",
       "Max. Drawdown Duration     5231 days 00:00:00\n",
       "Avg. Drawdown Duration      842 days 00:00:00\n",
       "# Trades                                   14\n",
       "Win Rate [%]                              0.0\n",
       "Best Trade [%]                     -10.497679\n",
       "Worst Trade [%]                    -98.808494\n",
       "Avg. Trade [%]                     -63.344867\n",
       "Max. Trade Duration        1244 days 00:00:00\n",
       "Avg. Trade Duration         681 days 00:00:00\n",
       "Profit Factor                             0.0\n",
       "Expectancy [%]                     -47.087263\n",
       "SQN                                 -8.071294\n",
       "_strategy                           Fibonacci\n",
       "_equity_curve                          Equ...\n",
       "_trades                       Size  EntryB...\n",
       "dtype: object"
      ]
     },
     "execution_count": 8,
     "metadata": {},
     "output_type": "execute_result"
    }
   ],
   "source": [
    "Backtest_D1 = Backtest(data_D1, strategy, cash=account_size, margin=1/100,  commission=0.0002 )\n",
    "result_D1 = Backtest_D1.run()\n",
    "result_D1"
   ]
  },
  {
   "cell_type": "code",
   "execution_count": 9,
   "metadata": {},
   "outputs": [
    {
     "data": {
      "image/png": "[encoded data removed]",
      "text/plain": [
       "<Figure size 640x480 with 1 Axes>"
      ]
     },
     "metadata": {},
     "output_type": "display_data"
    }
   ],
   "source": [
    "plot_equity_trades(result_D1['_equity_curve'],'XAUUSD_D1' , account_size)"
   ]
  },
  {
   "cell_type": "markdown",
   "metadata": {},
   "source": [
    "### Save output"
   ]
  },
  {
   "cell_type": "code",
   "execution_count": 10,
   "metadata": {},
   "outputs": [],
   "source": [
    "save_to_csv(result_D1, '../../out/Technical_Strategy/Fibonacci/Backtest/result_D1.csv')  "
   ]
  },
  {
   "cell_type": "markdown",
   "metadata": {},
   "source": [
    "## TF H4"
   ]
  },
  {
   "cell_type": "code",
   "execution_count": 12,
   "metadata": {},
   "outputs": [
    {
     "data": {
      "text/plain": [
       "Start                     2007-01-01 00:00:00\n",
       "End                       2023-03-10 16:00:00\n",
       "Duration                   5912 days 16:00:00\n",
       "Exposure Time [%]                   13.254543\n",
       "Equity Final [$]                          0.0\n",
       "Equity Peak [$]                    15343.3489\n",
       "Return [%]                             -100.0\n",
       "Buy & Hold Return [%]              193.329158\n",
       "Return (Ann.) [%]                         0.0\n",
       "Volatility (Ann.) [%]              536.217442\n",
       "Sharpe Ratio                              0.0\n",
       "Sortino Ratio                             0.0\n",
       "Calmar Ratio                              0.0\n",
       "Max. Drawdown [%]                      -100.0\n",
       "Avg. Drawdown [%]                  -19.931089\n",
       "Max. Drawdown Duration     5250 days 08:00:00\n",
       "Avg. Drawdown Duration      394 days 00:00:00\n",
       "# Trades                                   34\n",
       "Win Rate [%]                         2.941176\n",
       "Best Trade [%]                       1.862869\n",
       "Worst Trade [%]                    -51.234064\n",
       "Avg. Trade [%]                     -23.762834\n",
       "Max. Trade Duration         777 days 04:00:00\n",
       "Avg. Trade Duration         358 days 23:00:00\n",
       "Profit Factor                        0.002554\n",
       "Expectancy [%]                     -21.398421\n",
       "SQN                                 -7.824359\n",
       "_strategy                           Fibonacci\n",
       "_equity_curve                             ...\n",
       "_trades                       Size  EntryB...\n",
       "dtype: object"
      ]
     },
     "execution_count": 12,
     "metadata": {},
     "output_type": "execute_result"
    }
   ],
   "source": [
    "Backtest_H4 = Backtest(data_H4, strategy,\n",
    "                       cash=account_size, margin=1/100,  commission=0.0002 )\n",
    "result_H4 = Backtest_H4.run()\n",
    "result_H4"
   ]
  },
  {
   "cell_type": "code",
   "execution_count": 13,
   "metadata": {},
   "outputs": [
    {
     "data": {
      "image/png": "[encoded data removed]",
      "text/plain": [
       "<Figure size 640x480 with 1 Axes>"
      ]
     },
     "metadata": {},
     "output_type": "display_data"
    }
   ],
   "source": [
    "plot_equity_trades(result_H4['_equity_curve'], 'XAUUSD_H4' , account_size)"
   ]
  },
  {
   "cell_type": "markdown",
   "metadata": {},
   "source": [
    "### Save output"
   ]
  },
  {
   "cell_type": "code",
   "execution_count": 14,
   "metadata": {},
   "outputs": [],
   "source": [
    "save_to_csv(result_H4, '../../out/Technical_Strategy/Fibonacci/Backtest/result_H4.csv')  "
   ]
  },
  {
   "cell_type": "markdown",
   "metadata": {},
   "source": [
    "## TF H1"
   ]
  },
  {
   "cell_type": "code",
   "execution_count": 8,
   "metadata": {},
   "outputs": [
    {
     "data": {
      "text/plain": [
       "Start                     2007-01-01 00:00:00\n",
       "End                       2023-03-10 17:00:00\n",
       "Duration                   5912 days 17:00:00\n",
       "Exposure Time [%]                    4.565408\n",
       "Equity Final [$]                          0.0\n",
       "Equity Peak [$]                  12163.251738\n",
       "Return [%]                             -100.0\n",
       "Buy & Hold Return [%]               193.27055\n",
       "Return (Ann.) [%]                         0.0\n",
       "Volatility (Ann.) [%]              566.176086\n",
       "Sharpe Ratio                              0.0\n",
       "Sortino Ratio                             0.0\n",
       "Calmar Ratio                              0.0\n",
       "Max. Drawdown [%]                      -100.0\n",
       "Avg. Drawdown [%]                  -10.599368\n",
       "Max. Drawdown Duration     5685 days 01:00:00\n",
       "Avg. Drawdown Duration      257 days 02:00:00\n",
       "# Trades                                   86\n",
       "Win Rate [%]                              0.0\n",
       "Best Trade [%]                      -1.001999\n",
       "Worst Trade [%]                    -18.167995\n",
       "Avg. Trade [%]                      -9.278323\n",
       "Max. Trade Duration         260 days 06:00:00\n",
       "Avg. Trade Duration         138 days 08:00:00\n",
       "Profit Factor                             0.0\n",
       "Expectancy [%]                       -9.23013\n",
       "SQN                                -31.904075\n",
       "_strategy                           Fibonacci\n",
       "_equity_curve                             ...\n",
       "_trades                       Size  EntryB...\n",
       "dtype: object"
      ]
     },
     "execution_count": 8,
     "metadata": {},
     "output_type": "execute_result"
    }
   ],
   "source": [
    "Backtest_H1 = Backtest(data_H1, strategy,\n",
    "                       cash= account_size, margin=1/100,  commission=0.0002 )\n",
    "result_H1 = Backtest_H1.run()\n",
    "result_H1"
   ]
  },
  {
   "cell_type": "code",
   "execution_count": 9,
   "metadata": {},
   "outputs": [
    {
     "data": {
      "image/png": "[encoded data removed]",
      "text/plain": [
       "<Figure size 640x480 with 1 Axes>"
      ]
     },
     "metadata": {},
     "output_type": "display_data"
    }
   ],
   "source": [
    "plot_equity_trades(result_H1['_equity_curve'], 'XAUUSD_H1', account_size)"
   ]
  },
  {
   "cell_type": "markdown",
   "metadata": {},
   "source": [
    "### Save output"
   ]
  },
  {
   "cell_type": "code",
   "execution_count": null,
   "metadata": {},
   "outputs": [],
   "source": [
    "save_to_csv(result_H1, '../../out/Technical_Strategy/Fibonacci/Backtest/result_H1.csv')  "
   ]
  },
  {
   "cell_type": "markdown",
   "metadata": {},
   "source": [
    "## TF M30 "
   ]
  },
  {
   "cell_type": "code",
   "execution_count": null,
   "metadata": {},
   "outputs": [],
   "source": [
    "Backtest_M30 = Backtest(data_M30, strategy,\n",
    "                       cash=account_size, margin=1/100,  commission=0.0002 )\n",
    "result_M30 = Backtest_M30.run()\n",
    "result_M30"
   ]
  },
  {
   "cell_type": "code",
   "execution_count": null,
   "metadata": {},
   "outputs": [],
   "source": [
    "plot_equity_trades(result_M30['_equity_curve'], 'XAUUSD_M30', account_size)"
   ]
  },
  {
   "cell_type": "markdown",
   "metadata": {},
   "source": [
    "### Save output"
   ]
  },
  {
   "cell_type": "code",
   "execution_count": null,
   "metadata": {},
   "outputs": [],
   "source": [
    "save_to_csv(result_M30, '../../out/Technical_Strategy/Fibonacci/Backtest/result_M30.csv')  "
   ]
  }
 ],
 "metadata": {
  "kernelspec": {
   "display_name": "base",
   "language": "python",
   "name": "python3"
  },
  "language_info": {
   "codemirror_mode": {
    "name": "ipython",
    "version": 3
   },
   "file_extension": ".py",
   "mimetype": "text/x-python",
   "name": "python",
   "nbconvert_exporter": "python",
   "pygments_lexer": "ipython3",
   "version": "3.10.9"
  }
 },
 "nbformat": 4,
 "nbformat_minor": 2
}
