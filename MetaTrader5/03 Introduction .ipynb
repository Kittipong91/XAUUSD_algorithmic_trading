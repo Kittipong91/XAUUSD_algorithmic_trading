{
 "cells": [
  {
   "cell_type": "markdown",
   "id": "30957071",
   "metadata": {},
   "source": [
    "# Chapter 03: INTRODUCTION\n",
    "\n",
    "📈Join our community: https://discord.gg/wXjNPAc5BH\n",
    "\n",
    "📚Read our book: https://www.amazon.com/gp/product/B09HG18CYL \n",
    "\n",
    "🖥️Quantreo's YouTube channel: https://www.youtube.com/channel/UCp7jckfiEglNf_Gj62VR0pw"
   ]
  },
  {
   "cell_type": "code",
   "execution_count": 1,
   "id": "f306305d",
   "metadata": {},
   "outputs": [
    {
     "name": "stdout",
     "output_type": "stream",
     "text": [
      "Collecting ta\n",
      "  Using cached ta-0.10.2.tar.gz (25 kB)\n",
      "  Preparing metadata (setup.py): started\n",
      "  Preparing metadata (setup.py): finished with status 'done'\n",
      "Requirement already satisfied: numpy in c:\\users\\win10\\anaconda3\\lib\\site-packages (from ta) (1.23.5)\n",
      "Requirement already satisfied: pandas in c:\\users\\win10\\anaconda3\\lib\\site-packages (from ta) (1.5.3)\n",
      "Requirement already satisfied: python-dateutil>=2.8.1 in c:\\users\\win10\\anaconda3\\lib\\site-packages (from pandas->ta) (2.8.2)\n",
      "Requirement already satisfied: pytz>=2020.1 in c:\\users\\win10\\anaconda3\\lib\\site-packages (from pandas->ta) (2022.7)\n",
      "Requirement already satisfied: six>=1.5 in c:\\users\\win10\\anaconda3\\lib\\site-packages (from python-dateutil>=2.8.1->pandas->ta) (1.16.0)\n",
      "Building wheels for collected packages: ta\n",
      "  Building wheel for ta (setup.py): started\n",
      "  Building wheel for ta (setup.py): finished with status 'done'\n",
      "  Created wheel for ta: filename=ta-0.10.2-py3-none-any.whl size=29098 sha256=1c6e108e2913b87a1bcb2c665254d98d88a8a9b5e1556657b512a503ae82843b\n",
      "  Stored in directory: c:\\users\\win10\\appdata\\local\\pip\\cache\\wheels\\fa\\3a\\7e\\8fc53b0c1f925b355fca4fd772dadaeff580720ac3cc36d5f7\n",
      "Successfully built ta\n",
      "Installing collected packages: ta\n",
      "Successfully installed ta-0.10.2\n",
      "Collecting datetime\n",
      "  Downloading DateTime-5.2-py3-none-any.whl (52 kB)\n",
      "     ---------------------------------------- 52.2/52.2 kB 1.4 MB/s eta 0:00:00\n",
      "Requirement already satisfied: zope.interface in c:\\users\\win10\\anaconda3\\lib\\site-packages (from datetime) (5.4.0)\n",
      "Requirement already satisfied: pytz in c:\\users\\win10\\anaconda3\\lib\\site-packages (from datetime) (2022.7)\n",
      "Requirement already satisfied: setuptools in c:\\users\\win10\\anaconda3\\lib\\site-packages (from zope.interface->datetime) (65.6.3)\n",
      "Installing collected packages: datetime\n",
      "Successfully installed datetime-5.2\n",
      "Collecting MetaTrader5\n",
      "  Downloading MetaTrader5-5.0.45-cp310-cp310-win_amd64.whl (49 kB)\n",
      "     ---------------------------------------- 49.9/49.9 kB 2.5 MB/s eta 0:00:00\n",
      "Requirement already satisfied: numpy>=1.7 in c:\\users\\win10\\anaconda3\\lib\\site-packages (from MetaTrader5) (1.23.5)\n",
      "Installing collected packages: MetaTrader5\n",
      "Successfully installed MetaTrader5-5.0.45\n"
     ]
    }
   ],
   "source": [
    "# Install some libraries on your computer\n",
    "import sys\n",
    "\n",
    "!{sys.executable} -m pip install ta --user\n",
    "!{sys.executable} -m pip install datetime --user\n",
    "!{sys.executable} -m pip install MetaTrader5 --user"
   ]
  },
  {
   "cell_type": "code",
   "execution_count": 1,
   "id": "3a6b9a26",
   "metadata": {},
   "outputs": [],
   "source": [
    "# Import some data\n",
    "import MetaTrader5 as mt5"
   ]
  },
  {
   "cell_type": "markdown",
   "id": "3d6c8bfa",
   "metadata": {},
   "source": [
    "### Initialize the bound between MetaTrader5 and Python\n",
    "\n",
    "**Don't forget to set in the MetaTrader5 platform parameters the algo trading authorization**"
   ]
  },
  {
   "cell_type": "code",
   "execution_count": 8,
   "id": "78f74793",
   "metadata": {},
   "outputs": [
    {
     "data": {
      "text/plain": [
       "True"
      ]
     },
     "execution_count": 8,
     "metadata": {},
     "output_type": "execute_result"
    }
   ],
   "source": [
    "# Initialize the bound\n",
    "mt5.initialize()"
   ]
  },
  {
   "cell_type": "markdown",
   "id": "370e4afe",
   "metadata": {},
   "source": [
    "### Check the last error nature to understand how to correct it\n",
    "\n",
    "Link to the list of error codes: https://www.mql5.com/fr/docs/integration/python_metatrader5/mt5lasterror_py"
   ]
  },
  {
   "cell_type": "code",
   "execution_count": 3,
   "id": "4c2936b4",
   "metadata": {},
   "outputs": [
    {
     "data": {
      "text/plain": [
       "(-6, 'Terminal: Authorization failed')"
      ]
     },
     "execution_count": 3,
     "metadata": {},
     "output_type": "execute_result"
    }
   ],
   "source": [
    "# Check last error\n",
    "mt5.last_error()"
   ]
  },
  {
   "cell_type": "code",
   "execution_count": 5,
   "id": "445427b9",
   "metadata": {},
   "outputs": [
    {
     "data": {
      "text/plain": [
       "True"
      ]
     },
     "execution_count": 5,
     "metadata": {},
     "output_type": "execute_result"
    }
   ],
   "source": [
    "# Clsoe the bound between MT5 and Python\n",
    "mt5.shutdown()"
   ]
  },
  {
   "cell_type": "code",
   "execution_count": 6,
   "id": "62dd3c4b",
   "metadata": {},
   "outputs": [
    {
     "data": {
      "text/plain": [
       "(1, 'Success')"
      ]
     },
     "execution_count": 6,
     "metadata": {},
     "output_type": "execute_result"
    }
   ],
   "source": [
    "# Check last error\n",
    "mt5.last_error()"
   ]
  },
  {
   "cell_type": "code",
   "execution_count": 9,
   "id": "0d5f00f2",
   "metadata": {},
   "outputs": [
    {
     "data": {
      "text/plain": [
       "AccountInfo(login=121940534, trade_mode=0, leverage=2000, limit_orders=1024, margin_so_mode=0, trade_allowed=True, trade_expert=True, margin_mode=2, currency_digits=2, fifo_close=False, balance=1000.0, credit=0.0, profit=0.0, equity=1000.0, margin=0.0, margin_free=1000.0, margin_level=0.0, margin_so_call=60.0, margin_so_so=0.0, margin_initial=0.0, margin_maintenance=0.0, assets=0.0, liabilities=0.0, commission_blocked=0.0, name='Standard', server='Exness-MT5Trial7', currency='USD', company='Exness Technologies Ltd')"
      ]
     },
     "execution_count": 9,
     "metadata": {},
     "output_type": "execute_result"
    }
   ],
   "source": [
    "# Call a function when the bound is down (No visual error but no exit)\n",
    "mt5.account_info()"
   ]
  },
  {
   "cell_type": "code",
   "execution_count": 10,
   "id": "aefff9db",
   "metadata": {},
   "outputs": [
    {
     "data": {
      "text/plain": [
       "(1, 'Success')"
      ]
     },
     "execution_count": 10,
     "metadata": {},
     "output_type": "execute_result"
    }
   ],
   "source": [
    "# Check last error\n",
    "mt5.last_error()"
   ]
  },
  {
   "cell_type": "code",
   "execution_count": 16,
   "id": "5faa7c42",
   "metadata": {},
   "outputs": [
    {
     "data": {
      "text/plain": [
       "True"
      ]
     },
     "execution_count": 16,
     "metadata": {},
     "output_type": "execute_result"
    }
   ],
   "source": [
    "# Initialize the bound\n",
    "mt5.initialize()"
   ]
  },
  {
   "cell_type": "markdown",
   "id": "2afdead9",
   "metadata": {},
   "source": [
    "### Extract account information"
   ]
  },
  {
   "cell_type": "code",
   "execution_count": 11,
   "id": "497b7c38",
   "metadata": {},
   "outputs": [
    {
     "data": {
      "text/plain": [
       "AccountInfo(login=121940534, trade_mode=0, leverage=2000, limit_orders=1024, margin_so_mode=0, trade_allowed=True, trade_expert=True, margin_mode=2, currency_digits=2, fifo_close=False, balance=1000.0, credit=0.0, profit=0.0, equity=1000.0, margin=0.0, margin_free=1000.0, margin_level=0.0, margin_so_call=60.0, margin_so_so=0.0, margin_initial=0.0, margin_maintenance=0.0, assets=0.0, liabilities=0.0, commission_blocked=0.0, name='Standard', server='Exness-MT5Trial7', currency='USD', company='Exness Technologies Ltd')"
      ]
     },
     "execution_count": 11,
     "metadata": {},
     "output_type": "execute_result"
    }
   ],
   "source": [
    "# Extract account information\n",
    "mt5.account_info()"
   ]
  },
  {
   "cell_type": "code",
   "execution_count": 12,
   "id": "caba923a",
   "metadata": {},
   "outputs": [
    {
     "data": {
      "text/plain": [
       "1000.0"
      ]
     },
     "execution_count": 12,
     "metadata": {},
     "output_type": "execute_result"
    }
   ],
   "source": [
    "# Extract balance account\n",
    "information = mt5.account_info()\n",
    "information.balance"
   ]
  },
  {
   "cell_type": "code",
   "execution_count": 13,
   "id": "7a6ba2ea",
   "metadata": {},
   "outputs": [
    {
     "data": {
      "text/plain": [
       "121940534"
      ]
     },
     "execution_count": 13,
     "metadata": {},
     "output_type": "execute_result"
    }
   ],
   "source": [
    "# Extract log account\n",
    "information.login"
   ]
  },
  {
   "cell_type": "code",
   "execution_count": 14,
   "id": "060793f8",
   "metadata": {},
   "outputs": [
    {
     "data": {
      "text/plain": [
       "2000"
      ]
     },
     "execution_count": 14,
     "metadata": {},
     "output_type": "execute_result"
    }
   ],
   "source": [
    "# Extract leverage account\n",
    "information.leverage"
   ]
  },
  {
   "cell_type": "code",
   "execution_count": 33,
   "id": "7e9cc92e",
   "metadata": {},
   "outputs": [
    {
     "data": {
      "text/plain": [
       "'Exness-MT5Trial7'"
      ]
     },
     "execution_count": 33,
     "metadata": {},
     "output_type": "execute_result"
    }
   ],
   "source": [
    "# Extract server account\n",
    "information.server"
   ]
  },
  {
   "cell_type": "markdown",
   "id": "a3daeb5b",
   "metadata": {},
   "source": [
    "### Extract symbol information"
   ]
  },
  {
   "cell_type": "code",
   "execution_count": 29,
   "id": "835dd8e5",
   "metadata": {},
   "outputs": [],
   "source": [
    "# Extract all information\n",
    "mt5.symbol_info(\"BTCUSD\")"
   ]
  },
  {
   "cell_type": "code",
   "execution_count": 39,
   "id": "09764013",
   "metadata": {},
   "outputs": [
    {
     "name": "stdout",
     "output_type": "stream",
     "text": [
      "SymbolInfo(custom=False, chart_mode=0, select=True, visible=True, session_deals=0, session_buy_orders=0, session_sell_orders=0, volume=0, volumehigh=0, volumelow=0, time=1692545833, digits=2, spread=1303, spread_float=True, ticks_bookdepth=0, trade_calc_mode=5, trade_mode=4, start_time=0, expiration_time=0, trade_stops_level=0, trade_freeze_level=0, trade_exemode=2, swap_mode=0, swap_rollover3days=3, margin_hedged_use_leg=False, expiration_mode=15, filling_mode=3, order_mode=127, order_gtc_mode=0, option_mode=0, option_right=0, bid=26081.06, bidhigh=26211.3, bidlow=25951.77, ask=26094.09, askhigh=26222.95, asklow=25999.37, last=0.0, lasthigh=0.0, lastlow=0.0, volume_real=0.0, volumehigh_real=0.0, volumelow_real=0.0, option_strike=0.0, point=0.01, trade_tick_value=0.01, trade_tick_value_profit=0.01, trade_tick_value_loss=0.01, trade_tick_size=0.01, trade_contract_size=1.0, trade_accrued_interest=0.0, trade_face_value=0.0, trade_liquidity_rate=0.0, volume_min=0.01, volume_max=20.0, volume_step=0.01, volume_limit=0.0, swap_long=0.0, swap_short=0.0, margin_initial=1.0, margin_maintenance=0.0, session_volume=0.0, session_turnover=0.0, session_interest=0.0, session_buy_orders_volume=0.0, session_sell_orders_volume=0.0, session_open=26088.3, session_close=26089.48, session_aw=0.0, session_price_settlement=0.0, session_price_limit_min=0.0, session_price_limit_max=0.0, margin_hedged=0.0, price_change=-0.0323, price_volatility=0.0, price_theoretical=0.0, price_greeks_delta=0.0, price_greeks_theta=0.0, price_greeks_gamma=0.0, price_greeks_vega=0.0, price_greeks_rho=0.0, price_greeks_omega=0.0, price_sensitivity=0.0, basis='', category='Crypto', currency_base='BTC', currency_profit='USD', currency_margin='BTC', bank='', description='Bitcoin vs US Dollar', exchange='', formula='', isin='', name='BTCUSDm', page='', path='Crypto_group\\\\BTCUSDm')\n"
     ]
    }
   ],
   "source": [
    "# Extract bid price\n",
    "symbol = mt5.symbol_info(\"BTCUSDm\")\n",
    "print(symbol)"
   ]
  },
  {
   "cell_type": "code",
   "execution_count": 40,
   "id": "6702f13b",
   "metadata": {},
   "outputs": [
    {
     "data": {
      "text/plain": [
       "26094.09"
      ]
     },
     "execution_count": 40,
     "metadata": {},
     "output_type": "execute_result"
    }
   ],
   "source": [
    "# Extract ask price\n",
    "symbol.ask"
   ]
  },
  {
   "cell_type": "code",
   "execution_count": 41,
   "id": "65e60980",
   "metadata": {},
   "outputs": [
    {
     "data": {
      "text/plain": [
       "1303"
      ]
     },
     "execution_count": 41,
     "metadata": {},
     "output_type": "execute_result"
    }
   ],
   "source": [
    "# Extract spread\n",
    "symbol.spread"
   ]
  },
  {
   "cell_type": "code",
   "execution_count": 42,
   "id": "c1204dc4",
   "metadata": {},
   "outputs": [
    {
     "data": {
      "text/plain": [
       "'Bitcoin vs US Dollar'"
      ]
     },
     "execution_count": 42,
     "metadata": {},
     "output_type": "execute_result"
    }
   ],
   "source": [
    "# Extract description symbol\n",
    "symbol.description"
   ]
  },
  {
   "cell_type": "code",
   "execution_count": 43,
   "id": "31fb0e98",
   "metadata": {},
   "outputs": [
    {
     "data": {
      "text/plain": [
       "'Crypto_group\\\\BTCUSDm'"
      ]
     },
     "execution_count": 43,
     "metadata": {},
     "output_type": "execute_result"
    }
   ],
   "source": [
    "# Extract path symbol\n",
    "symbol.path"
   ]
  },
  {
   "cell_type": "markdown",
   "id": "d89a78d2",
   "metadata": {},
   "source": [
    "### Extract book orders"
   ]
  },
  {
   "cell_type": "code",
   "execution_count": 103,
   "id": "3bf048d8",
   "metadata": {},
   "outputs": [
    {
     "data": {
      "text/plain": [
       "False"
      ]
     },
     "execution_count": 103,
     "metadata": {},
     "output_type": "execute_result"
    }
   ],
   "source": [
    "# Impossible to be connected to all the book orders symbol (to much data). You need to do it one by one\n",
    "mt5.market_book_add(\"XAUUSDm\")"
   ]
  },
  {
   "cell_type": "code",
   "execution_count": 67,
   "id": "58976dee",
   "metadata": {},
   "outputs": [],
   "source": [
    "# Get book orders\n",
    "mt5.market_book_get(\"BTCUSDm\")"
   ]
  },
  {
   "cell_type": "code",
   "execution_count": 108,
   "id": "1bed461b",
   "metadata": {},
   "outputs": [
    {
     "data": {
      "text/plain": [
       "False"
      ]
     },
     "execution_count": 108,
     "metadata": {},
     "output_type": "execute_result"
    }
   ],
   "source": [
    "# Close connection to the book orders \n",
    "mt5.market_book_release(\"EURUSDm\")"
   ]
  },
  {
   "cell_type": "markdown",
   "id": "74f6c123",
   "metadata": {},
   "source": [
    "### Add a symbol into the market watch"
   ]
  },
  {
   "cell_type": "code",
   "execution_count": 92,
   "id": "511601b0",
   "metadata": {},
   "outputs": [
    {
     "data": {
      "text/plain": [
       "False"
      ]
     },
     "execution_count": 92,
     "metadata": {},
     "output_type": "execute_result"
    }
   ],
   "source": [
    "# Add a symbol into the market watch\n",
    "mt5.symbol_select(\"SP500m\")"
   ]
  }
 ],
 "metadata": {
  "kernelspec": {
   "display_name": "Python 3 (ipykernel)",
   "language": "python",
   "name": "python3"
  },
  "language_info": {
   "codemirror_mode": {
    "name": "ipython",
    "version": 3
   },
   "file_extension": ".py",
   "mimetype": "text/x-python",
   "name": "python",
   "nbconvert_exporter": "python",
   "pygments_lexer": "ipython3",
   "version": "3.10.9"
  }
 },
 "nbformat": 4,
 "nbformat_minor": 5
}
