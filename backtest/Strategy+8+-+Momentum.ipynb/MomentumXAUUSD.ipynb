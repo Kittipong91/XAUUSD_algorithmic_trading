{
 "cells": [
  {
   "cell_type": "code",
   "execution_count": 3,
   "metadata": {},
   "outputs": [],
   "source": [
    "import numpy as np\n",
    "import pandas as pd\n",
    "import matplotlib.pyplot as plt\n",
    "import time\n",
    "import datetime\n",
    "import os\n",
    "import matplotlib.style\n",
    "from pandas.core.common import flatten\n",
    "from functools import partial, reduce\n",
    "plt.style.use('ggplot')"
   ]
  },
  {
   "cell_type": "code",
   "execution_count": 1,
   "metadata": {},
   "outputs": [],
   "source": [
    "pairs_list = [\n",
    "    'XAUUSD/XAUUSD_H4 - XAUUSD_H4',\n",
    "]"
   ]
  },
  {
   "cell_type": "code",
   "execution_count": 4,
   "metadata": {},
   "outputs": [],
   "source": [
    "df = {}\n",
    "for pair in range(len(pairs_list)):\n",
    "    df[pair] = pd.read_csv(\n",
    "        '../../Data_Forex/'+pairs_list[pair]+'.csv', index_col=0, parse_dates=True)\n",
    "    df[pair]['Day'] = df[pair].index.dayofweek\n",
    "    dmap = {0: 'Mon', 1: 'Tue', 2: 'Wed',\n",
    "            3: 'Thu', 4: 'Fri', 5: 'Sat', 6: 'Sun'}\n",
    "    df[pair]['Day'] = df[pair]['Day'].map(dmap)"
   ]
  },
  {
   "cell_type": "code",
   "execution_count": 5,
   "metadata": {},
   "outputs": [
    {
     "data": {
      "text/plain": [
       "{0:                          Open      High       Low     Close  Volume  Day\n",
       " Time                                                                    \n",
       " 2007-01-01 00:00:00   635.679   636.194   635.009   635.497      95  Mon\n",
       " 2007-01-01 04:00:00   635.336   636.220   635.254   635.699      97  Mon\n",
       " 2007-01-01 08:00:00   635.780   636.225   635.201   635.993      99  Mon\n",
       " 2007-01-01 12:00:00   636.053   636.189   635.117   636.006      90  Mon\n",
       " 2007-01-01 16:00:00   635.902   636.185   635.006   635.989      96  Mon\n",
       " ...                       ...       ...       ...       ...     ...  ...\n",
       " 2023-03-10 00:00:00  1831.428  1834.765  1827.974  1829.085     240  Fri\n",
       " 2023-03-10 04:00:00  1829.085  1834.575  1827.675  1833.405     240  Fri\n",
       " 2023-03-10 08:00:00  1833.415  1837.245  1830.778  1834.865     240  Fri\n",
       " 2023-03-10 12:00:00  1834.885  1867.348  1831.384  1862.975     240  Fri\n",
       " 2023-03-10 16:00:00  1862.985  1865.005  1854.005  1864.098     120  Fri\n",
       " \n",
       " [25976 rows x 6 columns]}"
      ]
     },
     "execution_count": 5,
     "metadata": {},
     "output_type": "execute_result"
    }
   ],
   "source": [
    "df"
   ]
  }
 ],
 "metadata": {
  "kernelspec": {
   "display_name": "base",
   "language": "python",
   "name": "python3"
  },
  "language_info": {
   "codemirror_mode": {
    "name": "ipython",
    "version": 3
   },
   "file_extension": ".py",
   "mimetype": "text/x-python",
   "name": "python",
   "nbconvert_exporter": "python",
   "pygments_lexer": "ipython3",
   "version": "3.10.9"
  }
 },
 "nbformat": 4,
 "nbformat_minor": 2
}
