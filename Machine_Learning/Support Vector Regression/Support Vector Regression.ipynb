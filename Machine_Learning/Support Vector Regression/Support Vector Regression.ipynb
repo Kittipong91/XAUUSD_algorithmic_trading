{
 "cells": [
  {
   "cell_type": "markdown",
   "metadata": {},
   "source": [
    "# Trading Strategies powered by Machine Learning - Support Vector Regression"
   ]
  },
  {
   "cell_type": "markdown",
   "metadata": {},
   "source": [
    "## Support Vector Classifier with scikit-learn - a Simple Introduction"
   ]
  },
  {
   "cell_type": "code",
   "execution_count": null,
   "metadata": {},
   "outputs": [],
   "source": [
    "import sys\n",
    "sys.path.append('../../')"
   ]
  },
  {
   "cell_type": "code",
   "execution_count": null,
   "metadata": {},
   "outputs": [],
   "source": [
    "from util.load_data import *\n",
    "from config.constants import *\n",
    "from util.plot_equity import plot_equity_trades\n",
    "from util.Save_result_return import save_to_csv\n",
    "pd.options.mode.chained_assignment = None  # default="
   ]
  },
  {
   "cell_type": "code",
   "execution_count": null,
   "metadata": {},
   "outputs": [],
   "source": [
    "import numpy as np\n",
    "import matplotlib.pyplot as plt\n",
    "import pandas as pd\n",
    "from sklearn.svm import SVR\n",
    "plt.style.use('fivethirtyeight')"
   ]
  },
  {
   "cell_type": "code",
   "execution_count": null,
   "metadata": {},
   "outputs": [],
   "source": [
    "from backtesting import Strategy"
   ]
  },
  {
   "cell_type": "markdown",
   "metadata": {},
   "source": [
    "## Getting the Data"
   ]
  },
  {
   "cell_type": "code",
   "execution_count": null,
   "metadata": {},
   "outputs": [],
   "source": [
    "XAUUSD = load_data()"
   ]
  },
  {
   "cell_type": "code",
   "execution_count": null,
   "metadata": {},
   "outputs": [],
   "source": [
    "XAUUSD['H4'].Close"
   ]
  },
  {
   "cell_type": "code",
   "execution_count": null,
   "metadata": {},
   "outputs": [],
   "source": [
    "XAUUSD['H4'].info()"
   ]
  },
  {
   "cell_type": "code",
   "execution_count": null,
   "metadata": {},
   "outputs": [],
   "source": [
    "XAUUSD['H4'].plot(figsize=(12, 8))\n",
    "plt.show()"
   ]
  },
  {
   "cell_type": "markdown",
   "metadata": {},
   "source": [
    "## ML"
   ]
  },
  {
   "cell_type": "markdown",
   "metadata": {},
   "source": [
    "### Class and Strategy ML"
   ]
  },
  {
   "cell_type": "code",
   "execution_count": null,
   "metadata": {},
   "outputs": [],
   "source": [
    "class Support_Vector_Regression(Strategy):\n",
    "\n",
    "    def init(self):\n",
    "        pass\n",
    "\n",
    "    def next(self):\n",
    "\n",
    "        if self.data.pred[-1] == 1:\n",
    "            if not self.position:\n",
    "                self.buy(size=1)\n",
    "            elif self.position.is_short:\n",
    "                self.position.close()\n",
    "                self.buy(size=1)\n",
    "\n",
    "        elif self.data.pred[-1] == -1:\n",
    "            if not self.position:\n",
    "                self.sell(size=1)\n",
    "            elif self.position.is_long:\n",
    "                self.position.close()\n",
    "                self.sell(size=1)"
   ]
  },
  {
   "cell_type": "code",
   "execution_count": null,
   "metadata": {},
   "outputs": [],
   "source": [
    "strategy = Support_Vector_Regression\n",
    "account_size = 10000\n",
    "folder_ML_Strategy = 'Support Vector Regression'"
   ]
  },
  {
   "cell_type": "code",
   "execution_count": null,
   "metadata": {},
   "outputs": [],
   "source": [
    "from sklearn.svm import SVR\n",
    "from backtesting import Backtest\n",
    "import matplotlib.pyplot as plt\n",
    "import pandas as pd\n",
    "import numpy as np\n",
    "\n",
    "plt.style.use(\"seaborn-v0_8\")\n",
    "\n",
    "\n",
    "class ML_SVR():\n",
    "\n",
    "    def __init__(self, data, strategy, start_train, start_test, end_train, end_test, TF, future_days=1):\n",
    "        self.data = data\n",
    "        self.strategy = strategy\n",
    "        self.start_train = start_train\n",
    "        self.start_test = start_test\n",
    "        self.end_train = end_train\n",
    "        self.end_test = end_test\n",
    "        self.TF = TF\n",
    "        self.data_train = None\n",
    "        self.data_test = None\n",
    "        self.results = None\n",
    "        self.model = None\n",
    "        self.future_days = future_days\n",
    "\n",
    "    def Train_Model(self):\n",
    "        df = self.data.copy()\n",
    "\n",
    "        df[str(self.future_days) +\n",
    "           '_Day_Price_Forecast'] = df['Close'].shift(-self.future_days)\n",
    "\n",
    "        # Drop rows with NaN in the newly created column\n",
    "        df.dropna(subset=[str(self.future_days) +\n",
    "                  '_Day_Price_Forecast'], inplace=True)\n",
    "\n",
    "        # Features (Close price as input)\n",
    "        X = df[['Close']].copy()  # Corrected X to be a DataFrame\n",
    "        Y = df[str(self.future_days) + '_Day_Price_Forecast'].copy()  # Target\n",
    "\n",
    "        # Split data into train and test\n",
    "        self.data_train = df.loc[self.start_train:self.end_train].copy()\n",
    "        self.data_test = df.loc[self.start_test:self.end_test].copy()\n",
    "\n",
    "        x_train = self.data_train[['Close']]\n",
    "        y_train = Y.loc[self.start_train:self.end_train]\n",
    "        x_test = self.data_test[['Close']]\n",
    "\n",
    "        # Initialize and train the SVR model\n",
    "        self.model = SVR(kernel='rbf', C=1e3, gamma=0.00001)\n",
    "        self.model.fit(x_train, y_train)  # Removed unnecessary indexing\n",
    "\n",
    "        # Make predictions\n",
    "        self.data_train['Close_pred'] = self.model.predict(x_train)\n",
    "        self.data_test['Close_pred'] = self.model.predict(x_test)\n",
    "\n",
    "    def Add_Signal(self):\n",
    "\n",
    "        self.data_train['pred'] = np.where(\n",
    "            (self.data_train['Close_pred'] > self.data_train['Close']), 1, -1)\n",
    "        self.data_test['pred'] = np.where(\n",
    "            (self.data_test['Close_pred'] > self.data_test['Close']), 1, -1)\n",
    "\n",
    "    def Backtest(self, data, account_size=10000):\n",
    "        # Assuming you have a Backtest class that performs backtesting\n",
    "        backtest = Backtest(data, self.strategy,\n",
    "                            cash=account_size, margin=1 / 100, commission=0.0002)\n",
    "        result = backtest.run()\n",
    "        return result\n",
    "\n",
    "    def Run(self):\n",
    "        self.Train_Model()\n",
    "        self.Add_Signal()\n",
    "\n",
    "        result_train = self.Backtest(self.data_train)\n",
    "        result_test = self.Backtest(self.data_test)\n",
    "\n",
    "        return result_train, result_test"
   ]
  },
  {
   "cell_type": "code",
   "execution_count": null,
   "metadata": {},
   "outputs": [],
   "source": [
    "ML_Class = ML_SVR"
   ]
  },
  {
   "cell_type": "markdown",
   "metadata": {},
   "source": [
    "## TF D1"
   ]
  },
  {
   "cell_type": "code",
   "execution_count": null,
   "metadata": {},
   "outputs": [],
   "source": [
    "data = XAUUSD['D1']\n",
    "start_train = '2007'\n",
    "start_test = '2020'\n",
    "end_train = '2019'\n",
    "end_test = '2023'\n",
    "TF = 'D1'"
   ]
  },
  {
   "cell_type": "code",
   "execution_count": null,
   "metadata": {},
   "outputs": [],
   "source": [
    "ml = ML_Class(data, strategy, start_train, start_test, end_train, end_test, TF)"
   ]
  },
  {
   "cell_type": "code",
   "execution_count": null,
   "metadata": {},
   "outputs": [],
   "source": [
    "train, test = ml.Run()"
   ]
  },
  {
   "cell_type": "markdown",
   "metadata": {},
   "source": [
    "### In-Sample Backtesting"
   ]
  },
  {
   "cell_type": "code",
   "execution_count": null,
   "metadata": {},
   "outputs": [],
   "source": [
    "train"
   ]
  },
  {
   "cell_type": "code",
   "execution_count": null,
   "metadata": {},
   "outputs": [],
   "source": [
    "plot_equity_trades(train['_equity_curve'],\n",
    "                   f'XAUUSD_In_Sample_{TF}', account_size)"
   ]
  },
  {
   "cell_type": "markdown",
   "metadata": {},
   "source": [
    "### Out-Sample Backtesting"
   ]
  },
  {
   "cell_type": "code",
   "execution_count": null,
   "metadata": {},
   "outputs": [],
   "source": [
    "test"
   ]
  },
  {
   "cell_type": "code",
   "execution_count": null,
   "metadata": {},
   "outputs": [],
   "source": [
    "plot_equity_trades(test['_equity_curve'],\n",
    "                   f'XAUUSD_Out_Sample_{TF}', account_size)"
   ]
  },
  {
   "cell_type": "markdown",
   "metadata": {},
   "source": [
    "### Save result "
   ]
  },
  {
   "cell_type": "code",
   "execution_count": null,
   "metadata": {},
   "outputs": [],
   "source": [
    "filename_train = f'result_{TF}_In_Sample.csv'"
   ]
  },
  {
   "cell_type": "code",
   "execution_count": null,
   "metadata": {},
   "outputs": [],
   "source": [
    "save_to_csv(\n",
    "    train, f'../../out/Machine_Learning/{folder_ML_Strategy}/Backtest/{filename_train}')"
   ]
  },
  {
   "cell_type": "code",
   "execution_count": null,
   "metadata": {},
   "outputs": [],
   "source": [
    "filename_test = f'result_{TF}_Out_Sample.csv'"
   ]
  },
  {
   "cell_type": "code",
   "execution_count": null,
   "metadata": {},
   "outputs": [],
   "source": [
    "save_to_csv(\n",
    "    test, f'../../out/Machine_Learning/{folder_ML_Strategy}/Backtest/{filename_test}')"
   ]
  },
  {
   "cell_type": "markdown",
   "metadata": {},
   "source": [
    "## TF H4"
   ]
  },
  {
   "cell_type": "code",
   "execution_count": null,
   "metadata": {},
   "outputs": [],
   "source": [
    "data = XAUUSD['H4']\n",
    "start_train = '2007'\n",
    "start_test = '2020'\n",
    "end_train = '2019'\n",
    "end_test = '2023'\n",
    "TF = 'H4'"
   ]
  },
  {
   "cell_type": "code",
   "execution_count": null,
   "metadata": {},
   "outputs": [],
   "source": [
    "ml = ML_Class(data, strategy, start_train, start_test, end_train, end_test, TF)"
   ]
  },
  {
   "cell_type": "code",
   "execution_count": null,
   "metadata": {},
   "outputs": [],
   "source": [
    "train, test = ml.Run()"
   ]
  },
  {
   "cell_type": "markdown",
   "metadata": {},
   "source": [
    "### In-Sample Backtesting"
   ]
  },
  {
   "cell_type": "code",
   "execution_count": null,
   "metadata": {},
   "outputs": [],
   "source": [
    "train"
   ]
  },
  {
   "cell_type": "code",
   "execution_count": null,
   "metadata": {},
   "outputs": [],
   "source": [
    "plot_equity_trades(train['_equity_curve'],\n",
    "                   f'XAUUSD_In_Sample_{TF}', account_size)"
   ]
  },
  {
   "cell_type": "markdown",
   "metadata": {},
   "source": [
    "### Out-Sample Backtesting"
   ]
  },
  {
   "cell_type": "code",
   "execution_count": null,
   "metadata": {},
   "outputs": [],
   "source": [
    "test"
   ]
  },
  {
   "cell_type": "code",
   "execution_count": null,
   "metadata": {},
   "outputs": [],
   "source": [
    "plot_equity_trades(test['_equity_curve'],\n",
    "                   f'XAUUSD_Out_Sample_{TF}', account_size)"
   ]
  },
  {
   "cell_type": "markdown",
   "metadata": {},
   "source": [
    "### Save result "
   ]
  },
  {
   "cell_type": "code",
   "execution_count": null,
   "metadata": {},
   "outputs": [],
   "source": [
    "filename_train = f'result_{TF}_In_Sample.csv'"
   ]
  },
  {
   "cell_type": "code",
   "execution_count": null,
   "metadata": {},
   "outputs": [],
   "source": [
    "save_to_csv(\n",
    "    train, f'../../out/Machine_Learning/{folder_ML_Strategy}/Backtest/{filename_train}')"
   ]
  },
  {
   "cell_type": "code",
   "execution_count": null,
   "metadata": {},
   "outputs": [],
   "source": [
    "filename_test = f'result_{TF}_Out_Sample.csv'"
   ]
  },
  {
   "cell_type": "code",
   "execution_count": null,
   "metadata": {},
   "outputs": [],
   "source": [
    "save_to_csv(\n",
    "    test, f'../../out/Machine_Learning/{folder_ML_Strategy}/Backtest/{filename_test}')"
   ]
  },
  {
   "cell_type": "markdown",
   "metadata": {},
   "source": [
    "## TF H1"
   ]
  },
  {
   "cell_type": "code",
   "execution_count": null,
   "metadata": {},
   "outputs": [],
   "source": [
    "data = XAUUSD['H1']\n",
    "start_train = '2007'\n",
    "start_test = '2020'\n",
    "end_train = '2019'\n",
    "end_test = '2023'\n",
    "TF = 'H1'"
   ]
  },
  {
   "cell_type": "code",
   "execution_count": null,
   "metadata": {},
   "outputs": [],
   "source": [
    "ml = ML_Class(data, strategy, start_train, start_test, end_train, end_test, TF)"
   ]
  },
  {
   "cell_type": "code",
   "execution_count": null,
   "metadata": {},
   "outputs": [],
   "source": [
    "train, test = ml.Run()"
   ]
  },
  {
   "cell_type": "markdown",
   "metadata": {},
   "source": [
    "### In-Sample Backtesting"
   ]
  },
  {
   "cell_type": "code",
   "execution_count": null,
   "metadata": {},
   "outputs": [],
   "source": [
    "train"
   ]
  },
  {
   "cell_type": "code",
   "execution_count": null,
   "metadata": {},
   "outputs": [],
   "source": [
    "plot_equity_trades(train['_equity_curve'],\n",
    "                   f'XAUUSD_In_Sample_{TF}', account_size)"
   ]
  },
  {
   "cell_type": "markdown",
   "metadata": {},
   "source": [
    "### Out-Sample Backtesting"
   ]
  },
  {
   "cell_type": "code",
   "execution_count": null,
   "metadata": {},
   "outputs": [],
   "source": [
    "test"
   ]
  },
  {
   "cell_type": "code",
   "execution_count": null,
   "metadata": {},
   "outputs": [],
   "source": [
    "plot_equity_trades(test['_equity_curve'],\n",
    "                   f'XAUUSD_Out_Sample_{TF}', account_size)"
   ]
  },
  {
   "cell_type": "markdown",
   "metadata": {},
   "source": [
    "### Save result "
   ]
  },
  {
   "cell_type": "code",
   "execution_count": null,
   "metadata": {},
   "outputs": [],
   "source": [
    "filename_train = f'result_{TF}_In_Sample.csv'"
   ]
  },
  {
   "cell_type": "code",
   "execution_count": null,
   "metadata": {},
   "outputs": [],
   "source": [
    "save_to_csv(\n",
    "    train, f'../../out/Machine_Learning/{folder_ML_Strategy}/Backtest/{filename_train}')"
   ]
  },
  {
   "cell_type": "code",
   "execution_count": null,
   "metadata": {},
   "outputs": [],
   "source": [
    "filename_test = f'result_{TF}_Out_Sample.csv'"
   ]
  },
  {
   "cell_type": "code",
   "execution_count": null,
   "metadata": {},
   "outputs": [],
   "source": [
    "save_to_csv(\n",
    "    test, f'../../out/Machine_Learning/{folder_ML_Strategy}/Backtest/{filename_test}')"
   ]
  },
  {
   "cell_type": "markdown",
   "metadata": {},
   "source": [
    "## TF M30"
   ]
  },
  {
   "cell_type": "code",
   "execution_count": null,
   "metadata": {},
   "outputs": [],
   "source": [
    "data = XAUUSD['M30']\n",
    "start_train = '2007'\n",
    "start_test = '2020'\n",
    "end_train = '2019'\n",
    "end_test = '2023'\n",
    "TF = 'M30'"
   ]
  },
  {
   "cell_type": "code",
   "execution_count": null,
   "metadata": {},
   "outputs": [],
   "source": [
    "ml = ML_Class(data, strategy, start_train, start_test, end_train, end_test, TF)"
   ]
  },
  {
   "cell_type": "code",
   "execution_count": null,
   "metadata": {},
   "outputs": [],
   "source": [
    "train, test = ml.Run()"
   ]
  },
  {
   "cell_type": "markdown",
   "metadata": {},
   "source": [
    "### In-Sample Backtesting"
   ]
  },
  {
   "cell_type": "code",
   "execution_count": null,
   "metadata": {},
   "outputs": [],
   "source": [
    "train"
   ]
  },
  {
   "cell_type": "code",
   "execution_count": null,
   "metadata": {},
   "outputs": [],
   "source": [
    "plot_equity_trades(train['_equity_curve'],\n",
    "                   f'XAUUSD_Out_Sample_{TF}', account_size)"
   ]
  },
  {
   "cell_type": "markdown",
   "metadata": {},
   "source": [
    "### Out-Sample Backtesting"
   ]
  },
  {
   "cell_type": "code",
   "execution_count": null,
   "metadata": {},
   "outputs": [],
   "source": [
    "test"
   ]
  },
  {
   "cell_type": "code",
   "execution_count": null,
   "metadata": {},
   "outputs": [],
   "source": [
    "plot_equity_trades(test['_equity_curve'],\n",
    "                   f'XAUUSD_Out_Sample_{TF}', account_size)"
   ]
  },
  {
   "cell_type": "markdown",
   "metadata": {},
   "source": [
    "### Save result "
   ]
  },
  {
   "cell_type": "code",
   "execution_count": null,
   "metadata": {},
   "outputs": [],
   "source": [
    "filename_train = f'result_{TF}_In_Sample.csv'"
   ]
  },
  {
   "cell_type": "code",
   "execution_count": null,
   "metadata": {},
   "outputs": [],
   "source": [
    "save_to_csv(\n",
    "    train, f'../../out/Machine_Learning/{folder_ML_Strategy}/Backtest/{filename_train}')"
   ]
  },
  {
   "cell_type": "code",
   "execution_count": null,
   "metadata": {},
   "outputs": [],
   "source": [
    "filename_test = f'result_{TF}_Out_Sample.csv'"
   ]
  },
  {
   "cell_type": "code",
   "execution_count": null,
   "metadata": {},
   "outputs": [],
   "source": [
    "save_to_csv(\n",
    "    test, f'../../out/Machine_Learning/{folder_ML_Strategy}/Backtest/{filename_test}')"
   ]
  },
  {
   "cell_type": "markdown",
   "metadata": {},
   "source": [
    "## TF M15"
   ]
  },
  {
   "cell_type": "code",
   "execution_count": null,
   "metadata": {},
   "outputs": [],
   "source": [
    "data = XAUUSD['M15']\n",
    "start_train = '2014'\n",
    "start_test = '2020'\n",
    "end_train = '2019'\n",
    "end_test = '2023'\n",
    "TF = 'M15'"
   ]
  },
  {
   "cell_type": "code",
   "execution_count": null,
   "metadata": {},
   "outputs": [],
   "source": [
    "ml = ML_Class(data, strategy, start_train, start_test, end_train, end_test, TF)"
   ]
  },
  {
   "cell_type": "code",
   "execution_count": null,
   "metadata": {},
   "outputs": [],
   "source": [
    "train, test = ml.Run()"
   ]
  },
  {
   "cell_type": "markdown",
   "metadata": {},
   "source": [
    "### In-Sample Backtesting"
   ]
  },
  {
   "cell_type": "code",
   "execution_count": null,
   "metadata": {},
   "outputs": [],
   "source": [
    "train"
   ]
  },
  {
   "cell_type": "code",
   "execution_count": null,
   "metadata": {},
   "outputs": [],
   "source": [
    "plot_equity_trades(train['_equity_curve'],\n",
    "                   f'XAUUSD_In_Sample_{TF}', account_size)"
   ]
  },
  {
   "cell_type": "markdown",
   "metadata": {},
   "source": [
    "### Out-Sample Backtesting"
   ]
  },
  {
   "cell_type": "code",
   "execution_count": null,
   "metadata": {},
   "outputs": [],
   "source": [
    "test"
   ]
  },
  {
   "cell_type": "code",
   "execution_count": null,
   "metadata": {},
   "outputs": [],
   "source": [
    "plot_equity_trades(test['_equity_curve'],\n",
    "                   f'XAUUSD_Out_Sample_{TF}', account_size)"
   ]
  },
  {
   "cell_type": "markdown",
   "metadata": {},
   "source": [
    "### Save result "
   ]
  },
  {
   "cell_type": "code",
   "execution_count": null,
   "metadata": {},
   "outputs": [],
   "source": [
    "filename_train = f'result_{TF}_In_Sample.csv'"
   ]
  },
  {
   "cell_type": "code",
   "execution_count": null,
   "metadata": {},
   "outputs": [],
   "source": [
    "save_to_csv(\n",
    "    train, f'../../out/Machine_Learning/{folder_ML_Strategy}/Backtest/{filename_train}')"
   ]
  },
  {
   "cell_type": "code",
   "execution_count": null,
   "metadata": {},
   "outputs": [],
   "source": [
    "filename_test = f'result_{TF}_Out_Sample.csv'"
   ]
  },
  {
   "cell_type": "code",
   "execution_count": null,
   "metadata": {},
   "outputs": [],
   "source": [
    "save_to_csv(\n",
    "    test, f'../../out/Machine_Learning/{folder_ML_Strategy}/Backtest/{filename_test}')"
   ]
  },
  {
   "cell_type": "markdown",
   "metadata": {},
   "source": [
    "## TF M5"
   ]
  },
  {
   "cell_type": "code",
   "execution_count": null,
   "metadata": {},
   "outputs": [],
   "source": [
    "data = XAUUSD['M5']\n",
    "start_train = '2020'\n",
    "start_test = '2023'\n",
    "end_train = '2022'\n",
    "end_test = '2023'\n",
    "TF = 'M5'"
   ]
  },
  {
   "cell_type": "code",
   "execution_count": null,
   "metadata": {},
   "outputs": [],
   "source": [
    "ml = ML_Class(data, strategy, start_train, start_test, end_train, end_test, TF)"
   ]
  },
  {
   "cell_type": "code",
   "execution_count": null,
   "metadata": {},
   "outputs": [],
   "source": [
    "train, test = ml.Run()"
   ]
  },
  {
   "cell_type": "markdown",
   "metadata": {},
   "source": [
    "### In-Sample Backtesting"
   ]
  },
  {
   "cell_type": "code",
   "execution_count": null,
   "metadata": {},
   "outputs": [],
   "source": [
    "train"
   ]
  },
  {
   "cell_type": "code",
   "execution_count": null,
   "metadata": {},
   "outputs": [],
   "source": [
    "plot_equity_trades(train['_equity_curve'],\n",
    "                   f'XAUUSD_In_Sample_{TF}', account_size)"
   ]
  },
  {
   "cell_type": "markdown",
   "metadata": {},
   "source": [
    "### Out-Sample Backtesting"
   ]
  },
  {
   "cell_type": "code",
   "execution_count": null,
   "metadata": {},
   "outputs": [],
   "source": [
    "test"
   ]
  },
  {
   "cell_type": "code",
   "execution_count": null,
   "metadata": {},
   "outputs": [],
   "source": [
    "plot_equity_trades(test['_equity_curve'],\n",
    "                   f'XAUUSD_Out_Sample_{TF}', account_size)"
   ]
  },
  {
   "cell_type": "markdown",
   "metadata": {},
   "source": [
    "### Save result "
   ]
  },
  {
   "cell_type": "code",
   "execution_count": null,
   "metadata": {},
   "outputs": [],
   "source": [
    "filename_train = f'result_{TF}_In_Sample.csv'"
   ]
  },
  {
   "cell_type": "code",
   "execution_count": null,
   "metadata": {},
   "outputs": [],
   "source": [
    "save_to_csv(\n",
    "    train, f'../../out/Machine_Learning/{folder_ML_Strategy}/Backtest/{filename_train}')"
   ]
  },
  {
   "cell_type": "code",
   "execution_count": null,
   "metadata": {},
   "outputs": [],
   "source": [
    "filename_test = f'result_{TF}_Out_Sample.csv'"
   ]
  },
  {
   "cell_type": "code",
   "execution_count": null,
   "metadata": {},
   "outputs": [],
   "source": [
    "save_to_csv(\n",
    "    test, f'../../out/Machine_Learning/{folder_ML_Strategy}/Backtest/{filename_test}')"
   ]
  },
  {
   "cell_type": "markdown",
   "metadata": {},
   "source": [
    "## TF M1"
   ]
  },
  {
   "cell_type": "code",
   "execution_count": null,
   "metadata": {},
   "outputs": [],
   "source": [
    "data = XAUUSD['M1']\n",
    "start_train = '2022'\n",
    "start_test = '2023'\n",
    "end_train = '2022'\n",
    "end_test = '2023'\n",
    "TF = 'M1'"
   ]
  },
  {
   "cell_type": "code",
   "execution_count": null,
   "metadata": {},
   "outputs": [],
   "source": [
    "ml = ML_Class(data, strategy, start_train, start_test, end_train, end_test, TF)"
   ]
  },
  {
   "cell_type": "code",
   "execution_count": null,
   "metadata": {},
   "outputs": [],
   "source": [
    "train, test = ml.Run()"
   ]
  },
  {
   "cell_type": "markdown",
   "metadata": {},
   "source": [
    "### In-Sample Backtesting"
   ]
  },
  {
   "cell_type": "code",
   "execution_count": null,
   "metadata": {},
   "outputs": [],
   "source": [
    "train"
   ]
  },
  {
   "cell_type": "code",
   "execution_count": null,
   "metadata": {},
   "outputs": [],
   "source": [
    "plot_equity_trades(train['_equity_curve'],\n",
    "                   f'XAUUSD_In_Sample_{TF}', account_size)"
   ]
  },
  {
   "cell_type": "markdown",
   "metadata": {},
   "source": [
    "### Out-Sample Backtesting"
   ]
  },
  {
   "cell_type": "code",
   "execution_count": null,
   "metadata": {},
   "outputs": [],
   "source": [
    "test"
   ]
  },
  {
   "cell_type": "code",
   "execution_count": null,
   "metadata": {},
   "outputs": [],
   "source": [
    "plot_equity_trades(test['_equity_curve'],\n",
    "                   f'XAUUSD_Out_Sample_{TF}', account_size)"
   ]
  },
  {
   "cell_type": "markdown",
   "metadata": {},
   "source": [
    "### Save result "
   ]
  },
  {
   "cell_type": "code",
   "execution_count": null,
   "metadata": {},
   "outputs": [],
   "source": [
    "filename_train = f'result_{TF}_In_Sample.csv'"
   ]
  },
  {
   "cell_type": "code",
   "execution_count": null,
   "metadata": {},
   "outputs": [],
   "source": [
    "save_to_csv(\n",
    "    train, f'../../out/Machine_Learning/{folder_ML_Strategy}/Backtest/{filename_train}')"
   ]
  },
  {
   "cell_type": "code",
   "execution_count": null,
   "metadata": {},
   "outputs": [],
   "source": [
    "filename_test = f'result_{TF}_Out_Sample.csv'"
   ]
  },
  {
   "cell_type": "code",
   "execution_count": null,
   "metadata": {},
   "outputs": [],
   "source": [
    "save_to_csv(\n",
    "    test, f'../../out/Machine_Learning/{folder_ML_Strategy}/Backtest/{filename_test}')"
   ]
  }
 ],
 "metadata": {
  "kernelspec": {
   "display_name": "base",
   "language": "python",
   "name": "python3"
  },
  "language_info": {
   "codemirror_mode": {
    "name": "ipython",
    "version": 3
   },
   "file_extension": ".py",
   "mimetype": "text/x-python",
   "name": "python",
   "nbconvert_exporter": "python",
   "pygments_lexer": "ipython3",
   "version": "3.10.9"
  }
 },
 "nbformat": 4,
 "nbformat_minor": 2
}
