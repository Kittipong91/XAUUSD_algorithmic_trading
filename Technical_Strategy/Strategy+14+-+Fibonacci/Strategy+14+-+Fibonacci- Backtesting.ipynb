{
 "cells": [
  {
   "cell_type": "markdown",
   "metadata": {},
   "source": [
    "# Backtesting Fibonacci Strategies"
   ]
  },
  {
   "cell_type": "markdown",
   "metadata": {},
   "source": [
    "## Getting the Data"
   ]
  },
  {
   "cell_type": "code",
   "execution_count": 1,
   "metadata": {},
   "outputs": [],
   "source": [
    "import sys\n",
    "sys.path.append('../../')"
   ]
  },
  {
   "cell_type": "code",
   "execution_count": 2,
   "metadata": {},
   "outputs": [],
   "source": [
    "from config.constants import *\n",
    "from backtesting import Backtest, Strategy\n",
    "from backtesting.test import EURUSD, SMA\n",
    "from backtesting.lib import plot_heatmaps, resample_apply\n",
    "import numpy as np\n",
    "import pandas as pd\n",
    "import seaborn as sns\n",
    "import matplotlib.pyplot as plt\n",
    "from util.ATR import *\n",
    "from util.SMA import *\n",
    "from util.plot_return import *\n",
    "from util.Bollinger_bands import *\n",
    "from util.load_data import *"
   ]
  },
  {
   "cell_type": "code",
   "execution_count": 3,
   "metadata": {},
   "outputs": [],
   "source": [
    "XAUUSD = load_data()"
   ]
  },
  {
   "cell_type": "code",
   "execution_count": 4,
   "metadata": {},
   "outputs": [
    {
     "data": {
      "text/html": [
       "<div>\n",
       "<style scoped>\n",
       "    .dataframe tbody tr th:only-of-type {\n",
       "        vertical-align: middle;\n",
       "    }\n",
       "\n",
       "    .dataframe tbody tr th {\n",
       "        vertical-align: top;\n",
       "    }\n",
       "\n",
       "    .dataframe thead th {\n",
       "        text-align: right;\n",
       "    }\n",
       "</style>\n",
       "<table border=\"1\" class=\"dataframe\">\n",
       "  <thead>\n",
       "    <tr style=\"text-align: right;\">\n",
       "      <th></th>\n",
       "      <th>Open</th>\n",
       "      <th>High</th>\n",
       "      <th>Low</th>\n",
       "      <th>Close</th>\n",
       "      <th>Volume</th>\n",
       "    </tr>\n",
       "    <tr>\n",
       "      <th>Time</th>\n",
       "      <th></th>\n",
       "      <th></th>\n",
       "      <th></th>\n",
       "      <th></th>\n",
       "      <th></th>\n",
       "    </tr>\n",
       "  </thead>\n",
       "  <tbody>\n",
       "    <tr>\n",
       "      <th>2007-01-01 00:00:00</th>\n",
       "      <td>635.679</td>\n",
       "      <td>636.194</td>\n",
       "      <td>635.009</td>\n",
       "      <td>635.497</td>\n",
       "      <td>95</td>\n",
       "    </tr>\n",
       "    <tr>\n",
       "      <th>2007-01-01 04:00:00</th>\n",
       "      <td>635.336</td>\n",
       "      <td>636.220</td>\n",
       "      <td>635.254</td>\n",
       "      <td>635.699</td>\n",
       "      <td>97</td>\n",
       "    </tr>\n",
       "    <tr>\n",
       "      <th>2007-01-01 08:00:00</th>\n",
       "      <td>635.780</td>\n",
       "      <td>636.225</td>\n",
       "      <td>635.201</td>\n",
       "      <td>635.993</td>\n",
       "      <td>99</td>\n",
       "    </tr>\n",
       "    <tr>\n",
       "      <th>2007-01-01 12:00:00</th>\n",
       "      <td>636.053</td>\n",
       "      <td>636.189</td>\n",
       "      <td>635.117</td>\n",
       "      <td>636.006</td>\n",
       "      <td>90</td>\n",
       "    </tr>\n",
       "    <tr>\n",
       "      <th>2007-01-01 16:00:00</th>\n",
       "      <td>635.902</td>\n",
       "      <td>636.185</td>\n",
       "      <td>635.006</td>\n",
       "      <td>635.989</td>\n",
       "      <td>96</td>\n",
       "    </tr>\n",
       "    <tr>\n",
       "      <th>...</th>\n",
       "      <td>...</td>\n",
       "      <td>...</td>\n",
       "      <td>...</td>\n",
       "      <td>...</td>\n",
       "      <td>...</td>\n",
       "    </tr>\n",
       "    <tr>\n",
       "      <th>2023-03-10 00:00:00</th>\n",
       "      <td>1831.428</td>\n",
       "      <td>1834.765</td>\n",
       "      <td>1827.974</td>\n",
       "      <td>1829.085</td>\n",
       "      <td>240</td>\n",
       "    </tr>\n",
       "    <tr>\n",
       "      <th>2023-03-10 04:00:00</th>\n",
       "      <td>1829.085</td>\n",
       "      <td>1834.575</td>\n",
       "      <td>1827.675</td>\n",
       "      <td>1833.405</td>\n",
       "      <td>240</td>\n",
       "    </tr>\n",
       "    <tr>\n",
       "      <th>2023-03-10 08:00:00</th>\n",
       "      <td>1833.415</td>\n",
       "      <td>1837.245</td>\n",
       "      <td>1830.778</td>\n",
       "      <td>1834.865</td>\n",
       "      <td>240</td>\n",
       "    </tr>\n",
       "    <tr>\n",
       "      <th>2023-03-10 12:00:00</th>\n",
       "      <td>1834.885</td>\n",
       "      <td>1867.348</td>\n",
       "      <td>1831.384</td>\n",
       "      <td>1862.975</td>\n",
       "      <td>240</td>\n",
       "    </tr>\n",
       "    <tr>\n",
       "      <th>2023-03-10 16:00:00</th>\n",
       "      <td>1862.985</td>\n",
       "      <td>1865.005</td>\n",
       "      <td>1854.005</td>\n",
       "      <td>1864.098</td>\n",
       "      <td>120</td>\n",
       "    </tr>\n",
       "  </tbody>\n",
       "</table>\n",
       "<p>25976 rows × 5 columns</p>\n",
       "</div>"
      ],
      "text/plain": [
       "                         Open      High       Low     Close  Volume\n",
       "Time                                                               \n",
       "2007-01-01 00:00:00   635.679   636.194   635.009   635.497      95\n",
       "2007-01-01 04:00:00   635.336   636.220   635.254   635.699      97\n",
       "2007-01-01 08:00:00   635.780   636.225   635.201   635.993      99\n",
       "2007-01-01 12:00:00   636.053   636.189   635.117   636.006      90\n",
       "2007-01-01 16:00:00   635.902   636.185   635.006   635.989      96\n",
       "...                       ...       ...       ...       ...     ...\n",
       "2023-03-10 00:00:00  1831.428  1834.765  1827.974  1829.085     240\n",
       "2023-03-10 04:00:00  1829.085  1834.575  1827.675  1833.405     240\n",
       "2023-03-10 08:00:00  1833.415  1837.245  1830.778  1834.865     240\n",
       "2023-03-10 12:00:00  1834.885  1867.348  1831.384  1862.975     240\n",
       "2023-03-10 16:00:00  1862.985  1865.005  1854.005  1864.098     120\n",
       "\n",
       "[25976 rows x 5 columns]"
      ]
     },
     "execution_count": 4,
     "metadata": {},
     "output_type": "execute_result"
    }
   ],
   "source": [
    "XAUUSD['H4']"
   ]
  },
  {
   "cell_type": "code",
   "execution_count": 5,
   "metadata": {},
   "outputs": [
    {
     "name": "stdout",
     "output_type": "stream",
     "text": [
      "<class 'pandas.core.frame.DataFrame'>\n",
      "DatetimeIndex: 5043 entries, 2007-01-01 to 2023-03-10\n",
      "Data columns (total 5 columns):\n",
      " #   Column  Non-Null Count  Dtype  \n",
      "---  ------  --------------  -----  \n",
      " 0   Open    5043 non-null   float64\n",
      " 1   High    5043 non-null   float64\n",
      " 2   Low     5043 non-null   float64\n",
      " 3   Close   5043 non-null   float64\n",
      " 4   Volume  5043 non-null   int64  \n",
      "dtypes: float64(4), int64(1)\n",
      "memory usage: 236.4 KB\n"
     ]
    }
   ],
   "source": [
    "XAUUSD['D1'].info()"
   ]
  },
  {
   "cell_type": "code",
   "execution_count": 6,
   "metadata": {},
   "outputs": [
    {
     "data": {
      "image/png": "[encoded data removed]",
      "text/plain": [
       "<Figure size 1200x800 with 1 Axes>"
      ]
     },
     "metadata": {},
     "output_type": "display_data"
    }
   ],
   "source": [
    "XAUUSD['D1'].Close.plot(figsize=(12, 8), title=\"XAU/USD\", fontsize=12)\n",
    "plt.show()"
   ]
  },
  {
   "cell_type": "markdown",
   "metadata": {},
   "source": [
    "# Prepare data"
   ]
  },
  {
   "cell_type": "markdown",
   "metadata": {},
   "source": [
    "## High and Lows - an iterative approach"
   ]
  },
  {
   "cell_type": "code",
   "execution_count": 11,
   "metadata": {},
   "outputs": [],
   "source": [
    "from scipy.signal import argrelextrema"
   ]
  },
  {
   "cell_type": "code",
   "execution_count": 9,
   "metadata": {},
   "outputs": [],
   "source": [
    "data = XAUUSD['D1'].copy()"
   ]
  },
  {
   "cell_type": "code",
   "execution_count": 12,
   "metadata": {},
   "outputs": [],
   "source": [
    "ll = data.Low.copy()"
   ]
  },
  {
   "cell_type": "code",
   "execution_count": 10,
   "metadata": {},
   "outputs": [],
   "source": [
    "order = 70  # approx. 3 month"
   ]
  },
  {
   "cell_type": "code",
   "execution_count": 13,
   "metadata": {},
   "outputs": [],
   "source": [
    "local_min = argrelextrema(ll.values, np.less_equal, order=order)"
   ]
  },
  {
   "cell_type": "code",
   "execution_count": 14,
   "metadata": {},
   "outputs": [
    {
     "data": {
      "text/plain": [
       "(array([   4,  151,  417,  568,  720,  970, 1118, 1276, 1562, 1679, 2028,\n",
       "        2186, 2317, 2451, 2562, 2668, 2785, 2935, 3106, 3280, 3413, 3622,\n",
       "        3843, 4009, 4116, 4419, 4549, 4904], dtype=int64),)"
      ]
     },
     "execution_count": 14,
     "metadata": {},
     "output_type": "execute_result"
    }
   ],
   "source": [
    "local_min"
   ]
  },
  {
   "cell_type": "code",
   "execution_count": 17,
   "metadata": {},
   "outputs": [
    {
     "data": {
      "text/html": [
       "<div>\n",
       "<style scoped>\n",
       "    .dataframe tbody tr th:only-of-type {\n",
       "        vertical-align: middle;\n",
       "    }\n",
       "\n",
       "    .dataframe tbody tr th {\n",
       "        vertical-align: top;\n",
       "    }\n",
       "\n",
       "    .dataframe thead th {\n",
       "        text-align: right;\n",
       "    }\n",
       "</style>\n",
       "<table border=\"1\" class=\"dataframe\">\n",
       "  <thead>\n",
       "    <tr style=\"text-align: right;\">\n",
       "      <th></th>\n",
       "      <th>Open</th>\n",
       "      <th>High</th>\n",
       "      <th>Low</th>\n",
       "      <th>Close</th>\n",
       "      <th>Volume</th>\n",
       "      <th>hh</th>\n",
       "      <th>hh_date</th>\n",
       "    </tr>\n",
       "    <tr>\n",
       "      <th>Time</th>\n",
       "      <th></th>\n",
       "      <th></th>\n",
       "      <th></th>\n",
       "      <th></th>\n",
       "      <th></th>\n",
       "      <th></th>\n",
       "      <th></th>\n",
       "    </tr>\n",
       "  </thead>\n",
       "  <tbody>\n",
       "    <tr>\n",
       "      <th>2007-01-01</th>\n",
       "      <td>635.679</td>\n",
       "      <td>637.103</td>\n",
       "      <td>635.006</td>\n",
       "      <td>635.943</td>\n",
       "      <td>604</td>\n",
       "      <td>NaN</td>\n",
       "      <td>NaN</td>\n",
       "    </tr>\n",
       "    <tr>\n",
       "      <th>2007-01-02</th>\n",
       "      <td>635.791</td>\n",
       "      <td>640.802</td>\n",
       "      <td>635.286</td>\n",
       "      <td>639.143</td>\n",
       "      <td>1282</td>\n",
       "      <td>NaN</td>\n",
       "      <td>NaN</td>\n",
       "    </tr>\n",
       "    <tr>\n",
       "      <th>2007-01-03</th>\n",
       "      <td>639.029</td>\n",
       "      <td>644.663</td>\n",
       "      <td>624.634</td>\n",
       "      <td>626.602</td>\n",
       "      <td>1302</td>\n",
       "      <td>NaN</td>\n",
       "      <td>NaN</td>\n",
       "    </tr>\n",
       "    <tr>\n",
       "      <th>2007-01-04</th>\n",
       "      <td>626.699</td>\n",
       "      <td>630.352</td>\n",
       "      <td>619.600</td>\n",
       "      <td>622.533</td>\n",
       "      <td>1365</td>\n",
       "      <td>NaN</td>\n",
       "      <td>NaN</td>\n",
       "    </tr>\n",
       "    <tr>\n",
       "      <th>2007-01-05</th>\n",
       "      <td>622.268</td>\n",
       "      <td>625.768</td>\n",
       "      <td>601.591</td>\n",
       "      <td>606.841</td>\n",
       "      <td>1284</td>\n",
       "      <td>NaN</td>\n",
       "      <td>NaN</td>\n",
       "    </tr>\n",
       "    <tr>\n",
       "      <th>...</th>\n",
       "      <td>...</td>\n",
       "      <td>...</td>\n",
       "      <td>...</td>\n",
       "      <td>...</td>\n",
       "      <td>...</td>\n",
       "      <td>...</td>\n",
       "      <td>...</td>\n",
       "    </tr>\n",
       "    <tr>\n",
       "      <th>2023-03-06</th>\n",
       "      <td>1852.255</td>\n",
       "      <td>1858.168</td>\n",
       "      <td>1845.015</td>\n",
       "      <td>1846.255</td>\n",
       "      <td>1380</td>\n",
       "      <td>NaN</td>\n",
       "      <td>NaN</td>\n",
       "    </tr>\n",
       "    <tr>\n",
       "      <th>2023-03-07</th>\n",
       "      <td>1846.225</td>\n",
       "      <td>1851.555</td>\n",
       "      <td>1812.655</td>\n",
       "      <td>1813.865</td>\n",
       "      <td>1380</td>\n",
       "      <td>NaN</td>\n",
       "      <td>NaN</td>\n",
       "    </tr>\n",
       "    <tr>\n",
       "      <th>2023-03-08</th>\n",
       "      <td>1813.855</td>\n",
       "      <td>1824.185</td>\n",
       "      <td>1809.248</td>\n",
       "      <td>1815.175</td>\n",
       "      <td>1379</td>\n",
       "      <td>NaN</td>\n",
       "      <td>NaN</td>\n",
       "    </tr>\n",
       "    <tr>\n",
       "      <th>2023-03-09</th>\n",
       "      <td>1815.195</td>\n",
       "      <td>1835.565</td>\n",
       "      <td>1811.805</td>\n",
       "      <td>1831.415</td>\n",
       "      <td>1366</td>\n",
       "      <td>NaN</td>\n",
       "      <td>NaN</td>\n",
       "    </tr>\n",
       "    <tr>\n",
       "      <th>2023-03-10</th>\n",
       "      <td>1831.428</td>\n",
       "      <td>1867.348</td>\n",
       "      <td>1827.675</td>\n",
       "      <td>1864.098</td>\n",
       "      <td>1080</td>\n",
       "      <td>NaN</td>\n",
       "      <td>NaN</td>\n",
       "    </tr>\n",
       "  </tbody>\n",
       "</table>\n",
       "<p>5043 rows × 7 columns</p>\n",
       "</div>"
      ],
      "text/plain": [
       "                Open      High       Low     Close  Volume  hh  hh_date\n",
       "Time                                                                   \n",
       "2007-01-01   635.679   637.103   635.006   635.943     604 NaN      NaN\n",
       "2007-01-02   635.791   640.802   635.286   639.143    1282 NaN      NaN\n",
       "2007-01-03   639.029   644.663   624.634   626.602    1302 NaN      NaN\n",
       "2007-01-04   626.699   630.352   619.600   622.533    1365 NaN      NaN\n",
       "2007-01-05   622.268   625.768   601.591   606.841    1284 NaN      NaN\n",
       "...              ...       ...       ...       ...     ...  ..      ...\n",
       "2023-03-06  1852.255  1858.168  1845.015  1846.255    1380 NaN      NaN\n",
       "2023-03-07  1846.225  1851.555  1812.655  1813.865    1380 NaN      NaN\n",
       "2023-03-08  1813.855  1824.185  1809.248  1815.175    1379 NaN      NaN\n",
       "2023-03-09  1815.195  1835.565  1811.805  1831.415    1366 NaN      NaN\n",
       "2023-03-10  1831.428  1867.348  1827.675  1864.098    1080 NaN      NaN\n",
       "\n",
       "[5043 rows x 7 columns]"
      ]
     },
     "execution_count": 17,
     "metadata": {},
     "output_type": "execute_result"
    }
   ],
   "source": [
    "data"
   ]
  },
  {
   "cell_type": "code",
   "execution_count": 16,
   "metadata": {},
   "outputs": [],
   "source": [
    "data[\"hh\"] = np.nan\n",
    "data[\"hh_date\"] = np.nan"
   ]
  },
  {
   "cell_type": "code",
   "execution_count": 18,
   "metadata": {},
   "outputs": [],
   "source": [
    "for bar in range(len(data)):  # iterating over the bars\n",
    "    date = data.index[bar]  # determine the current bar´s date\n",
    "    hh = data.iloc[:bar+1].High  # get the high column until current bar\n",
    "\n",
    "    # determine all local highs until current bar\n",
    "    local_max = argrelextrema(hh.values, np.greater_equal, order=order)\n",
    "\n",
    "    # determine the most recent local high (price) and add to \"hh\" column\n",
    "    data.loc[date, \"hh\"] = data.High.values[local_max][-1]\n",
    "\n",
    "    # determine the most recent local high (date) and add to \"hh_date\" column\n",
    "    data.loc[date, \"hh_date\"] = data.index[local_max][-1]"
   ]
  },
  {
   "cell_type": "code",
   "execution_count": 19,
   "metadata": {},
   "outputs": [],
   "source": [
    "data[\"ll\"] = np.nan\n",
    "data[\"ll_date\"] = np.nan"
   ]
  },
  {
   "cell_type": "code",
   "execution_count": 20,
   "metadata": {},
   "outputs": [],
   "source": [
    "for bar in range(len(data)):  # iterating over the bars\n",
    "    date = data.index[bar]  # determine the current bar´s date\n",
    "    ll = data.iloc[:bar+1].Low  # get the high column until current bar\n",
    "\n",
    "    # determine all local lows until current bar\n",
    "    local_min = argrelextrema(ll.values, np.less_equal, order=order)\n",
    "\n",
    "    # determine the most recent local low (price) and add to \"ll\" column\n",
    "    data.loc[date, \"ll\"] = data.Low.values[local_min][-1]\n",
    "\n",
    "    # determine the most recent local low (date) and add to \"ll_date\" column\n",
    "    data.loc[date, \"ll_date\"] = data.index[local_min][-1]"
   ]
  },
  {
   "cell_type": "code",
   "execution_count": 21,
   "metadata": {},
   "outputs": [],
   "source": [
    "data[\"Trend\"] = np.where(data.hh_date > data.ll_date, 1, -1)"
   ]
  },
  {
   "cell_type": "code",
   "execution_count": 24,
   "metadata": {},
   "outputs": [
    {
     "data": {
      "text/html": [
       "<div>\n",
       "<style scoped>\n",
       "    .dataframe tbody tr th:only-of-type {\n",
       "        vertical-align: middle;\n",
       "    }\n",
       "\n",
       "    .dataframe tbody tr th {\n",
       "        vertical-align: top;\n",
       "    }\n",
       "\n",
       "    .dataframe thead th {\n",
       "        text-align: right;\n",
       "    }\n",
       "</style>\n",
       "<table border=\"1\" class=\"dataframe\">\n",
       "  <thead>\n",
       "    <tr style=\"text-align: right;\">\n",
       "      <th></th>\n",
       "      <th>Open</th>\n",
       "      <th>High</th>\n",
       "      <th>Low</th>\n",
       "      <th>Close</th>\n",
       "      <th>Volume</th>\n",
       "      <th>hh</th>\n",
       "      <th>hh_date</th>\n",
       "      <th>ll</th>\n",
       "      <th>ll_date</th>\n",
       "      <th>Trend</th>\n",
       "    </tr>\n",
       "    <tr>\n",
       "      <th>Time</th>\n",
       "      <th></th>\n",
       "      <th></th>\n",
       "      <th></th>\n",
       "      <th></th>\n",
       "      <th></th>\n",
       "      <th></th>\n",
       "      <th></th>\n",
       "      <th></th>\n",
       "      <th></th>\n",
       "      <th></th>\n",
       "    </tr>\n",
       "  </thead>\n",
       "  <tbody>\n",
       "    <tr>\n",
       "      <th>2007-01-01</th>\n",
       "      <td>635.679</td>\n",
       "      <td>637.103</td>\n",
       "      <td>635.006</td>\n",
       "      <td>635.943</td>\n",
       "      <td>604</td>\n",
       "      <td>637.103</td>\n",
       "      <td>2007-01-01 00:00:00</td>\n",
       "      <td>635.006</td>\n",
       "      <td>2007-01-01 00:00:00</td>\n",
       "      <td>Down</td>\n",
       "    </tr>\n",
       "    <tr>\n",
       "      <th>2007-01-02</th>\n",
       "      <td>635.791</td>\n",
       "      <td>640.802</td>\n",
       "      <td>635.286</td>\n",
       "      <td>639.143</td>\n",
       "      <td>1282</td>\n",
       "      <td>640.802</td>\n",
       "      <td>2007-01-02 00:00:00</td>\n",
       "      <td>635.006</td>\n",
       "      <td>2007-01-01 00:00:00</td>\n",
       "      <td>Up</td>\n",
       "    </tr>\n",
       "    <tr>\n",
       "      <th>2007-01-03</th>\n",
       "      <td>639.029</td>\n",
       "      <td>644.663</td>\n",
       "      <td>624.634</td>\n",
       "      <td>626.602</td>\n",
       "      <td>1302</td>\n",
       "      <td>644.663</td>\n",
       "      <td>2007-01-03 00:00:00</td>\n",
       "      <td>624.634</td>\n",
       "      <td>2007-01-03 00:00:00</td>\n",
       "      <td>Down</td>\n",
       "    </tr>\n",
       "    <tr>\n",
       "      <th>2007-01-04</th>\n",
       "      <td>626.699</td>\n",
       "      <td>630.352</td>\n",
       "      <td>619.600</td>\n",
       "      <td>622.533</td>\n",
       "      <td>1365</td>\n",
       "      <td>644.663</td>\n",
       "      <td>2007-01-03 00:00:00</td>\n",
       "      <td>619.600</td>\n",
       "      <td>2007-01-04 00:00:00</td>\n",
       "      <td>Down</td>\n",
       "    </tr>\n",
       "    <tr>\n",
       "      <th>2007-01-05</th>\n",
       "      <td>622.268</td>\n",
       "      <td>625.768</td>\n",
       "      <td>601.591</td>\n",
       "      <td>606.841</td>\n",
       "      <td>1284</td>\n",
       "      <td>644.663</td>\n",
       "      <td>2007-01-03 00:00:00</td>\n",
       "      <td>601.591</td>\n",
       "      <td>2007-01-05 00:00:00</td>\n",
       "      <td>Down</td>\n",
       "    </tr>\n",
       "    <tr>\n",
       "      <th>...</th>\n",
       "      <td>...</td>\n",
       "      <td>...</td>\n",
       "      <td>...</td>\n",
       "      <td>...</td>\n",
       "      <td>...</td>\n",
       "      <td>...</td>\n",
       "      <td>...</td>\n",
       "      <td>...</td>\n",
       "      <td>...</td>\n",
       "      <td>...</td>\n",
       "    </tr>\n",
       "    <tr>\n",
       "      <th>2023-03-06</th>\n",
       "      <td>1852.255</td>\n",
       "      <td>1858.168</td>\n",
       "      <td>1845.015</td>\n",
       "      <td>1846.255</td>\n",
       "      <td>1380</td>\n",
       "      <td>1959.625</td>\n",
       "      <td>2023-02-02 00:00:00</td>\n",
       "      <td>1614.710</td>\n",
       "      <td>2022-09-28 00:00:00</td>\n",
       "      <td>Up</td>\n",
       "    </tr>\n",
       "    <tr>\n",
       "      <th>2023-03-07</th>\n",
       "      <td>1846.225</td>\n",
       "      <td>1851.555</td>\n",
       "      <td>1812.655</td>\n",
       "      <td>1813.865</td>\n",
       "      <td>1380</td>\n",
       "      <td>1959.625</td>\n",
       "      <td>2023-02-02 00:00:00</td>\n",
       "      <td>1614.710</td>\n",
       "      <td>2022-09-28 00:00:00</td>\n",
       "      <td>Up</td>\n",
       "    </tr>\n",
       "    <tr>\n",
       "      <th>2023-03-08</th>\n",
       "      <td>1813.855</td>\n",
       "      <td>1824.185</td>\n",
       "      <td>1809.248</td>\n",
       "      <td>1815.175</td>\n",
       "      <td>1379</td>\n",
       "      <td>1959.625</td>\n",
       "      <td>2023-02-02 00:00:00</td>\n",
       "      <td>1614.710</td>\n",
       "      <td>2022-09-28 00:00:00</td>\n",
       "      <td>Up</td>\n",
       "    </tr>\n",
       "    <tr>\n",
       "      <th>2023-03-09</th>\n",
       "      <td>1815.195</td>\n",
       "      <td>1835.565</td>\n",
       "      <td>1811.805</td>\n",
       "      <td>1831.415</td>\n",
       "      <td>1366</td>\n",
       "      <td>1959.625</td>\n",
       "      <td>2023-02-02 00:00:00</td>\n",
       "      <td>1614.710</td>\n",
       "      <td>2022-09-28 00:00:00</td>\n",
       "      <td>Up</td>\n",
       "    </tr>\n",
       "    <tr>\n",
       "      <th>2023-03-10</th>\n",
       "      <td>1831.428</td>\n",
       "      <td>1867.348</td>\n",
       "      <td>1827.675</td>\n",
       "      <td>1864.098</td>\n",
       "      <td>1080</td>\n",
       "      <td>1959.625</td>\n",
       "      <td>2023-02-02 00:00:00</td>\n",
       "      <td>1614.710</td>\n",
       "      <td>2022-09-28 00:00:00</td>\n",
       "      <td>Up</td>\n",
       "    </tr>\n",
       "  </tbody>\n",
       "</table>\n",
       "<p>5043 rows × 10 columns</p>\n",
       "</div>"
      ],
      "text/plain": [
       "                Open      High       Low     Close  Volume        hh  \\\n",
       "Time                                                                   \n",
       "2007-01-01   635.679   637.103   635.006   635.943     604   637.103   \n",
       "2007-01-02   635.791   640.802   635.286   639.143    1282   640.802   \n",
       "2007-01-03   639.029   644.663   624.634   626.602    1302   644.663   \n",
       "2007-01-04   626.699   630.352   619.600   622.533    1365   644.663   \n",
       "2007-01-05   622.268   625.768   601.591   606.841    1284   644.663   \n",
       "...              ...       ...       ...       ...     ...       ...   \n",
       "2023-03-06  1852.255  1858.168  1845.015  1846.255    1380  1959.625   \n",
       "2023-03-07  1846.225  1851.555  1812.655  1813.865    1380  1959.625   \n",
       "2023-03-08  1813.855  1824.185  1809.248  1815.175    1379  1959.625   \n",
       "2023-03-09  1815.195  1835.565  1811.805  1831.415    1366  1959.625   \n",
       "2023-03-10  1831.428  1867.348  1827.675  1864.098    1080  1959.625   \n",
       "\n",
       "                        hh_date        ll              ll_date Trend  \n",
       "Time                                                                  \n",
       "2007-01-01  2007-01-01 00:00:00   635.006  2007-01-01 00:00:00  Down  \n",
       "2007-01-02  2007-01-02 00:00:00   635.006  2007-01-01 00:00:00    Up  \n",
       "2007-01-03  2007-01-03 00:00:00   624.634  2007-01-03 00:00:00  Down  \n",
       "2007-01-04  2007-01-03 00:00:00   619.600  2007-01-04 00:00:00  Down  \n",
       "2007-01-05  2007-01-03 00:00:00   601.591  2007-01-05 00:00:00  Down  \n",
       "...                         ...       ...                  ...   ...  \n",
       "2023-03-06  2023-02-02 00:00:00  1614.710  2022-09-28 00:00:00    Up  \n",
       "2023-03-07  2023-02-02 00:00:00  1614.710  2022-09-28 00:00:00    Up  \n",
       "2023-03-08  2023-02-02 00:00:00  1614.710  2022-09-28 00:00:00    Up  \n",
       "2023-03-09  2023-02-02 00:00:00  1614.710  2022-09-28 00:00:00    Up  \n",
       "2023-03-10  2023-02-02 00:00:00  1614.710  2022-09-28 00:00:00    Up  \n",
       "\n",
       "[5043 rows x 10 columns]"
      ]
     },
     "execution_count": 24,
     "metadata": {},
     "output_type": "execute_result"
    }
   ],
   "source": [
    "data"
   ]
  },
  {
   "cell_type": "code",
   "execution_count": 23,
   "metadata": {},
   "outputs": [],
   "source": [
    "data[\"Trend\"] = np.where(data.hh_date > data.ll_date, \"Up\", \"Down\")"
   ]
  },
  {
   "cell_type": "code",
   "execution_count": 25,
   "metadata": {},
   "outputs": [],
   "source": [
    "data.drop(columns=[\"hh_date\", \"ll_date\"], inplace=True)"
   ]
  },
  {
   "cell_type": "markdown",
   "metadata": {},
   "source": [
    "## Adding Fibonacci Retracement Levels"
   ]
  },
  {
   "cell_type": "markdown",
   "metadata": {},
   "source": [
    "__Fibonacci Levels derived from Fibonacci numbers: 23.6%, 38.2%, (61.8%)__"
   ]
  },
  {
   "cell_type": "code",
   "execution_count": 26,
   "metadata": {},
   "outputs": [],
   "source": [
    "data[\"R23.6\"] = np.where(data.Trend == \"Up\", data.hh - (data.hh-data.ll)\n",
    "                         * 0.236, data.hh - (data.hh-data.ll) * (1-0.236))"
   ]
  },
  {
   "cell_type": "code",
   "execution_count": 27,
   "metadata": {},
   "outputs": [],
   "source": [
    "data[\"R38.2\"] = np.where(data.Trend == \"Up\", data.hh - (data.hh-data.ll)\n",
    "                         * 0.382, data.hh - (data.hh-data.ll) * (1-0.382))"
   ]
  },
  {
   "cell_type": "code",
   "execution_count": 28,
   "metadata": {},
   "outputs": [],
   "source": [
    "data[\"position\"] = np.where((data.hh != data.hh.shift()) | (\n",
    "    data.ll != data.ll.shift()), 0, np.nan)"
   ]
  },
  {
   "cell_type": "code",
   "execution_count": 29,
   "metadata": {},
   "outputs": [],
   "source": [
    "data[\"position\"] = np.where((data.Trend == \"Down\") & (data.Close.shift(\n",
    ") < data[\"R23.6\"].shift()) & (data.Close > data[\"R23.6\"]), 1, data.position)"
   ]
  },
  {
   "cell_type": "code",
   "execution_count": 30,
   "metadata": {},
   "outputs": [],
   "source": [
    "data[\"position\"] = np.where((data.Trend == \"Down\") & (data.Close.shift(\n",
    ") < data[\"R38.2\"].shift()) & (data.Close >= data[\"R38.2\"]), 0, data.position)"
   ]
  },
  {
   "cell_type": "code",
   "execution_count": 31,
   "metadata": {},
   "outputs": [],
   "source": [
    "data[\"position\"] = np.where((data.Trend == \"Down\") & (\n",
    "    data.Close.shift() > data.ll.shift()) & (data.Close <= data.ll), 0, data.position)"
   ]
  },
  {
   "cell_type": "code",
   "execution_count": 32,
   "metadata": {},
   "outputs": [],
   "source": [
    "data[\"position\"] = np.where((data.Trend == \"Up\") & (data.Close.shift(\n",
    ") > data[\"R23.6\"].shift()) & (data.Close < data[\"R23.6\"]), -1, data.position)\n"
   ]
  },
  {
   "cell_type": "code",
   "execution_count": 33,
   "metadata": {},
   "outputs": [],
   "source": [
    "data[\"position\"] = np.where((data.Trend == \"Up\") & (data.Close.shift(\n",
    ") > data[\"R38.2\"].shift()) & (data.Close <= data[\"R38.2\"]), 0, data.position)\n"
   ]
  },
  {
   "cell_type": "code",
   "execution_count": 34,
   "metadata": {},
   "outputs": [],
   "source": [
    "data[\"position\"] = np.where((data.Trend == \"Up\") & (data.Close.shift(\n",
    ") < data.hh.shift()) & (data.Close >= data.hh), 0, data.position)"
   ]
  },
  {
   "cell_type": "code",
   "execution_count": 35,
   "metadata": {},
   "outputs": [],
   "source": [
    "data[\"position\"] = np.where((data.hh != data.hh.shift()) | (\n",
    "    data.ll != data.ll.shift()), 0, data.position)"
   ]
  },
  {
   "cell_type": "code",
   "execution_count": 36,
   "metadata": {},
   "outputs": [],
   "source": [
    "data[\"position\"] = data.position.ffill()"
   ]
  },
  {
   "cell_type": "markdown",
   "metadata": {},
   "source": [
    "## Vectorized Strategy Backtesting"
   ]
  },
  {
   "cell_type": "code",
   "execution_count": 37,
   "metadata": {},
   "outputs": [],
   "source": [
    "data[\"returns\"] = np.log(data.Close.div(data.Close.shift(1)))"
   ]
  },
  {
   "cell_type": "code",
   "execution_count": 38,
   "metadata": {},
   "outputs": [],
   "source": [
    "data[\"strategy\"] = data.position.shift(1) * data[\"returns\"]"
   ]
  },
  {
   "cell_type": "code",
   "execution_count": 39,
   "metadata": {},
   "outputs": [],
   "source": [
    "data.dropna(inplace=True)"
   ]
  },
  {
   "cell_type": "code",
   "execution_count": 42,
   "metadata": {},
   "outputs": [],
   "source": [
    "data[\"creturns\"] = data[\"returns\"].cumsum().apply(np.exp)\n",
    "data[\"cstrategy\"] = data[\"strategy\"].cumsum().apply(np.exp)"
   ]
  },
  {
   "cell_type": "code",
   "execution_count": 43,
   "metadata": {},
   "outputs": [
    {
     "data": {
      "image/png": "[encoded data removed]",
      "text/plain": [
       "<Figure size 1200x800 with 1 Axes>"
      ]
     },
     "metadata": {},
     "output_type": "display_data"
    }
   ],
   "source": [
    "data[[\"creturns\", \"cstrategy\"]].plot(figsize=(12, 8))\n",
    "plt.show()"
   ]
  },
  {
   "cell_type": "markdown",
   "metadata": {},
   "source": [
    "# Definde strategy"
   ]
  },
  {
   "cell_type": "code",
   "execution_count": 47,
   "metadata": {},
   "outputs": [
    {
     "data": {
      "text/html": [
       "<div>\n",
       "<style scoped>\n",
       "    .dataframe tbody tr th:only-of-type {\n",
       "        vertical-align: middle;\n",
       "    }\n",
       "\n",
       "    .dataframe tbody tr th {\n",
       "        vertical-align: top;\n",
       "    }\n",
       "\n",
       "    .dataframe thead th {\n",
       "        text-align: right;\n",
       "    }\n",
       "</style>\n",
       "<table border=\"1\" class=\"dataframe\">\n",
       "  <thead>\n",
       "    <tr style=\"text-align: right;\">\n",
       "      <th></th>\n",
       "      <th>Open</th>\n",
       "      <th>High</th>\n",
       "      <th>Low</th>\n",
       "      <th>Close</th>\n",
       "      <th>Volume</th>\n",
       "      <th>hh</th>\n",
       "      <th>ll</th>\n",
       "      <th>Trend</th>\n",
       "      <th>R23.6</th>\n",
       "      <th>R38.2</th>\n",
       "      <th>position</th>\n",
       "      <th>returns</th>\n",
       "      <th>strategy</th>\n",
       "      <th>creturns</th>\n",
       "      <th>cstrategy</th>\n",
       "    </tr>\n",
       "    <tr>\n",
       "      <th>Time</th>\n",
       "      <th></th>\n",
       "      <th></th>\n",
       "      <th></th>\n",
       "      <th></th>\n",
       "      <th></th>\n",
       "      <th></th>\n",
       "      <th></th>\n",
       "      <th></th>\n",
       "      <th></th>\n",
       "      <th></th>\n",
       "      <th></th>\n",
       "      <th></th>\n",
       "      <th></th>\n",
       "      <th></th>\n",
       "      <th></th>\n",
       "    </tr>\n",
       "  </thead>\n",
       "  <tbody>\n",
       "    <tr>\n",
       "      <th>2007-01-02</th>\n",
       "      <td>635.791</td>\n",
       "      <td>640.802</td>\n",
       "      <td>635.286</td>\n",
       "      <td>639.143</td>\n",
       "      <td>1282</td>\n",
       "      <td>640.802</td>\n",
       "      <td>635.006</td>\n",
       "      <td>Up</td>\n",
       "      <td>639.434144</td>\n",
       "      <td>638.587928</td>\n",
       "      <td>0.0</td>\n",
       "      <td>0.005019</td>\n",
       "      <td>0.0</td>\n",
       "      <td>1.005032</td>\n",
       "      <td>1.000000</td>\n",
       "    </tr>\n",
       "    <tr>\n",
       "      <th>2007-01-03</th>\n",
       "      <td>639.029</td>\n",
       "      <td>644.663</td>\n",
       "      <td>624.634</td>\n",
       "      <td>626.602</td>\n",
       "      <td>1302</td>\n",
       "      <td>644.663</td>\n",
       "      <td>624.634</td>\n",
       "      <td>Down</td>\n",
       "      <td>629.360844</td>\n",
       "      <td>632.285078</td>\n",
       "      <td>0.0</td>\n",
       "      <td>-0.019817</td>\n",
       "      <td>-0.0</td>\n",
       "      <td>0.985312</td>\n",
       "      <td>1.000000</td>\n",
       "    </tr>\n",
       "    <tr>\n",
       "      <th>2007-01-04</th>\n",
       "      <td>626.699</td>\n",
       "      <td>630.352</td>\n",
       "      <td>619.600</td>\n",
       "      <td>622.533</td>\n",
       "      <td>1365</td>\n",
       "      <td>644.663</td>\n",
       "      <td>619.600</td>\n",
       "      <td>Down</td>\n",
       "      <td>625.514868</td>\n",
       "      <td>629.174066</td>\n",
       "      <td>0.0</td>\n",
       "      <td>-0.006515</td>\n",
       "      <td>-0.0</td>\n",
       "      <td>0.978913</td>\n",
       "      <td>1.000000</td>\n",
       "    </tr>\n",
       "    <tr>\n",
       "      <th>2007-01-05</th>\n",
       "      <td>622.268</td>\n",
       "      <td>625.768</td>\n",
       "      <td>601.591</td>\n",
       "      <td>606.841</td>\n",
       "      <td>1284</td>\n",
       "      <td>644.663</td>\n",
       "      <td>601.591</td>\n",
       "      <td>Down</td>\n",
       "      <td>611.755992</td>\n",
       "      <td>618.044504</td>\n",
       "      <td>0.0</td>\n",
       "      <td>-0.025530</td>\n",
       "      <td>-0.0</td>\n",
       "      <td>0.954238</td>\n",
       "      <td>1.000000</td>\n",
       "    </tr>\n",
       "    <tr>\n",
       "      <th>2007-01-07</th>\n",
       "      <td>606.711</td>\n",
       "      <td>608.966</td>\n",
       "      <td>606.274</td>\n",
       "      <td>607.867</td>\n",
       "      <td>72</td>\n",
       "      <td>644.663</td>\n",
       "      <td>601.591</td>\n",
       "      <td>Down</td>\n",
       "      <td>611.755992</td>\n",
       "      <td>618.044504</td>\n",
       "      <td>0.0</td>\n",
       "      <td>0.001689</td>\n",
       "      <td>0.0</td>\n",
       "      <td>0.955851</td>\n",
       "      <td>1.000000</td>\n",
       "    </tr>\n",
       "    <tr>\n",
       "      <th>...</th>\n",
       "      <td>...</td>\n",
       "      <td>...</td>\n",
       "      <td>...</td>\n",
       "      <td>...</td>\n",
       "      <td>...</td>\n",
       "      <td>...</td>\n",
       "      <td>...</td>\n",
       "      <td>...</td>\n",
       "      <td>...</td>\n",
       "      <td>...</td>\n",
       "      <td>...</td>\n",
       "      <td>...</td>\n",
       "      <td>...</td>\n",
       "      <td>...</td>\n",
       "      <td>...</td>\n",
       "    </tr>\n",
       "    <tr>\n",
       "      <th>2023-03-06</th>\n",
       "      <td>1852.255</td>\n",
       "      <td>1858.168</td>\n",
       "      <td>1845.015</td>\n",
       "      <td>1846.255</td>\n",
       "      <td>1380</td>\n",
       "      <td>1959.625</td>\n",
       "      <td>1614.710</td>\n",
       "      <td>Up</td>\n",
       "      <td>1878.225060</td>\n",
       "      <td>1827.867470</td>\n",
       "      <td>0.0</td>\n",
       "      <td>-0.003245</td>\n",
       "      <td>-0.0</td>\n",
       "      <td>2.903177</td>\n",
       "      <td>1.658444</td>\n",
       "    </tr>\n",
       "    <tr>\n",
       "      <th>2023-03-07</th>\n",
       "      <td>1846.225</td>\n",
       "      <td>1851.555</td>\n",
       "      <td>1812.655</td>\n",
       "      <td>1813.865</td>\n",
       "      <td>1380</td>\n",
       "      <td>1959.625</td>\n",
       "      <td>1614.710</td>\n",
       "      <td>Up</td>\n",
       "      <td>1878.225060</td>\n",
       "      <td>1827.867470</td>\n",
       "      <td>0.0</td>\n",
       "      <td>-0.017699</td>\n",
       "      <td>-0.0</td>\n",
       "      <td>2.852245</td>\n",
       "      <td>1.658444</td>\n",
       "    </tr>\n",
       "    <tr>\n",
       "      <th>2023-03-08</th>\n",
       "      <td>1813.855</td>\n",
       "      <td>1824.185</td>\n",
       "      <td>1809.248</td>\n",
       "      <td>1815.175</td>\n",
       "      <td>1379</td>\n",
       "      <td>1959.625</td>\n",
       "      <td>1614.710</td>\n",
       "      <td>Up</td>\n",
       "      <td>1878.225060</td>\n",
       "      <td>1827.867470</td>\n",
       "      <td>0.0</td>\n",
       "      <td>0.000722</td>\n",
       "      <td>0.0</td>\n",
       "      <td>2.854305</td>\n",
       "      <td>1.658444</td>\n",
       "    </tr>\n",
       "    <tr>\n",
       "      <th>2023-03-09</th>\n",
       "      <td>1815.195</td>\n",
       "      <td>1835.565</td>\n",
       "      <td>1811.805</td>\n",
       "      <td>1831.415</td>\n",
       "      <td>1366</td>\n",
       "      <td>1959.625</td>\n",
       "      <td>1614.710</td>\n",
       "      <td>Up</td>\n",
       "      <td>1878.225060</td>\n",
       "      <td>1827.867470</td>\n",
       "      <td>0.0</td>\n",
       "      <td>0.008907</td>\n",
       "      <td>0.0</td>\n",
       "      <td>2.879841</td>\n",
       "      <td>1.658444</td>\n",
       "    </tr>\n",
       "    <tr>\n",
       "      <th>2023-03-10</th>\n",
       "      <td>1831.428</td>\n",
       "      <td>1867.348</td>\n",
       "      <td>1827.675</td>\n",
       "      <td>1864.098</td>\n",
       "      <td>1080</td>\n",
       "      <td>1959.625</td>\n",
       "      <td>1614.710</td>\n",
       "      <td>Up</td>\n",
       "      <td>1878.225060</td>\n",
       "      <td>1827.867470</td>\n",
       "      <td>0.0</td>\n",
       "      <td>0.017688</td>\n",
       "      <td>0.0</td>\n",
       "      <td>2.931234</td>\n",
       "      <td>1.658444</td>\n",
       "    </tr>\n",
       "  </tbody>\n",
       "</table>\n",
       "<p>5042 rows × 15 columns</p>\n",
       "</div>"
      ],
      "text/plain": [
       "                Open      High       Low     Close  Volume        hh  \\\n",
       "Time                                                                   \n",
       "2007-01-02   635.791   640.802   635.286   639.143    1282   640.802   \n",
       "2007-01-03   639.029   644.663   624.634   626.602    1302   644.663   \n",
       "2007-01-04   626.699   630.352   619.600   622.533    1365   644.663   \n",
       "2007-01-05   622.268   625.768   601.591   606.841    1284   644.663   \n",
       "2007-01-07   606.711   608.966   606.274   607.867      72   644.663   \n",
       "...              ...       ...       ...       ...     ...       ...   \n",
       "2023-03-06  1852.255  1858.168  1845.015  1846.255    1380  1959.625   \n",
       "2023-03-07  1846.225  1851.555  1812.655  1813.865    1380  1959.625   \n",
       "2023-03-08  1813.855  1824.185  1809.248  1815.175    1379  1959.625   \n",
       "2023-03-09  1815.195  1835.565  1811.805  1831.415    1366  1959.625   \n",
       "2023-03-10  1831.428  1867.348  1827.675  1864.098    1080  1959.625   \n",
       "\n",
       "                  ll Trend        R23.6        R38.2  position   returns  \\\n",
       "Time                                                                       \n",
       "2007-01-02   635.006    Up   639.434144   638.587928       0.0  0.005019   \n",
       "2007-01-03   624.634  Down   629.360844   632.285078       0.0 -0.019817   \n",
       "2007-01-04   619.600  Down   625.514868   629.174066       0.0 -0.006515   \n",
       "2007-01-05   601.591  Down   611.755992   618.044504       0.0 -0.025530   \n",
       "2007-01-07   601.591  Down   611.755992   618.044504       0.0  0.001689   \n",
       "...              ...   ...          ...          ...       ...       ...   \n",
       "2023-03-06  1614.710    Up  1878.225060  1827.867470       0.0 -0.003245   \n",
       "2023-03-07  1614.710    Up  1878.225060  1827.867470       0.0 -0.017699   \n",
       "2023-03-08  1614.710    Up  1878.225060  1827.867470       0.0  0.000722   \n",
       "2023-03-09  1614.710    Up  1878.225060  1827.867470       0.0  0.008907   \n",
       "2023-03-10  1614.710    Up  1878.225060  1827.867470       0.0  0.017688   \n",
       "\n",
       "            strategy  creturns  cstrategy  \n",
       "Time                                       \n",
       "2007-01-02       0.0  1.005032   1.000000  \n",
       "2007-01-03      -0.0  0.985312   1.000000  \n",
       "2007-01-04      -0.0  0.978913   1.000000  \n",
       "2007-01-05      -0.0  0.954238   1.000000  \n",
       "2007-01-07       0.0  0.955851   1.000000  \n",
       "...              ...       ...        ...  \n",
       "2023-03-06      -0.0  2.903177   1.658444  \n",
       "2023-03-07      -0.0  2.852245   1.658444  \n",
       "2023-03-08       0.0  2.854305   1.658444  \n",
       "2023-03-09       0.0  2.879841   1.658444  \n",
       "2023-03-10       0.0  2.931234   1.658444  \n",
       "\n",
       "[5042 rows x 15 columns]"
      ]
     },
     "execution_count": 47,
     "metadata": {},
     "output_type": "execute_result"
    }
   ],
   "source": [
    "data"
   ]
  },
  {
   "cell_type": "code",
   "execution_count": 50,
   "metadata": {},
   "outputs": [],
   "source": [
    "class Fibonacci(Strategy):\n",
    "  \n",
    "\n",
    "    def init(self):\n",
    "        return\n",
    "    def next(self):\n",
    "\n",
    "        # position = self.data.df.loc[self.data.df.index[-1], 'position']\n",
    "        \n",
    "        if self.data.position == 1  :\n",
    "            if self.position.is_short :\n",
    "                self.position.close()\n",
    "            self.buy(size=1)\n",
    "         \n",
    "        if self.data.position == -1:\n",
    "            if self.position.is_long:\n",
    "                self.position.close()\n",
    "            self.sell(size=1)\n",
    "      "
   ]
  },
  {
   "cell_type": "markdown",
   "metadata": {},
   "source": [
    "## Backtesting"
   ]
  },
  {
   "cell_type": "code",
   "execution_count": 44,
   "metadata": {},
   "outputs": [],
   "source": [
    "account_size = 20000"
   ]
  },
  {
   "cell_type": "code",
   "execution_count": 51,
   "metadata": {},
   "outputs": [
    {
     "data": {
      "text/plain": [
       "Start                     2007-01-02 00:00:00\n",
       "End                       2023-03-10 00:00:00\n",
       "Duration                   5911 days 00:00:00\n",
       "Exposure Time [%]                   99.861166\n",
       "Equity Final [$]                    47302.698\n",
       "Equity Peak [$]                      52024.81\n",
       "Return [%]                          136.51349\n",
       "Buy & Hold Return [%]              191.655858\n",
       "Return (Ann.) [%]                    4.396366\n",
       "Volatility (Ann.) [%]               64.107548\n",
       "Sharpe Ratio                         0.068578\n",
       "Sortino Ratio                        0.133286\n",
       "Calmar Ratio                         0.048863\n",
       "Max. Drawdown [%]                  -89.973126\n",
       "Avg. Drawdown [%]                   -6.840325\n",
       "Max. Drawdown Duration     2973 days 00:00:00\n",
       "Avg. Drawdown Duration      111 days 00:00:00\n",
       "# Trades                                 1776\n",
       "Win Rate [%]                        70.664414\n",
       "Best Trade [%]                      30.155524\n",
       "Worst Trade [%]                    -18.964199\n",
       "Avg. Trade [%]                       1.132926\n",
       "Max. Trade Duration         301 days 00:00:00\n",
       "Avg. Trade Duration          92 days 00:00:00\n",
       "Profit Factor                         1.70576\n",
       "Expectancy [%]                       1.378764\n",
       "SQN                                  7.265461\n",
       "_strategy                           Fibonacci\n",
       "_equity_curve                            E...\n",
       "_trades                         Size  Entr...\n",
       "dtype: object"
      ]
     },
     "execution_count": 51,
     "metadata": {},
     "output_type": "execute_result"
    }
   ],
   "source": [
    "bt = Backtest(data, Fibonacci, cash=account_size, margin=1/2000 )\n",
    "result = bt.run()\n",
    "result"
   ]
  },
  {
   "cell_type": "code",
   "execution_count": 52,
   "metadata": {},
   "outputs": [
    {
     "data": {
      "image/png": "[encoded data removed]",
      "text/plain": [
       "<Figure size 2600x1000 with 1 Axes>"
      ]
     },
     "metadata": {},
     "output_type": "display_data"
    }
   ],
   "source": [
    "plot_return_trades(result['_trades'], 'XAUUSD_H4' , account_size)"
   ]
  }
 ],
 "metadata": {
  "kernelspec": {
   "display_name": "Python 3 (ipykernel)",
   "language": "python",
   "name": "python3"
  },
  "language_info": {
   "codemirror_mode": {
    "name": "ipython",
    "version": 3
   },
   "file_extension": ".py",
   "mimetype": "text/x-python",
   "name": "python",
   "nbconvert_exporter": "python",
   "pygments_lexer": "ipython3",
   "version": "3.10.9"
  }
 },
 "nbformat": 4,
 "nbformat_minor": 4
}
