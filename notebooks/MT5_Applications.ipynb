{
 "cells": [
  {
   "cell_type": "code",
   "execution_count": 1,
   "metadata": {},
   "outputs": [],
   "source": [
    "from MT5 import *\n",
    "import plotly.graph_objects as go\n",
    "from datetime import datetime"
   ]
  },
  {
   "cell_type": "code",
   "execution_count": 13,
   "metadata": {},
   "outputs": [
    {
     "data": {
      "text/plain": [
       "True"
      ]
     },
     "execution_count": 13,
     "metadata": {},
     "output_type": "execute_result"
    }
   ],
   "source": [
    "mt5.initialize()"
   ]
  },
  {
   "cell_type": "code",
   "execution_count": 6,
   "metadata": {},
   "outputs": [
    {
     "name": "stdout",
     "output_type": "stream",
     "text": [
      "------------------------------------------------------------------\n",
      "Date: 2023-03-14 17:19:03\n",
      "Balance: 467.03 USD,\tEquity: 466.95 USD, \tProfit: -0.08 USD\n",
      "------------------------------------------------------------------\n"
     ]
    }
   ],
   "source": [
    "current_account_info = mt5.account_info()\n",
    "print(\"------------------------------------------------------------------\")\n",
    "print(f\"Date: {datetime.now().strftime('%Y-%m-%d %H:%M:%S')}\")\n",
    "print(f\"Balance: {current_account_info.balance} USD,\\t\"\n",
    "    f\"Equity: {current_account_info.equity} USD, \\t\"\n",
    "    f\"Profit: {current_account_info.profit} USD\")\n",
    "print(\"------------------------------------------------------------------\")"
   ]
  },
  {
   "cell_type": "code",
   "execution_count": 4,
   "metadata": {},
   "outputs": [],
   "source": [
    "symbol = \"EURUSDm\""
   ]
  },
  {
   "cell_type": "code",
   "execution_count": 7,
   "metadata": {},
   "outputs": [],
   "source": [
    "symbol = \"USDCHFm\""
   ]
  },
  {
   "cell_type": "code",
   "execution_count": 5,
   "metadata": {},
   "outputs": [
    {
     "name": "stdout",
     "output_type": "stream",
     "text": [
      "------------------------------------------------------------------\n",
      "Date:  2023-03-14 17:18:54\n",
      "SYMBOL: EURUSDm\n",
      "BUY: False \t  SHORT: True\n",
      "POSITION: None \t ID: None\n",
      "OPEN SHORT TRADE: python script or\n",
      "------------------------------------------------------------------\n"
     ]
    }
   ],
   "source": [
    "# MT5.run(symbol, buy, sell, lot)\n",
    "MT5.run(symbol, False, True, 0.01)"
   ]
  },
  {
   "cell_type": "markdown",
   "metadata": {},
   "source": []
  },
  {
   "cell_type": "code",
   "execution_count": 8,
   "metadata": {},
   "outputs": [
    {
     "name": "stdout",
     "output_type": "stream",
     "text": [
      "------------------------------------------------------------------\n",
      "Date:  2023-03-14 17:19:30\n",
      "SYMBOL: USDCHFm\n",
      "BUY: True \t  SHORT: False\n",
      "POSITION: None \t ID: None\n",
      "OPEN LONG TRADE: python script or\n",
      "------------------------------------------------------------------\n"
     ]
    }
   ],
   "source": [
    "MT5.run(symbol, True, False, 0.01)"
   ]
  },
  {
   "cell_type": "code",
   "execution_count": 9,
   "metadata": {},
   "outputs": [],
   "source": [
    "MT5.close_all_orders()"
   ]
  },
  {
   "cell_type": "code",
   "execution_count": 6,
   "metadata": {},
   "outputs": [],
   "source": [
    "timeframe = mt5.TIMEFRAME_H4"
   ]
  },
  {
   "cell_type": "code",
   "execution_count": 7,
   "metadata": {},
   "outputs": [
    {
     "data": {
      "text/html": [
       "<div>\n",
       "<style scoped>\n",
       "    .dataframe tbody tr th:only-of-type {\n",
       "        vertical-align: middle;\n",
       "    }\n",
       "\n",
       "    .dataframe tbody tr th {\n",
       "        vertical-align: top;\n",
       "    }\n",
       "\n",
       "    .dataframe thead th {\n",
       "        text-align: right;\n",
       "    }\n",
       "</style>\n",
       "<table border=\"1\" class=\"dataframe\">\n",
       "  <thead>\n",
       "    <tr style=\"text-align: right;\">\n",
       "      <th></th>\n",
       "      <th>open</th>\n",
       "      <th>high</th>\n",
       "      <th>low</th>\n",
       "      <th>close</th>\n",
       "      <th>tick_volume</th>\n",
       "      <th>spread</th>\n",
       "      <th>real_volume</th>\n",
       "    </tr>\n",
       "    <tr>\n",
       "      <th>time</th>\n",
       "      <th></th>\n",
       "      <th></th>\n",
       "      <th></th>\n",
       "      <th></th>\n",
       "      <th></th>\n",
       "      <th></th>\n",
       "      <th></th>\n",
       "    </tr>\n",
       "  </thead>\n",
       "  <tbody>\n",
       "    <tr>\n",
       "      <th>2023-03-08 19:00:00</th>\n",
       "      <td>1.05372</td>\n",
       "      <td>1.05734</td>\n",
       "      <td>1.05292</td>\n",
       "      <td>1.05522</td>\n",
       "      <td>17817</td>\n",
       "      <td>8</td>\n",
       "      <td>0</td>\n",
       "    </tr>\n",
       "    <tr>\n",
       "      <th>2023-03-08 23:00:00</th>\n",
       "      <td>1.05524</td>\n",
       "      <td>1.05673</td>\n",
       "      <td>1.05394</td>\n",
       "      <td>1.05456</td>\n",
       "      <td>8393</td>\n",
       "      <td>8</td>\n",
       "      <td>0</td>\n",
       "    </tr>\n",
       "    <tr>\n",
       "      <th>2023-03-09 03:00:00</th>\n",
       "      <td>1.05454</td>\n",
       "      <td>1.05496</td>\n",
       "      <td>1.05355</td>\n",
       "      <td>1.05470</td>\n",
       "      <td>1505</td>\n",
       "      <td>8</td>\n",
       "      <td>0</td>\n",
       "    </tr>\n",
       "    <tr>\n",
       "      <th>2023-03-09 07:00:00</th>\n",
       "      <td>1.05485</td>\n",
       "      <td>1.05528</td>\n",
       "      <td>1.05377</td>\n",
       "      <td>1.05489</td>\n",
       "      <td>2441</td>\n",
       "      <td>8</td>\n",
       "      <td>0</td>\n",
       "    </tr>\n",
       "    <tr>\n",
       "      <th>2023-03-09 11:00:00</th>\n",
       "      <td>1.05489</td>\n",
       "      <td>1.05593</td>\n",
       "      <td>1.05456</td>\n",
       "      <td>1.05558</td>\n",
       "      <td>2737</td>\n",
       "      <td>8</td>\n",
       "      <td>0</td>\n",
       "    </tr>\n",
       "    <tr>\n",
       "      <th>2023-03-09 15:00:00</th>\n",
       "      <td>1.05558</td>\n",
       "      <td>1.05810</td>\n",
       "      <td>1.05478</td>\n",
       "      <td>1.05707</td>\n",
       "      <td>6381</td>\n",
       "      <td>8</td>\n",
       "      <td>0</td>\n",
       "    </tr>\n",
       "    <tr>\n",
       "      <th>2023-03-09 19:00:00</th>\n",
       "      <td>1.05704</td>\n",
       "      <td>1.05860</td>\n",
       "      <td>1.05521</td>\n",
       "      <td>1.05682</td>\n",
       "      <td>12311</td>\n",
       "      <td>8</td>\n",
       "      <td>0</td>\n",
       "    </tr>\n",
       "    <tr>\n",
       "      <th>2023-03-09 23:00:00</th>\n",
       "      <td>1.05682</td>\n",
       "      <td>1.05907</td>\n",
       "      <td>1.05633</td>\n",
       "      <td>1.05755</td>\n",
       "      <td>7654</td>\n",
       "      <td>8</td>\n",
       "      <td>0</td>\n",
       "    </tr>\n",
       "    <tr>\n",
       "      <th>2023-03-10 03:00:00</th>\n",
       "      <td>1.05753</td>\n",
       "      <td>1.05836</td>\n",
       "      <td>1.05721</td>\n",
       "      <td>1.05836</td>\n",
       "      <td>3179</td>\n",
       "      <td>8</td>\n",
       "      <td>0</td>\n",
       "    </tr>\n",
       "    <tr>\n",
       "      <th>2023-03-10 07:00:00</th>\n",
       "      <td>1.05851</td>\n",
       "      <td>1.05990</td>\n",
       "      <td>1.05792</td>\n",
       "      <td>1.05964</td>\n",
       "      <td>5719</td>\n",
       "      <td>8</td>\n",
       "      <td>0</td>\n",
       "    </tr>\n",
       "    <tr>\n",
       "      <th>2023-03-10 11:00:00</th>\n",
       "      <td>1.05963</td>\n",
       "      <td>1.06061</td>\n",
       "      <td>1.05808</td>\n",
       "      <td>1.05943</td>\n",
       "      <td>5107</td>\n",
       "      <td>8</td>\n",
       "      <td>0</td>\n",
       "    </tr>\n",
       "    <tr>\n",
       "      <th>2023-03-10 15:00:00</th>\n",
       "      <td>1.05945</td>\n",
       "      <td>1.06032</td>\n",
       "      <td>1.05736</td>\n",
       "      <td>1.05893</td>\n",
       "      <td>9874</td>\n",
       "      <td>8</td>\n",
       "      <td>0</td>\n",
       "    </tr>\n",
       "    <tr>\n",
       "      <th>2023-03-10 19:00:00</th>\n",
       "      <td>1.05891</td>\n",
       "      <td>1.07003</td>\n",
       "      <td>1.05804</td>\n",
       "      <td>1.06870</td>\n",
       "      <td>34391</td>\n",
       "      <td>8</td>\n",
       "      <td>0</td>\n",
       "    </tr>\n",
       "    <tr>\n",
       "      <th>2023-03-10 23:00:00</th>\n",
       "      <td>1.06869</td>\n",
       "      <td>1.06869</td>\n",
       "      <td>1.06355</td>\n",
       "      <td>1.06432</td>\n",
       "      <td>16062</td>\n",
       "      <td>8</td>\n",
       "      <td>0</td>\n",
       "    </tr>\n",
       "    <tr>\n",
       "      <th>2023-03-11 03:00:00</th>\n",
       "      <td>1.06431</td>\n",
       "      <td>1.06476</td>\n",
       "      <td>1.06363</td>\n",
       "      <td>1.06389</td>\n",
       "      <td>3442</td>\n",
       "      <td>8</td>\n",
       "      <td>0</td>\n",
       "    </tr>\n",
       "    <tr>\n",
       "      <th>2023-03-13 03:00:00</th>\n",
       "      <td>1.06727</td>\n",
       "      <td>1.07022</td>\n",
       "      <td>1.06722</td>\n",
       "      <td>1.06807</td>\n",
       "      <td>7564</td>\n",
       "      <td>10</td>\n",
       "      <td>0</td>\n",
       "    </tr>\n",
       "    <tr>\n",
       "      <th>2023-03-13 07:00:00</th>\n",
       "      <td>1.06810</td>\n",
       "      <td>1.07363</td>\n",
       "      <td>1.06638</td>\n",
       "      <td>1.07166</td>\n",
       "      <td>12622</td>\n",
       "      <td>8</td>\n",
       "      <td>0</td>\n",
       "    </tr>\n",
       "    <tr>\n",
       "      <th>2023-03-13 11:00:00</th>\n",
       "      <td>1.07168</td>\n",
       "      <td>1.07368</td>\n",
       "      <td>1.07129</td>\n",
       "      <td>1.07248</td>\n",
       "      <td>7519</td>\n",
       "      <td>8</td>\n",
       "      <td>0</td>\n",
       "    </tr>\n",
       "    <tr>\n",
       "      <th>2023-03-13 15:00:00</th>\n",
       "      <td>1.07249</td>\n",
       "      <td>1.07285</td>\n",
       "      <td>1.06570</td>\n",
       "      <td>1.06635</td>\n",
       "      <td>28035</td>\n",
       "      <td>8</td>\n",
       "      <td>0</td>\n",
       "    </tr>\n",
       "    <tr>\n",
       "      <th>2023-03-13 19:00:00</th>\n",
       "      <td>1.06637</td>\n",
       "      <td>1.06975</td>\n",
       "      <td>1.06498</td>\n",
       "      <td>1.06912</td>\n",
       "      <td>16262</td>\n",
       "      <td>8</td>\n",
       "      <td>0</td>\n",
       "    </tr>\n",
       "  </tbody>\n",
       "</table>\n",
       "</div>"
      ],
      "text/plain": [
       "                        open     high      low    close  tick_volume  spread  \\\n",
       "time                                                                           \n",
       "2023-03-08 19:00:00  1.05372  1.05734  1.05292  1.05522        17817       8   \n",
       "2023-03-08 23:00:00  1.05524  1.05673  1.05394  1.05456         8393       8   \n",
       "2023-03-09 03:00:00  1.05454  1.05496  1.05355  1.05470         1505       8   \n",
       "2023-03-09 07:00:00  1.05485  1.05528  1.05377  1.05489         2441       8   \n",
       "2023-03-09 11:00:00  1.05489  1.05593  1.05456  1.05558         2737       8   \n",
       "2023-03-09 15:00:00  1.05558  1.05810  1.05478  1.05707         6381       8   \n",
       "2023-03-09 19:00:00  1.05704  1.05860  1.05521  1.05682        12311       8   \n",
       "2023-03-09 23:00:00  1.05682  1.05907  1.05633  1.05755         7654       8   \n",
       "2023-03-10 03:00:00  1.05753  1.05836  1.05721  1.05836         3179       8   \n",
       "2023-03-10 07:00:00  1.05851  1.05990  1.05792  1.05964         5719       8   \n",
       "2023-03-10 11:00:00  1.05963  1.06061  1.05808  1.05943         5107       8   \n",
       "2023-03-10 15:00:00  1.05945  1.06032  1.05736  1.05893         9874       8   \n",
       "2023-03-10 19:00:00  1.05891  1.07003  1.05804  1.06870        34391       8   \n",
       "2023-03-10 23:00:00  1.06869  1.06869  1.06355  1.06432        16062       8   \n",
       "2023-03-11 03:00:00  1.06431  1.06476  1.06363  1.06389         3442       8   \n",
       "2023-03-13 03:00:00  1.06727  1.07022  1.06722  1.06807         7564      10   \n",
       "2023-03-13 07:00:00  1.06810  1.07363  1.06638  1.07166        12622       8   \n",
       "2023-03-13 11:00:00  1.07168  1.07368  1.07129  1.07248         7519       8   \n",
       "2023-03-13 15:00:00  1.07249  1.07285  1.06570  1.06635        28035       8   \n",
       "2023-03-13 19:00:00  1.06637  1.06975  1.06498  1.06912        16262       8   \n",
       "\n",
       "                     real_volume  \n",
       "time                              \n",
       "2023-03-08 19:00:00            0  \n",
       "2023-03-08 23:00:00            0  \n",
       "2023-03-09 03:00:00            0  \n",
       "2023-03-09 07:00:00            0  \n",
       "2023-03-09 11:00:00            0  \n",
       "2023-03-09 15:00:00            0  \n",
       "2023-03-09 19:00:00            0  \n",
       "2023-03-09 23:00:00            0  \n",
       "2023-03-10 03:00:00            0  \n",
       "2023-03-10 07:00:00            0  \n",
       "2023-03-10 11:00:00            0  \n",
       "2023-03-10 15:00:00            0  \n",
       "2023-03-10 19:00:00            0  \n",
       "2023-03-10 23:00:00            0  \n",
       "2023-03-11 03:00:00            0  \n",
       "2023-03-13 03:00:00            0  \n",
       "2023-03-13 07:00:00            0  \n",
       "2023-03-13 11:00:00            0  \n",
       "2023-03-13 15:00:00            0  \n",
       "2023-03-13 19:00:00            0  "
      ]
     },
     "execution_count": 7,
     "metadata": {},
     "output_type": "execute_result"
    }
   ],
   "source": [
    "Data_realtime = MT5.get_data(symbol, 20,timeframe).dropna()\n",
    "Data_realtime"
   ]
  },
  {
   "cell_type": "code",
   "execution_count": 8,
   "metadata": {},
   "outputs": [],
   "source": [
    "Data_realtime=Data_realtime.reset_index()"
   ]
  },
  {
   "cell_type": "code",
   "execution_count": 9,
   "metadata": {},
   "outputs": [
    {
     "data": {
      "text/html": [
       "<div>\n",
       "<style scoped>\n",
       "    .dataframe tbody tr th:only-of-type {\n",
       "        vertical-align: middle;\n",
       "    }\n",
       "\n",
       "    .dataframe tbody tr th {\n",
       "        vertical-align: top;\n",
       "    }\n",
       "\n",
       "    .dataframe thead th {\n",
       "        text-align: right;\n",
       "    }\n",
       "</style>\n",
       "<table border=\"1\" class=\"dataframe\">\n",
       "  <thead>\n",
       "    <tr style=\"text-align: right;\">\n",
       "      <th></th>\n",
       "      <th>time</th>\n",
       "      <th>open</th>\n",
       "      <th>high</th>\n",
       "      <th>low</th>\n",
       "      <th>close</th>\n",
       "      <th>tick_volume</th>\n",
       "      <th>spread</th>\n",
       "      <th>real_volume</th>\n",
       "    </tr>\n",
       "  </thead>\n",
       "  <tbody>\n",
       "    <tr>\n",
       "      <th>0</th>\n",
       "      <td>2023-03-08 19:00:00</td>\n",
       "      <td>1.05372</td>\n",
       "      <td>1.05734</td>\n",
       "      <td>1.05292</td>\n",
       "      <td>1.05522</td>\n",
       "      <td>17817</td>\n",
       "      <td>8</td>\n",
       "      <td>0</td>\n",
       "    </tr>\n",
       "    <tr>\n",
       "      <th>1</th>\n",
       "      <td>2023-03-08 23:00:00</td>\n",
       "      <td>1.05524</td>\n",
       "      <td>1.05673</td>\n",
       "      <td>1.05394</td>\n",
       "      <td>1.05456</td>\n",
       "      <td>8393</td>\n",
       "      <td>8</td>\n",
       "      <td>0</td>\n",
       "    </tr>\n",
       "    <tr>\n",
       "      <th>2</th>\n",
       "      <td>2023-03-09 03:00:00</td>\n",
       "      <td>1.05454</td>\n",
       "      <td>1.05496</td>\n",
       "      <td>1.05355</td>\n",
       "      <td>1.05470</td>\n",
       "      <td>1505</td>\n",
       "      <td>8</td>\n",
       "      <td>0</td>\n",
       "    </tr>\n",
       "    <tr>\n",
       "      <th>3</th>\n",
       "      <td>2023-03-09 07:00:00</td>\n",
       "      <td>1.05485</td>\n",
       "      <td>1.05528</td>\n",
       "      <td>1.05377</td>\n",
       "      <td>1.05489</td>\n",
       "      <td>2441</td>\n",
       "      <td>8</td>\n",
       "      <td>0</td>\n",
       "    </tr>\n",
       "    <tr>\n",
       "      <th>4</th>\n",
       "      <td>2023-03-09 11:00:00</td>\n",
       "      <td>1.05489</td>\n",
       "      <td>1.05593</td>\n",
       "      <td>1.05456</td>\n",
       "      <td>1.05558</td>\n",
       "      <td>2737</td>\n",
       "      <td>8</td>\n",
       "      <td>0</td>\n",
       "    </tr>\n",
       "  </tbody>\n",
       "</table>\n",
       "</div>"
      ],
      "text/plain": [
       "                 time     open     high      low    close  tick_volume  \\\n",
       "0 2023-03-08 19:00:00  1.05372  1.05734  1.05292  1.05522        17817   \n",
       "1 2023-03-08 23:00:00  1.05524  1.05673  1.05394  1.05456         8393   \n",
       "2 2023-03-09 03:00:00  1.05454  1.05496  1.05355  1.05470         1505   \n",
       "3 2023-03-09 07:00:00  1.05485  1.05528  1.05377  1.05489         2441   \n",
       "4 2023-03-09 11:00:00  1.05489  1.05593  1.05456  1.05558         2737   \n",
       "\n",
       "   spread  real_volume  \n",
       "0       8            0  \n",
       "1       8            0  \n",
       "2       8            0  \n",
       "3       8            0  \n",
       "4       8            0  "
      ]
     },
     "execution_count": 9,
     "metadata": {},
     "output_type": "execute_result"
    }
   ],
   "source": [
    "Data_realtime.head()"
   ]
  },
  {
   "cell_type": "code",
   "execution_count": 10,
   "metadata": {},
   "outputs": [
    {
     "name": "stdout",
     "output_type": "stream",
     "text": [
      "<class 'pandas.core.frame.DataFrame'>\n",
      "RangeIndex: 20 entries, 0 to 19\n",
      "Data columns (total 8 columns):\n",
      " #   Column       Non-Null Count  Dtype         \n",
      "---  ------       --------------  -----         \n",
      " 0   time         20 non-null     datetime64[ns]\n",
      " 1   open         20 non-null     float64       \n",
      " 2   high         20 non-null     float64       \n",
      " 3   low          20 non-null     float64       \n",
      " 4   close        20 non-null     float64       \n",
      " 5   tick_volume  20 non-null     uint64        \n",
      " 6   spread       20 non-null     int32         \n",
      " 7   real_volume  20 non-null     uint64        \n",
      "dtypes: datetime64[ns](1), float64(4), int32(1), uint64(2)\n",
      "memory usage: 1.3 KB\n"
     ]
    }
   ],
   "source": [
    "Data_realtime.info()"
   ]
  },
  {
   "cell_type": "code",
   "execution_count": 11,
   "metadata": {},
   "outputs": [],
   "source": [
    "def convert_datetime(dt):\n",
    "    return datetime.strftime(dt, '%Y-%m-%d %H:%M:%S')\n"
   ]
  },
  {
   "cell_type": "code",
   "execution_count": 12,
   "metadata": {},
   "outputs": [],
   "source": [
    "Data_realtime['time'] = Data_realtime['time'].apply(convert_datetime)"
   ]
  },
  {
   "cell_type": "code",
   "execution_count": 13,
   "metadata": {},
   "outputs": [
    {
     "name": "stdout",
     "output_type": "stream",
     "text": [
      "<class 'pandas.core.frame.DataFrame'>\n",
      "RangeIndex: 20 entries, 0 to 19\n",
      "Data columns (total 8 columns):\n",
      " #   Column       Non-Null Count  Dtype  \n",
      "---  ------       --------------  -----  \n",
      " 0   time         20 non-null     object \n",
      " 1   open         20 non-null     float64\n",
      " 2   high         20 non-null     float64\n",
      " 3   low          20 non-null     float64\n",
      " 4   close        20 non-null     float64\n",
      " 5   tick_volume  20 non-null     uint64 \n",
      " 6   spread       20 non-null     int32  \n",
      " 7   real_volume  20 non-null     uint64 \n",
      "dtypes: float64(4), int32(1), object(1), uint64(2)\n",
      "memory usage: 1.3+ KB\n"
     ]
    }
   ],
   "source": [
    "Data_realtime.info()"
   ]
  },
  {
   "cell_type": "code",
   "execution_count": 14,
   "metadata": {},
   "outputs": [
    {
     "data": {
      "application/vnd.plotly.v1+json": {
       "config": {
        "plotlyServerURL": "https://plot.ly"
       },
       "data": [
        {
         "close": [
          1.05522,
          1.05456,
          1.0547,
          1.05489,
          1.05558,
          1.05707,
          1.05682,
          1.05755,
          1.05836,
          1.05964,
          1.05943,
          1.05893,
          1.0687,
          1.06432,
          1.06389,
          1.06807,
          1.07166,
          1.07248,
          1.06635,
          1.06912
         ],
         "decreasing": {
          "fillcolor": "#CC2E3C",
          "line": {
           "color": "#FF3A4C"
          }
         },
         "high": [
          1.05734,
          1.05673,
          1.05496,
          1.05528,
          1.05593,
          1.0581,
          1.0586,
          1.05907,
          1.05836,
          1.0599,
          1.06061,
          1.06032,
          1.07003,
          1.06869,
          1.06476,
          1.07022,
          1.07363,
          1.07368,
          1.07285,
          1.06975
         ],
         "increasing": {
          "fillcolor": "#24A06B",
          "line": {
           "color": "#2EC886"
          }
         },
         "line": {
          "width": 1
         },
         "low": [
          1.05292,
          1.05394,
          1.05355,
          1.05377,
          1.05456,
          1.05478,
          1.05521,
          1.05633,
          1.05721,
          1.05792,
          1.05808,
          1.05736,
          1.05804,
          1.06355,
          1.06363,
          1.06722,
          1.06638,
          1.07129,
          1.0657,
          1.06498
         ],
         "opacity": 1,
         "open": [
          1.05372,
          1.05524,
          1.05454,
          1.05485,
          1.05489,
          1.05558,
          1.05704,
          1.05682,
          1.05753,
          1.05851,
          1.05963,
          1.05945,
          1.05891,
          1.06869,
          1.06431,
          1.06727,
          1.0681,
          1.07168,
          1.07249,
          1.06637
         ],
         "type": "candlestick",
         "x": [
          "2023-03-08 19:00:00",
          "2023-03-08 23:00:00",
          "2023-03-09 03:00:00",
          "2023-03-09 07:00:00",
          "2023-03-09 11:00:00",
          "2023-03-09 15:00:00",
          "2023-03-09 19:00:00",
          "2023-03-09 23:00:00",
          "2023-03-10 03:00:00",
          "2023-03-10 07:00:00",
          "2023-03-10 11:00:00",
          "2023-03-10 15:00:00",
          "2023-03-10 19:00:00",
          "2023-03-10 23:00:00",
          "2023-03-11 03:00:00",
          "2023-03-13 03:00:00",
          "2023-03-13 07:00:00",
          "2023-03-13 11:00:00",
          "2023-03-13 15:00:00",
          "2023-03-13 19:00:00"
         ]
        }
       ],
       "layout": {
        "font": {
         "color": "#e1e1e1",
         "size": 10
        },
        "height": 600,
        "margin": {
         "b": 10,
         "l": 10,
         "r": 10,
         "t": 10
        },
        "paper_bgcolor": "#1e1e1e",
        "plot_bgcolor": "#1e1e1e",
        "template": {
         "data": {
          "bar": [
           {
            "error_x": {
             "color": "#2a3f5f"
            },
            "error_y": {
             "color": "#2a3f5f"
            },
            "marker": {
             "line": {
              "color": "#E5ECF6",
              "width": 0.5
             },
             "pattern": {
              "fillmode": "overlay",
              "size": 10,
              "solidity": 0.2
             }
            },
            "type": "bar"
           }
          ],
          "barpolar": [
           {
            "marker": {
             "line": {
              "color": "#E5ECF6",
              "width": 0.5
             },
             "pattern": {
              "fillmode": "overlay",
              "size": 10,
              "solidity": 0.2
             }
            },
            "type": "barpolar"
           }
          ],
          "carpet": [
           {
            "aaxis": {
             "endlinecolor": "#2a3f5f",
             "gridcolor": "white",
             "linecolor": "white",
             "minorgridcolor": "white",
             "startlinecolor": "#2a3f5f"
            },
            "baxis": {
             "endlinecolor": "#2a3f5f",
             "gridcolor": "white",
             "linecolor": "white",
             "minorgridcolor": "white",
             "startlinecolor": "#2a3f5f"
            },
            "type": "carpet"
           }
          ],
          "choropleth": [
           {
            "colorbar": {
             "outlinewidth": 0,
             "ticks": ""
            },
            "type": "choropleth"
           }
          ],
          "contour": [
           {
            "colorbar": {
             "outlinewidth": 0,
             "ticks": ""
            },
            "colorscale": [
             [
              0,
              "#0d0887"
             ],
             [
              0.1111111111111111,
              "#46039f"
             ],
             [
              0.2222222222222222,
              "#7201a8"
             ],
             [
              0.3333333333333333,
              "#9c179e"
             ],
             [
              0.4444444444444444,
              "#bd3786"
             ],
             [
              0.5555555555555556,
              "#d8576b"
             ],
             [
              0.6666666666666666,
              "#ed7953"
             ],
             [
              0.7777777777777778,
              "#fb9f3a"
             ],
             [
              0.8888888888888888,
              "#fdca26"
             ],
             [
              1,
              "#f0f921"
             ]
            ],
            "type": "contour"
           }
          ],
          "contourcarpet": [
           {
            "colorbar": {
             "outlinewidth": 0,
             "ticks": ""
            },
            "type": "contourcarpet"
           }
          ],
          "heatmap": [
           {
            "colorbar": {
             "outlinewidth": 0,
             "ticks": ""
            },
            "colorscale": [
             [
              0,
              "#0d0887"
             ],
             [
              0.1111111111111111,
              "#46039f"
             ],
             [
              0.2222222222222222,
              "#7201a8"
             ],
             [
              0.3333333333333333,
              "#9c179e"
             ],
             [
              0.4444444444444444,
              "#bd3786"
             ],
             [
              0.5555555555555556,
              "#d8576b"
             ],
             [
              0.6666666666666666,
              "#ed7953"
             ],
             [
              0.7777777777777778,
              "#fb9f3a"
             ],
             [
              0.8888888888888888,
              "#fdca26"
             ],
             [
              1,
              "#f0f921"
             ]
            ],
            "type": "heatmap"
           }
          ],
          "heatmapgl": [
           {
            "colorbar": {
             "outlinewidth": 0,
             "ticks": ""
            },
            "colorscale": [
             [
              0,
              "#0d0887"
             ],
             [
              0.1111111111111111,
              "#46039f"
             ],
             [
              0.2222222222222222,
              "#7201a8"
             ],
             [
              0.3333333333333333,
              "#9c179e"
             ],
             [
              0.4444444444444444,
              "#bd3786"
             ],
             [
              0.5555555555555556,
              "#d8576b"
             ],
             [
              0.6666666666666666,
              "#ed7953"
             ],
             [
              0.7777777777777778,
              "#fb9f3a"
             ],
             [
              0.8888888888888888,
              "#fdca26"
             ],
             [
              1,
              "#f0f921"
             ]
            ],
            "type": "heatmapgl"
           }
          ],
          "histogram": [
           {
            "marker": {
             "pattern": {
              "fillmode": "overlay",
              "size": 10,
              "solidity": 0.2
             }
            },
            "type": "histogram"
           }
          ],
          "histogram2d": [
           {
            "colorbar": {
             "outlinewidth": 0,
             "ticks": ""
            },
            "colorscale": [
             [
              0,
              "#0d0887"
             ],
             [
              0.1111111111111111,
              "#46039f"
             ],
             [
              0.2222222222222222,
              "#7201a8"
             ],
             [
              0.3333333333333333,
              "#9c179e"
             ],
             [
              0.4444444444444444,
              "#bd3786"
             ],
             [
              0.5555555555555556,
              "#d8576b"
             ],
             [
              0.6666666666666666,
              "#ed7953"
             ],
             [
              0.7777777777777778,
              "#fb9f3a"
             ],
             [
              0.8888888888888888,
              "#fdca26"
             ],
             [
              1,
              "#f0f921"
             ]
            ],
            "type": "histogram2d"
           }
          ],
          "histogram2dcontour": [
           {
            "colorbar": {
             "outlinewidth": 0,
             "ticks": ""
            },
            "colorscale": [
             [
              0,
              "#0d0887"
             ],
             [
              0.1111111111111111,
              "#46039f"
             ],
             [
              0.2222222222222222,
              "#7201a8"
             ],
             [
              0.3333333333333333,
              "#9c179e"
             ],
             [
              0.4444444444444444,
              "#bd3786"
             ],
             [
              0.5555555555555556,
              "#d8576b"
             ],
             [
              0.6666666666666666,
              "#ed7953"
             ],
             [
              0.7777777777777778,
              "#fb9f3a"
             ],
             [
              0.8888888888888888,
              "#fdca26"
             ],
             [
              1,
              "#f0f921"
             ]
            ],
            "type": "histogram2dcontour"
           }
          ],
          "mesh3d": [
           {
            "colorbar": {
             "outlinewidth": 0,
             "ticks": ""
            },
            "type": "mesh3d"
           }
          ],
          "parcoords": [
           {
            "line": {
             "colorbar": {
              "outlinewidth": 0,
              "ticks": ""
             }
            },
            "type": "parcoords"
           }
          ],
          "pie": [
           {
            "automargin": true,
            "type": "pie"
           }
          ],
          "scatter": [
           {
            "fillpattern": {
             "fillmode": "overlay",
             "size": 10,
             "solidity": 0.2
            },
            "type": "scatter"
           }
          ],
          "scatter3d": [
           {
            "line": {
             "colorbar": {
              "outlinewidth": 0,
              "ticks": ""
             }
            },
            "marker": {
             "colorbar": {
              "outlinewidth": 0,
              "ticks": ""
             }
            },
            "type": "scatter3d"
           }
          ],
          "scattercarpet": [
           {
            "marker": {
             "colorbar": {
              "outlinewidth": 0,
              "ticks": ""
             }
            },
            "type": "scattercarpet"
           }
          ],
          "scattergeo": [
           {
            "marker": {
             "colorbar": {
              "outlinewidth": 0,
              "ticks": ""
             }
            },
            "type": "scattergeo"
           }
          ],
          "scattergl": [
           {
            "marker": {
             "colorbar": {
              "outlinewidth": 0,
              "ticks": ""
             }
            },
            "type": "scattergl"
           }
          ],
          "scattermapbox": [
           {
            "marker": {
             "colorbar": {
              "outlinewidth": 0,
              "ticks": ""
             }
            },
            "type": "scattermapbox"
           }
          ],
          "scatterpolar": [
           {
            "marker": {
             "colorbar": {
              "outlinewidth": 0,
              "ticks": ""
             }
            },
            "type": "scatterpolar"
           }
          ],
          "scatterpolargl": [
           {
            "marker": {
             "colorbar": {
              "outlinewidth": 0,
              "ticks": ""
             }
            },
            "type": "scatterpolargl"
           }
          ],
          "scatterternary": [
           {
            "marker": {
             "colorbar": {
              "outlinewidth": 0,
              "ticks": ""
             }
            },
            "type": "scatterternary"
           }
          ],
          "surface": [
           {
            "colorbar": {
             "outlinewidth": 0,
             "ticks": ""
            },
            "colorscale": [
             [
              0,
              "#0d0887"
             ],
             [
              0.1111111111111111,
              "#46039f"
             ],
             [
              0.2222222222222222,
              "#7201a8"
             ],
             [
              0.3333333333333333,
              "#9c179e"
             ],
             [
              0.4444444444444444,
              "#bd3786"
             ],
             [
              0.5555555555555556,
              "#d8576b"
             ],
             [
              0.6666666666666666,
              "#ed7953"
             ],
             [
              0.7777777777777778,
              "#fb9f3a"
             ],
             [
              0.8888888888888888,
              "#fdca26"
             ],
             [
              1,
              "#f0f921"
             ]
            ],
            "type": "surface"
           }
          ],
          "table": [
           {
            "cells": {
             "fill": {
              "color": "#EBF0F8"
             },
             "line": {
              "color": "white"
             }
            },
            "header": {
             "fill": {
              "color": "#C8D4E3"
             },
             "line": {
              "color": "white"
             }
            },
            "type": "table"
           }
          ]
         },
         "layout": {
          "annotationdefaults": {
           "arrowcolor": "#2a3f5f",
           "arrowhead": 0,
           "arrowwidth": 1
          },
          "autotypenumbers": "strict",
          "coloraxis": {
           "colorbar": {
            "outlinewidth": 0,
            "ticks": ""
           }
          },
          "colorscale": {
           "diverging": [
            [
             0,
             "#8e0152"
            ],
            [
             0.1,
             "#c51b7d"
            ],
            [
             0.2,
             "#de77ae"
            ],
            [
             0.3,
             "#f1b6da"
            ],
            [
             0.4,
             "#fde0ef"
            ],
            [
             0.5,
             "#f7f7f7"
            ],
            [
             0.6,
             "#e6f5d0"
            ],
            [
             0.7,
             "#b8e186"
            ],
            [
             0.8,
             "#7fbc41"
            ],
            [
             0.9,
             "#4d9221"
            ],
            [
             1,
             "#276419"
            ]
           ],
           "sequential": [
            [
             0,
             "#0d0887"
            ],
            [
             0.1111111111111111,
             "#46039f"
            ],
            [
             0.2222222222222222,
             "#7201a8"
            ],
            [
             0.3333333333333333,
             "#9c179e"
            ],
            [
             0.4444444444444444,
             "#bd3786"
            ],
            [
             0.5555555555555556,
             "#d8576b"
            ],
            [
             0.6666666666666666,
             "#ed7953"
            ],
            [
             0.7777777777777778,
             "#fb9f3a"
            ],
            [
             0.8888888888888888,
             "#fdca26"
            ],
            [
             1,
             "#f0f921"
            ]
           ],
           "sequentialminus": [
            [
             0,
             "#0d0887"
            ],
            [
             0.1111111111111111,
             "#46039f"
            ],
            [
             0.2222222222222222,
             "#7201a8"
            ],
            [
             0.3333333333333333,
             "#9c179e"
            ],
            [
             0.4444444444444444,
             "#bd3786"
            ],
            [
             0.5555555555555556,
             "#d8576b"
            ],
            [
             0.6666666666666666,
             "#ed7953"
            ],
            [
             0.7777777777777778,
             "#fb9f3a"
            ],
            [
             0.8888888888888888,
             "#fdca26"
            ],
            [
             1,
             "#f0f921"
            ]
           ]
          },
          "colorway": [
           "#636efa",
           "#EF553B",
           "#00cc96",
           "#ab63fa",
           "#FFA15A",
           "#19d3f3",
           "#FF6692",
           "#B6E880",
           "#FF97FF",
           "#FECB52"
          ],
          "font": {
           "color": "#2a3f5f"
          },
          "geo": {
           "bgcolor": "white",
           "lakecolor": "white",
           "landcolor": "#E5ECF6",
           "showlakes": true,
           "showland": true,
           "subunitcolor": "white"
          },
          "hoverlabel": {
           "align": "left"
          },
          "hovermode": "closest",
          "mapbox": {
           "style": "light"
          },
          "paper_bgcolor": "white",
          "plot_bgcolor": "#E5ECF6",
          "polar": {
           "angularaxis": {
            "gridcolor": "white",
            "linecolor": "white",
            "ticks": ""
           },
           "bgcolor": "#E5ECF6",
           "radialaxis": {
            "gridcolor": "white",
            "linecolor": "white",
            "ticks": ""
           }
          },
          "scene": {
           "xaxis": {
            "backgroundcolor": "#E5ECF6",
            "gridcolor": "white",
            "gridwidth": 2,
            "linecolor": "white",
            "showbackground": true,
            "ticks": "",
            "zerolinecolor": "white"
           },
           "yaxis": {
            "backgroundcolor": "#E5ECF6",
            "gridcolor": "white",
            "gridwidth": 2,
            "linecolor": "white",
            "showbackground": true,
            "ticks": "",
            "zerolinecolor": "white"
           },
           "zaxis": {
            "backgroundcolor": "#E5ECF6",
            "gridcolor": "white",
            "gridwidth": 2,
            "linecolor": "white",
            "showbackground": true,
            "ticks": "",
            "zerolinecolor": "white"
           }
          },
          "shapedefaults": {
           "line": {
            "color": "#2a3f5f"
           }
          },
          "ternary": {
           "aaxis": {
            "gridcolor": "white",
            "linecolor": "white",
            "ticks": ""
           },
           "baxis": {
            "gridcolor": "white",
            "linecolor": "white",
            "ticks": ""
           },
           "bgcolor": "#E5ECF6",
           "caxis": {
            "gridcolor": "white",
            "linecolor": "white",
            "ticks": ""
           }
          },
          "title": {
           "x": 0.05
          },
          "xaxis": {
           "automargin": true,
           "gridcolor": "white",
           "linecolor": "white",
           "ticks": "",
           "title": {
            "standoff": 15
           },
           "zerolinecolor": "white",
           "zerolinewidth": 2
          },
          "yaxis": {
           "automargin": true,
           "gridcolor": "white",
           "linecolor": "white",
           "ticks": "",
           "title": {
            "standoff": 15
           },
           "zerolinecolor": "white",
           "zerolinewidth": 2
          }
         }
        },
        "width": 1000,
        "xaxis": {
         "fixedrange": true,
         "gridcolor": "#1f292f",
         "rangeslider": {
          "visible": false
         },
         "showgrid": true
        },
        "yaxis": {
         "gridcolor": "#1f292f",
         "showgrid": true
        }
       }
      }
     },
     "metadata": {},
     "output_type": "display_data"
    }
   ],
   "source": [
    "fig = go.Figure()\n",
    "fig.add_trace(go.Candlestick(\n",
    "    x=Data_realtime.time, open=Data_realtime.open, high=Data_realtime.high, low=Data_realtime.low, close=Data_realtime.close,\n",
    "    line=dict(width=1), opacity=1,\n",
    "    increasing_fillcolor='#24A06B',\n",
    "    decreasing_fillcolor=\"#CC2E3C\",\n",
    "    increasing_line_color='#2EC886',  \n",
    "    decreasing_line_color='#FF3A4C'\n",
    "))\n",
    "fig.update_layout(width=1000,height=600,\n",
    "    margin=dict(l=10,r=10,b=10,t=10),\n",
    "    font=dict(size=10,color=\"#e1e1e1\"),\n",
    "    paper_bgcolor=\"#1e1e1e\",\n",
    "    plot_bgcolor=\"#1e1e1e\")\n",
    "fig.update_xaxes(\n",
    "    gridcolor=\"#1f292f\",\n",
    "    showgrid=True,fixedrange=True,rangeslider=dict(visible=False)\n",
    ")\n",
    "fig.update_yaxes(\n",
    "    gridcolor=\"#1f292f\",\n",
    "    showgrid=True\n",
    ")\n",
    "fig.show()"
   ]
  },
  {
   "cell_type": "code",
   "execution_count": 10,
   "metadata": {},
   "outputs": [],
   "source": [
    "def is_trade(row):\n",
    "    if row.DIFF >= 0 and row.DIFF_PREV < 0:\n",
    "        return 1\n",
    "    if row.DIFF <= 0 and row.DIFF_PREV > 0:\n",
    "        return -1\n",
    "    return 0"
   ]
  },
  {
   "cell_type": "code",
   "execution_count": 11,
   "metadata": {},
   "outputs": [],
   "source": [
    "def moving_average_cross(symbol):\n",
    "    df = MT5.get_data(symbol, 640,timeframe=mt5.TIMEFRAME_H4).dropna()\n",
    "    df['MA_16'] = df.close.rolling(window=16).mean()\n",
    "    df['MA_64'] = df.close.rolling(window=64).mean()\n",
    "    df['DIFF'] = df.MA_16 - df.MA_64\n",
    "    df['DIFF_PREV'] = df.DIFF.shift(1)\n",
    "    df['IS_TRADE'] = df.apply(is_trade, axis=1)\n",
    "    df_trades = df[df.IS_TRADE!=0].copy()\n",
    "    today = df_trades['IS_TRADE'].iloc[-1]\n",
    "    if today == 1 :\n",
    "        long = True\n",
    "        sell = False\n",
    "        return long, sell\n",
    "    elif today == -1 :\n",
    "        long = False\n",
    "        sell = True\n",
    "        return long, sell\n",
    "    else :\n",
    "        long = False\n",
    "        sell = False\n",
    "        return long,sell\n"
   ]
  },
  {
   "cell_type": "code",
   "execution_count": 13,
   "metadata": {},
   "outputs": [
    {
     "data": {
      "text/plain": [
       "1"
      ]
     },
     "execution_count": 13,
     "metadata": {},
     "output_type": "execute_result"
    }
   ],
   "source": [
    "datetime.now().weekday() "
   ]
  },
  {
   "cell_type": "code",
   "execution_count": 12,
   "metadata": {},
   "outputs": [
    {
     "name": "stdout",
     "output_type": "stream",
     "text": [
      "------------------------------------------------------------------\n",
      "Date: 2023-03-14 17:20:28\n",
      "Balance: 466.87 USD,\tEquity: 466.87 USD, \tProfit: 0.0 USD\n",
      "------------------------------------------------------------------\n",
      "------------------------------------------------------------------\n",
      "Date:  2023-03-14 17:20:28\n",
      "SYMBOL: EURUSDm\n",
      "BUY: True \t  SHORT: False\n",
      "POSITION: None \t ID: None\n",
      "OPEN LONG TRADE: python script or\n",
      "------------------------------------------------------------------\n"
     ]
    },
    {
     "ename": "KeyboardInterrupt",
     "evalue": "",
     "output_type": "error",
     "traceback": [
      "\u001b[1;31m---------------------------------------------------------------------------\u001b[0m",
      "\u001b[1;31mKeyboardInterrupt\u001b[0m                         Traceback (most recent call last)",
      "Cell \u001b[1;32mIn[12], line 11\u001b[0m\n\u001b[0;32m      8\u001b[0m \u001b[39mprint\u001b[39m(\u001b[39m\"\u001b[39m\u001b[39m------------------------------------------------------------------\u001b[39m\u001b[39m\"\u001b[39m)\n\u001b[0;32m     10\u001b[0m start \u001b[39m=\u001b[39m datetime\u001b[39m.\u001b[39mnow()\u001b[39m.\u001b[39mstrftime(\u001b[39m\"\u001b[39m\u001b[39m%\u001b[39m\u001b[39mH:\u001b[39m\u001b[39m%\u001b[39m\u001b[39mM:\u001b[39m\u001b[39m%\u001b[39m\u001b[39mS\u001b[39m\u001b[39m\"\u001b[39m)\u001b[39m#\"23:59:59\"\u001b[39;00m\n\u001b[1;32m---> 11\u001b[0m \u001b[39mwhile\u001b[39;00m \u001b[39mTrue\u001b[39;00m:\n\u001b[0;32m     12\u001b[0m     \u001b[39mif\u001b[39;00m datetime\u001b[39m.\u001b[39mnow()\u001b[39m.\u001b[39mweekday() \u001b[39mnot\u001b[39;00m \u001b[39min\u001b[39;00m (\u001b[39m5\u001b[39m,\u001b[39m6\u001b[39m):  \n\u001b[0;32m     13\u001b[0m         is_time \u001b[39m=\u001b[39m datetime\u001b[39m.\u001b[39mnow()\u001b[39m.\u001b[39mstrftime(\u001b[39m\"\u001b[39m\u001b[39m%\u001b[39m\u001b[39mH:\u001b[39m\u001b[39m%\u001b[39m\u001b[39mM:\u001b[39m\u001b[39m%\u001b[39m\u001b[39mS\u001b[39m\u001b[39m\"\u001b[39m) \u001b[39m==\u001b[39m start\n",
      "\u001b[1;31mKeyboardInterrupt\u001b[0m: "
     ]
    }
   ],
   "source": [
    "symbols_list = {\"Euro vs USdollar\": [\"EURUSDm\", 0.01]}\n",
    "current_account_info = mt5.account_info()\n",
    "print(\"------------------------------------------------------------------\")\n",
    "print(f\"Date: {datetime.now().strftime('%Y-%m-%d %H:%M:%S')}\")\n",
    "print(f\"Balance: {current_account_info.balance} USD,\\t\"\n",
    "    f\"Equity: {current_account_info.equity} USD, \\t\"\n",
    "    f\"Profit: {current_account_info.profit} USD\")\n",
    "print(\"------------------------------------------------------------------\")\n",
    "\n",
    "start = datetime.now().strftime(\"%H:%M:%S\")#\"23:59:59\"\n",
    "while True:\n",
    "    if datetime.now().weekday() not in (5,6):  \n",
    "        is_time = datetime.now().strftime(\"%H:%M:%S\") == start\n",
    "    else:\n",
    "        is_time = False\n",
    "    if is_time:\n",
    "        for asset in symbols_list.keys():           \n",
    "            symbol = symbols_list[asset][0]\n",
    "           \n",
    "            lot = symbols_list[asset][1]\n",
    "            buy, sell = moving_average_cross(symbol)\n",
    "            \n",
    "            MT5.run(symbol, buy, sell, lot)"
   ]
  },
  {
   "cell_type": "code",
   "execution_count": null,
   "metadata": {},
   "outputs": [],
   "source": []
  },
  {
   "cell_type": "markdown",
   "metadata": {},
   "source": [
    "https://www.myfxbook.com/portfolio/forex-algorithmic-trading/10055510"
   ]
  }
 ],
 "metadata": {
  "kernelspec": {
   "display_name": "Python 3 (ipykernel)",
   "language": "python",
   "name": "python3"
  },
  "language_info": {
   "codemirror_mode": {
    "name": "ipython",
    "version": 3
   },
   "file_extension": ".py",
   "mimetype": "text/x-python",
   "name": "python",
   "nbconvert_exporter": "python",
   "pygments_lexer": "ipython3",
   "version": "3.10.9"
  },
  "vscode": {
   "interpreter": {
    "hash": "97e12f1ac9f26099b54b9e7d4ebc9834a88f2d401bac5ba802dc7f7f5939f7f3"
   }
  }
 },
 "nbformat": 4,
 "nbformat_minor": 2
}
