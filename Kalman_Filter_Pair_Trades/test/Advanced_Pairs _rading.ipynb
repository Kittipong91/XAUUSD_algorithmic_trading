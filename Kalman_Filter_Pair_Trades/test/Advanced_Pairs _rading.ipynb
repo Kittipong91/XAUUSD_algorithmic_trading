{
 "cells": [
  {
   "cell_type": "markdown",
   "metadata": {},
   "source": [
    "[https://medium.com/@ab.jannatpour/advanced-pairs-trading-kalman-filters-b171144ce6d5](https://)"
   ]
  },
  {
   "cell_type": "code",
   "execution_count": 1,
   "metadata": {},
   "outputs": [],
   "source": [
    "import sys\n",
    "sys.path.append('../../')"
   ]
  },
  {
   "cell_type": "code",
   "execution_count": 2,
   "metadata": {},
   "outputs": [],
   "source": [
    "from util.load_data import *\n",
    "from config.constants import *"
   ]
  },
  {
   "cell_type": "code",
   "execution_count": 3,
   "metadata": {},
   "outputs": [],
   "source": [
    "XAUUSD = load_data()"
   ]
  },
  {
   "cell_type": "code",
   "execution_count": 5,
   "metadata": {},
   "outputs": [],
   "source": [
    "data_1 = XAUUSD['D1']"
   ]
  },
  {
   "cell_type": "code",
   "execution_count": 4,
   "metadata": {},
   "outputs": [],
   "source": [
    "data_2 = pd.read_csv(\n",
    "    PATH_DATA + '/USDJPY/USDJPY_D1 - USDJPY_D1' + '.csv', index_col='Time', parse_dates=True)"
   ]
  },
  {
   "cell_type": "code",
   "execution_count": 8,
   "metadata": {},
   "outputs": [],
   "source": [
    "# Define the system model for the spread\n",
    "A = 1\n",
    "Q = 0.1\n",
    "\n",
    "# Define the measurement model for the spread\n",
    "H = 1\n",
    "R = 0.1"
   ]
  },
  {
   "cell_type": "code",
   "execution_count": 10,
   "metadata": {},
   "outputs": [],
   "source": [
    "mu = 0\n",
    "sigma = 0.1"
   ]
  },
  {
   "cell_type": "code",
   "execution_count": 12,
   "metadata": {},
   "outputs": [],
   "source": [
    "x = 0\n",
    "P = 1"
   ]
  },
  {
   "cell_type": "code",
   "execution_count": 13,
   "metadata": {},
   "outputs": [],
   "source": [
    "import numpy as np\n",
    "from pykalman import KalmanFilter\n",
    "import pandas as pd\n",
    "\n",
    "# loading stocks data\n",
    "stock1 = data_1\n",
    "stock2 = data_2\n",
    "\n",
    "# calculate the spread\n",
    "spread = stock1['Close'] - stock2['Close']\n",
    "\n",
    "# create the kalman filter object\n",
    "kf = KalmanFilter(transition_matrices=A, observation_matrices=H,\n",
    "                  initial_state_mean=x, initial_state_covariance=P,\n",
    "                  transition_covariance=Q, observation_covariance=R)\n",
    "\n",
    "# perform the prediction and update steps\n",
    "for i in range(100):\n",
    "    # prediction\n",
    "    x_pred, P_pred = kf.filter_update(\n",
    "        filtered_state_mean=x, filtered_state_covariance=P)\n",
    "\n",
    "    # measurement\n",
    "    z = spread[i]\n",
    "\n",
    "    # update\n",
    "    x, P = kf.filter_update(filtered_state_mean=x_pred,\n",
    "                            filtered_state_covariance=P_pred, observation=z)"
   ]
  },
  {
   "cell_type": "code",
   "execution_count": 21,
   "metadata": {},
   "outputs": [],
   "source": [
    "# Perform the prediction and update steps for each time step in the historical data\n",
    "(filtered_state_means, filtered_state_covariances) = kf.filter(spread.values[-1])"
   ]
  },
  {
   "cell_type": "code",
   "execution_count": 24,
   "metadata": {},
   "outputs": [
    {
     "data": {
      "text/html": [
       "<div>\n",
       "<style scoped>\n",
       "    .dataframe tbody tr th:only-of-type {\n",
       "        vertical-align: middle;\n",
       "    }\n",
       "\n",
       "    .dataframe tbody tr th {\n",
       "        vertical-align: top;\n",
       "    }\n",
       "\n",
       "    .dataframe thead th {\n",
       "        text-align: right;\n",
       "    }\n",
       "</style>\n",
       "<table border=\"1\" class=\"dataframe\">\n",
       "  <thead>\n",
       "    <tr style=\"text-align: right;\">\n",
       "      <th></th>\n",
       "      <th>Open</th>\n",
       "      <th>High</th>\n",
       "      <th>Low</th>\n",
       "      <th>Close</th>\n",
       "      <th>Volume</th>\n",
       "    </tr>\n",
       "    <tr>\n",
       "      <th>Time</th>\n",
       "      <th></th>\n",
       "      <th></th>\n",
       "      <th></th>\n",
       "      <th></th>\n",
       "      <th></th>\n",
       "    </tr>\n",
       "  </thead>\n",
       "  <tbody>\n",
       "    <tr>\n",
       "      <th>2007-02-12</th>\n",
       "      <td>121.900</td>\n",
       "      <td>121.953</td>\n",
       "      <td>121.730</td>\n",
       "      <td>121.764</td>\n",
       "      <td>64849</td>\n",
       "    </tr>\n",
       "    <tr>\n",
       "      <th>2007-02-13</th>\n",
       "      <td>121.760</td>\n",
       "      <td>121.766</td>\n",
       "      <td>121.090</td>\n",
       "      <td>121.263</td>\n",
       "      <td>618320</td>\n",
       "    </tr>\n",
       "    <tr>\n",
       "      <th>2007-02-14</th>\n",
       "      <td>121.272</td>\n",
       "      <td>121.347</td>\n",
       "      <td>120.226</td>\n",
       "      <td>120.286</td>\n",
       "      <td>616539</td>\n",
       "    </tr>\n",
       "    <tr>\n",
       "      <th>2007-02-15</th>\n",
       "      <td>120.282</td>\n",
       "      <td>120.359</td>\n",
       "      <td>119.147</td>\n",
       "      <td>119.376</td>\n",
       "      <td>617115</td>\n",
       "    </tr>\n",
       "    <tr>\n",
       "      <th>2007-02-16</th>\n",
       "      <td>119.370</td>\n",
       "      <td>119.550</td>\n",
       "      <td>118.984</td>\n",
       "      <td>119.392</td>\n",
       "      <td>586044</td>\n",
       "    </tr>\n",
       "    <tr>\n",
       "      <th>...</th>\n",
       "      <td>...</td>\n",
       "      <td>...</td>\n",
       "      <td>...</td>\n",
       "      <td>...</td>\n",
       "      <td>...</td>\n",
       "    </tr>\n",
       "    <tr>\n",
       "      <th>2023-03-06</th>\n",
       "      <td>136.016</td>\n",
       "      <td>136.190</td>\n",
       "      <td>135.364</td>\n",
       "      <td>135.995</td>\n",
       "      <td>506836</td>\n",
       "    </tr>\n",
       "    <tr>\n",
       "      <th>2023-03-07</th>\n",
       "      <td>135.995</td>\n",
       "      <td>137.438</td>\n",
       "      <td>135.537</td>\n",
       "      <td>137.387</td>\n",
       "      <td>595894</td>\n",
       "    </tr>\n",
       "    <tr>\n",
       "      <th>2023-03-08</th>\n",
       "      <td>137.392</td>\n",
       "      <td>137.910</td>\n",
       "      <td>136.477</td>\n",
       "      <td>137.223</td>\n",
       "      <td>528313</td>\n",
       "    </tr>\n",
       "    <tr>\n",
       "      <th>2023-03-09</th>\n",
       "      <td>137.223</td>\n",
       "      <td>137.254</td>\n",
       "      <td>135.940</td>\n",
       "      <td>136.365</td>\n",
       "      <td>518978</td>\n",
       "    </tr>\n",
       "    <tr>\n",
       "      <th>2023-03-10</th>\n",
       "      <td>136.365</td>\n",
       "      <td>136.992</td>\n",
       "      <td>134.111</td>\n",
       "      <td>134.738</td>\n",
       "      <td>579900</td>\n",
       "    </tr>\n",
       "  </tbody>\n",
       "</table>\n",
       "<p>5021 rows × 5 columns</p>\n",
       "</div>"
      ],
      "text/plain": [
       "               Open     High      Low    Close  Volume\n",
       "Time                                                  \n",
       "2007-02-12  121.900  121.953  121.730  121.764   64849\n",
       "2007-02-13  121.760  121.766  121.090  121.263  618320\n",
       "2007-02-14  121.272  121.347  120.226  120.286  616539\n",
       "2007-02-15  120.282  120.359  119.147  119.376  617115\n",
       "2007-02-16  119.370  119.550  118.984  119.392  586044\n",
       "...             ...      ...      ...      ...     ...\n",
       "2023-03-06  136.016  136.190  135.364  135.995  506836\n",
       "2023-03-07  135.995  137.438  135.537  137.387  595894\n",
       "2023-03-08  137.392  137.910  136.477  137.223  528313\n",
       "2023-03-09  137.223  137.254  135.940  136.365  518978\n",
       "2023-03-10  136.365  136.992  134.111  134.738  579900\n",
       "\n",
       "[5021 rows x 5 columns]"
      ]
     },
     "execution_count": 24,
     "metadata": {},
     "output_type": "execute_result"
    }
   ],
   "source": [
    "data_2"
   ]
  },
  {
   "cell_type": "code",
   "execution_count": 22,
   "metadata": {},
   "outputs": [
    {
     "data": {
      "text/plain": [
       "1"
      ]
     },
     "execution_count": 22,
     "metadata": {},
     "output_type": "execute_result"
    }
   ],
   "source": [
    "filtered_state_covariances.size"
   ]
  }
 ],
 "metadata": {
  "kernelspec": {
   "display_name": "base",
   "language": "python",
   "name": "python3"
  },
  "language_info": {
   "codemirror_mode": {
    "name": "ipython",
    "version": 3
   },
   "file_extension": ".py",
   "mimetype": "text/x-python",
   "name": "python",
   "nbconvert_exporter": "python",
   "pygments_lexer": "ipython3",
   "version": "3.10.9"
  }
 },
 "nbformat": 4,
 "nbformat_minor": 2
}
