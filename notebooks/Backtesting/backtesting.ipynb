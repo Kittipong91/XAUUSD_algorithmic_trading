{
 "cells": [
  {
   "cell_type": "code",
   "execution_count": 126,
   "metadata": {},
   "outputs": [],
   "source": [
    "\n",
    "from backtesting import Backtest, Strategy\n",
    "from backtesting.test import EURUSD, SMA \n",
    "import numpy as np\n",
    "import pandas as pd"
   ]
  },
  {
   "cell_type": "code",
   "execution_count": 127,
   "metadata": {},
   "outputs": [],
   "source": [
    "\n",
    "import sys\n",
    "sys.path.append('../../')"
   ]
  },
  {
   "cell_type": "code",
   "execution_count": 128,
   "metadata": {},
   "outputs": [],
   "source": [
    "from config.constants import *"
   ]
  },
  {
   "cell_type": "code",
   "execution_count": 129,
   "metadata": {},
   "outputs": [
    {
     "data": {
      "text/plain": [
       "{'XAUUSD': {'H4': 'XAUUSD/XAUUSD_H4 - XAUUSD_H4'}}"
      ]
     },
     "execution_count": 129,
     "metadata": {},
     "output_type": "execute_result"
    }
   ],
   "source": [
    "SYMBOL"
   ]
  },
  {
   "cell_type": "code",
   "execution_count": 130,
   "metadata": {},
   "outputs": [],
   "source": [
    "XAUUSD = pd.read_csv(PATH_DATA + SYMBOL['XAUUSD']['H4'] +'.csv',index_col='Time',parse_dates=True)\n",
    "XAUUSD.index.name = None"
   ]
  },
  {
   "cell_type": "code",
   "execution_count": 131,
   "metadata": {},
   "outputs": [],
   "source": [
    "start_date = '2007-01-01'\n",
    "end_date = '2008-03-10'"
   ]
  },
  {
   "cell_type": "code",
   "execution_count": 132,
   "metadata": {},
   "outputs": [],
   "source": [
    "XAUUSD =  XAUUSD.loc[start_date:end_date]"
   ]
  },
  {
   "cell_type": "code",
   "execution_count": 133,
   "metadata": {},
   "outputs": [
    {
     "data": {
      "text/html": [
       "<div>\n",
       "<style scoped>\n",
       "    .dataframe tbody tr th:only-of-type {\n",
       "        vertical-align: middle;\n",
       "    }\n",
       "\n",
       "    .dataframe tbody tr th {\n",
       "        vertical-align: top;\n",
       "    }\n",
       "\n",
       "    .dataframe thead th {\n",
       "        text-align: right;\n",
       "    }\n",
       "</style>\n",
       "<table border=\"1\" class=\"dataframe\">\n",
       "  <thead>\n",
       "    <tr style=\"text-align: right;\">\n",
       "      <th></th>\n",
       "      <th>Open</th>\n",
       "      <th>High</th>\n",
       "      <th>Low</th>\n",
       "      <th>Close</th>\n",
       "      <th>Volume</th>\n",
       "    </tr>\n",
       "  </thead>\n",
       "  <tbody>\n",
       "    <tr>\n",
       "      <th>2007-01-01 00:00:00</th>\n",
       "      <td>635.679</td>\n",
       "      <td>636.194</td>\n",
       "      <td>635.009</td>\n",
       "      <td>635.497</td>\n",
       "      <td>95</td>\n",
       "    </tr>\n",
       "    <tr>\n",
       "      <th>2007-01-01 04:00:00</th>\n",
       "      <td>635.336</td>\n",
       "      <td>636.220</td>\n",
       "      <td>635.254</td>\n",
       "      <td>635.699</td>\n",
       "      <td>97</td>\n",
       "    </tr>\n",
       "    <tr>\n",
       "      <th>2007-01-01 08:00:00</th>\n",
       "      <td>635.780</td>\n",
       "      <td>636.225</td>\n",
       "      <td>635.201</td>\n",
       "      <td>635.993</td>\n",
       "      <td>99</td>\n",
       "    </tr>\n",
       "    <tr>\n",
       "      <th>2007-01-01 12:00:00</th>\n",
       "      <td>636.053</td>\n",
       "      <td>636.189</td>\n",
       "      <td>635.117</td>\n",
       "      <td>636.006</td>\n",
       "      <td>90</td>\n",
       "    </tr>\n",
       "    <tr>\n",
       "      <th>2007-01-01 16:00:00</th>\n",
       "      <td>635.902</td>\n",
       "      <td>636.185</td>\n",
       "      <td>635.006</td>\n",
       "      <td>635.989</td>\n",
       "      <td>96</td>\n",
       "    </tr>\n",
       "    <tr>\n",
       "      <th>...</th>\n",
       "      <td>...</td>\n",
       "      <td>...</td>\n",
       "      <td>...</td>\n",
       "      <td>...</td>\n",
       "      <td>...</td>\n",
       "    </tr>\n",
       "    <tr>\n",
       "      <th>2008-03-10 04:00:00</th>\n",
       "      <td>975.066</td>\n",
       "      <td>976.794</td>\n",
       "      <td>974.364</td>\n",
       "      <td>975.817</td>\n",
       "      <td>236</td>\n",
       "    </tr>\n",
       "    <tr>\n",
       "      <th>2008-03-10 08:00:00</th>\n",
       "      <td>975.850</td>\n",
       "      <td>980.428</td>\n",
       "      <td>965.608</td>\n",
       "      <td>967.910</td>\n",
       "      <td>240</td>\n",
       "    </tr>\n",
       "    <tr>\n",
       "      <th>2008-03-10 12:00:00</th>\n",
       "      <td>967.982</td>\n",
       "      <td>971.957</td>\n",
       "      <td>961.151</td>\n",
       "      <td>965.800</td>\n",
       "      <td>240</td>\n",
       "    </tr>\n",
       "    <tr>\n",
       "      <th>2008-03-10 16:00:00</th>\n",
       "      <td>965.923</td>\n",
       "      <td>975.292</td>\n",
       "      <td>965.361</td>\n",
       "      <td>970.837</td>\n",
       "      <td>240</td>\n",
       "    </tr>\n",
       "    <tr>\n",
       "      <th>2008-03-10 20:00:00</th>\n",
       "      <td>970.854</td>\n",
       "      <td>974.397</td>\n",
       "      <td>970.625</td>\n",
       "      <td>973.384</td>\n",
       "      <td>208</td>\n",
       "    </tr>\n",
       "  </tbody>\n",
       "</table>\n",
       "<p>1928 rows × 5 columns</p>\n",
       "</div>"
      ],
      "text/plain": [
       "                        Open     High      Low    Close  Volume\n",
       "2007-01-01 00:00:00  635.679  636.194  635.009  635.497      95\n",
       "2007-01-01 04:00:00  635.336  636.220  635.254  635.699      97\n",
       "2007-01-01 08:00:00  635.780  636.225  635.201  635.993      99\n",
       "2007-01-01 12:00:00  636.053  636.189  635.117  636.006      90\n",
       "2007-01-01 16:00:00  635.902  636.185  635.006  635.989      96\n",
       "...                      ...      ...      ...      ...     ...\n",
       "2008-03-10 04:00:00  975.066  976.794  974.364  975.817     236\n",
       "2008-03-10 08:00:00  975.850  980.428  965.608  967.910     240\n",
       "2008-03-10 12:00:00  967.982  971.957  961.151  965.800     240\n",
       "2008-03-10 16:00:00  965.923  975.292  965.361  970.837     240\n",
       "2008-03-10 20:00:00  970.854  974.397  970.625  973.384     208\n",
       "\n",
       "[1928 rows x 5 columns]"
      ]
     },
     "execution_count": 133,
     "metadata": {},
     "output_type": "execute_result"
    }
   ],
   "source": [
    "XAUUSD"
   ]
  },
  {
   "cell_type": "code",
   "execution_count": 134,
   "metadata": {},
   "outputs": [
    {
     "data": {
      "text/html": [
       "<div>\n",
       "<style scoped>\n",
       "    .dataframe tbody tr th:only-of-type {\n",
       "        vertical-align: middle;\n",
       "    }\n",
       "\n",
       "    .dataframe tbody tr th {\n",
       "        vertical-align: top;\n",
       "    }\n",
       "\n",
       "    .dataframe thead th {\n",
       "        text-align: right;\n",
       "    }\n",
       "</style>\n",
       "<table border=\"1\" class=\"dataframe\">\n",
       "  <thead>\n",
       "    <tr style=\"text-align: right;\">\n",
       "      <th></th>\n",
       "      <th>Open</th>\n",
       "      <th>High</th>\n",
       "      <th>Low</th>\n",
       "      <th>Close</th>\n",
       "      <th>Volume</th>\n",
       "    </tr>\n",
       "  </thead>\n",
       "  <tbody>\n",
       "    <tr>\n",
       "      <th>2017-04-19 09:00:00</th>\n",
       "      <td>1.07160</td>\n",
       "      <td>1.07220</td>\n",
       "      <td>1.07083</td>\n",
       "      <td>1.07219</td>\n",
       "      <td>1413</td>\n",
       "    </tr>\n",
       "    <tr>\n",
       "      <th>2017-04-19 10:00:00</th>\n",
       "      <td>1.07214</td>\n",
       "      <td>1.07296</td>\n",
       "      <td>1.07214</td>\n",
       "      <td>1.07260</td>\n",
       "      <td>1241</td>\n",
       "    </tr>\n",
       "    <tr>\n",
       "      <th>2017-04-19 11:00:00</th>\n",
       "      <td>1.07256</td>\n",
       "      <td>1.07299</td>\n",
       "      <td>1.07170</td>\n",
       "      <td>1.07192</td>\n",
       "      <td>1025</td>\n",
       "    </tr>\n",
       "    <tr>\n",
       "      <th>2017-04-19 12:00:00</th>\n",
       "      <td>1.07195</td>\n",
       "      <td>1.07280</td>\n",
       "      <td>1.07195</td>\n",
       "      <td>1.07202</td>\n",
       "      <td>1460</td>\n",
       "    </tr>\n",
       "    <tr>\n",
       "      <th>2017-04-19 13:00:00</th>\n",
       "      <td>1.07200</td>\n",
       "      <td>1.07230</td>\n",
       "      <td>1.07045</td>\n",
       "      <td>1.07050</td>\n",
       "      <td>1554</td>\n",
       "    </tr>\n",
       "    <tr>\n",
       "      <th>...</th>\n",
       "      <td>...</td>\n",
       "      <td>...</td>\n",
       "      <td>...</td>\n",
       "      <td>...</td>\n",
       "      <td>...</td>\n",
       "    </tr>\n",
       "    <tr>\n",
       "      <th>2018-02-07 11:00:00</th>\n",
       "      <td>1.23390</td>\n",
       "      <td>1.23548</td>\n",
       "      <td>1.23386</td>\n",
       "      <td>1.23501</td>\n",
       "      <td>2203</td>\n",
       "    </tr>\n",
       "    <tr>\n",
       "      <th>2018-02-07 12:00:00</th>\n",
       "      <td>1.23501</td>\n",
       "      <td>1.23508</td>\n",
       "      <td>1.23342</td>\n",
       "      <td>1.23422</td>\n",
       "      <td>2325</td>\n",
       "    </tr>\n",
       "    <tr>\n",
       "      <th>2018-02-07 13:00:00</th>\n",
       "      <td>1.23422</td>\n",
       "      <td>1.23459</td>\n",
       "      <td>1.23338</td>\n",
       "      <td>1.23372</td>\n",
       "      <td>2824</td>\n",
       "    </tr>\n",
       "    <tr>\n",
       "      <th>2018-02-07 14:00:00</th>\n",
       "      <td>1.23374</td>\n",
       "      <td>1.23452</td>\n",
       "      <td>1.23238</td>\n",
       "      <td>1.23426</td>\n",
       "      <td>4065</td>\n",
       "    </tr>\n",
       "    <tr>\n",
       "      <th>2018-02-07 15:00:00</th>\n",
       "      <td>1.23427</td>\n",
       "      <td>1.23444</td>\n",
       "      <td>1.22904</td>\n",
       "      <td>1.22904</td>\n",
       "      <td>6143</td>\n",
       "    </tr>\n",
       "  </tbody>\n",
       "</table>\n",
       "<p>5000 rows × 5 columns</p>\n",
       "</div>"
      ],
      "text/plain": [
       "                        Open     High      Low    Close  Volume\n",
       "2017-04-19 09:00:00  1.07160  1.07220  1.07083  1.07219    1413\n",
       "2017-04-19 10:00:00  1.07214  1.07296  1.07214  1.07260    1241\n",
       "2017-04-19 11:00:00  1.07256  1.07299  1.07170  1.07192    1025\n",
       "2017-04-19 12:00:00  1.07195  1.07280  1.07195  1.07202    1460\n",
       "2017-04-19 13:00:00  1.07200  1.07230  1.07045  1.07050    1554\n",
       "...                      ...      ...      ...      ...     ...\n",
       "2018-02-07 11:00:00  1.23390  1.23548  1.23386  1.23501    2203\n",
       "2018-02-07 12:00:00  1.23501  1.23508  1.23342  1.23422    2325\n",
       "2018-02-07 13:00:00  1.23422  1.23459  1.23338  1.23372    2824\n",
       "2018-02-07 14:00:00  1.23374  1.23452  1.23238  1.23426    4065\n",
       "2018-02-07 15:00:00  1.23427  1.23444  1.22904  1.22904    6143\n",
       "\n",
       "[5000 rows x 5 columns]"
      ]
     },
     "execution_count": 134,
     "metadata": {},
     "output_type": "execute_result"
    }
   ],
   "source": [
    "EURUSD\n"
   ]
  },
  {
   "cell_type": "code",
   "execution_count": 135,
   "metadata": {},
   "outputs": [
    {
     "name": "stdout",
     "output_type": "stream",
     "text": [
      "<class 'pandas.core.frame.DataFrame'>\n",
      "DatetimeIndex: 5000 entries, 2017-04-19 09:00:00 to 2018-02-07 15:00:00\n",
      "Data columns (total 5 columns):\n",
      " #   Column  Non-Null Count  Dtype  \n",
      "---  ------  --------------  -----  \n",
      " 0   Open    5000 non-null   float64\n",
      " 1   High    5000 non-null   float64\n",
      " 2   Low     5000 non-null   float64\n",
      " 3   Close   5000 non-null   float64\n",
      " 4   Volume  5000 non-null   int64  \n",
      "dtypes: float64(4), int64(1)\n",
      "memory usage: 234.4 KB\n"
     ]
    }
   ],
   "source": [
    "EURUSD.info()"
   ]
  },
  {
   "cell_type": "code",
   "execution_count": 136,
   "metadata": {},
   "outputs": [
    {
     "name": "stdout",
     "output_type": "stream",
     "text": [
      "<class 'pandas.core.frame.DataFrame'>\n",
      "DatetimeIndex: 1928 entries, 2007-01-01 00:00:00 to 2008-03-10 20:00:00\n",
      "Data columns (total 5 columns):\n",
      " #   Column  Non-Null Count  Dtype  \n",
      "---  ------  --------------  -----  \n",
      " 0   Open    1928 non-null   float64\n",
      " 1   High    1928 non-null   float64\n",
      " 2   Low     1928 non-null   float64\n",
      " 3   Close   1928 non-null   float64\n",
      " 4   Volume  1928 non-null   int64  \n",
      "dtypes: float64(4), int64(1)\n",
      "memory usage: 90.4 KB\n"
     ]
    }
   ],
   "source": [
    "XAUUSD.info()"
   ]
  },
  {
   "cell_type": "code",
   "execution_count": 137,
   "metadata": {},
   "outputs": [],
   "source": [
    "def ATR(df, n):\n",
    "    df = df.copy()\n",
    "    df['High-Low'] = abs(df['High'] - df['Low'])\n",
    "    df['High-PrevClose'] = abs(df['High'] - df['Close'].shift(1))\n",
    "    df['Low-PrevClose'] = abs(df['Low'] - df['Close'].shift(1))\n",
    "    df['TR'] = df[['High-Low', 'High-PrevClose',\n",
    "                   'Low-PrevClose']].max(axis=1, skipna=False)\n",
    "    df['ATR'] = df['TR'].rolling(n).mean()\n",
    "    df = df.drop(['High-Low', 'High-PrevClose', 'Low-PrevClose'], axis=1)\n",
    "    return df"
   ]
  },
  {
   "cell_type": "code",
   "execution_count": 138,
   "metadata": {},
   "outputs": [],
   "source": [
    "def calculate_position_size(account_size, risk_percentage, entry_price, stop_loss):\n",
    "    # Calculate the dollar amount at risk per trade\n",
    "    dollar_at_risk = account_size * risk_percentage / 100\n",
    "\n",
    "    # Calculate the distance between entry price and stop-loss\n",
    "    distance = entry_price - stop_loss\n",
    "\n",
    "    # Calculate the position size\n",
    "    position_size = dollar_at_risk / distance\n",
    "\n",
    "    return position_size"
   ]
  },
  {
   "cell_type": "code",
   "execution_count": 184,
   "metadata": {},
   "outputs": [],
   "source": [
    "class Momentum(Strategy) :\n",
    "    def init(self):\n",
    "        self.data.df['ATR'] = ATR(self.data.df, 20)['ATR']\n",
    "        self.data.df['direction'] = np.where(self.data.Close > self.data.Open, 'bull', 'bear')\n",
    "        self.data.df['dir_count'] = self.data.df.groupby((self.data.df['direction'] != self.data.df['direction'].shift(1)).cumsum()).cumcount()+1\n",
    "    \n",
    "\n",
    "    def next(self):\n",
    "        current_dir_count = self.data.df.loc[self.data.df.index[-1], 'dir_count']\n",
    "        current_direction = self.data.df.loc[self.data.df.index[-1], 'direction']\n",
    "        current_ATR = self.data.df.loc[self.data.df.index[-1], 'ATR']\n",
    "        \n",
    "        if current_dir_count >= 5 and current_direction == 'bull' and not self.position.is_short and not self.position.is_long and not np.isnan(current_ATR):\n",
    "            if self.position.is_long :\n",
    "                print('Have a order')\n",
    "            tp = self.data.Close[-1] + current_ATR * 0.5\n",
    "            sl = self.data.Open[-1]\n",
    "            limit = self.data.Close[-1]\n",
    "                # Place your buy logic here\n",
    "            self.buy(sl=sl, tp=tp,size=0.01)\n",
    "        if current_dir_count >= 5 and current_direction == 'bear' and not self.position.is_short and not self.position.is_long and not np.isnan(current_ATR):\n",
    "            tp = self.data.Close[-1] - current_ATR * 0.5\n",
    "            sl = self.data.Open[-1]\n",
    "            limit = self.data.Close[-1]\n",
    "            self.sell(sl=sl, tp=tp ,size=0.01)  # Place your buy logic here"
   ]
  },
  {
   "cell_type": "code",
   "execution_count": 185,
   "metadata": {},
   "outputs": [
    {
     "data": {
      "text/plain": [
       "Start                     2007-01-01 00:00:00\n",
       "End                       2008-03-10 20:00:00\n",
       "Duration                    434 days 20:00:00\n",
       "Exposure Time [%]                     6.53527\n",
       "Equity Final [$]                  649252.3416\n",
       "Equity Peak [$]                 1021347.34785\n",
       "Return [%]                         -35.074766\n",
       "Buy & Hold Return [%]               53.168937\n",
       "Return (Ann.) [%]                  -25.309396\n",
       "Volatility (Ann.) [%]                40.41729\n",
       "Sharpe Ratio                              0.0\n",
       "Sortino Ratio                             0.0\n",
       "Calmar Ratio                              0.0\n",
       "Max. Drawdown [%]                  -54.017223\n",
       "Avg. Drawdown [%]                  -28.796566\n",
       "Max. Drawdown Duration      412 days 04:00:00\n",
       "Avg. Drawdown Duration      207 days 00:00:00\n",
       "# Trades                                   89\n",
       "Win Rate [%]                        37.078652\n",
       "Best Trade [%]                        0.46685\n",
       "Worst Trade [%]                     -1.164448\n",
       "Avg. Trade [%]                      -0.014663\n",
       "Max. Trade Duration           3 days 04:00:00\n",
       "Avg. Trade Duration           0 days 03:00:00\n",
       "Profit Factor                         0.88396\n",
       "Expectancy [%]                       -0.01419\n",
       "SQN                                 -0.852334\n",
       "_strategy                            Momentum\n",
       "_equity_curve                             ...\n",
       "_trades                        Size  Entry...\n",
       "dtype: object"
      ]
     },
     "execution_count": 185,
     "metadata": {},
     "output_type": "execute_result"
    }
   ],
   "source": [
    "bt = Backtest(XAUUSD, Momentum, cash=1000000, margin=1/2000)\n",
    "start = bt.run()\n",
    "start"
   ]
  },
  {
   "cell_type": "code",
   "execution_count": 186,
   "metadata": {},
   "outputs": [
    {
     "data": {
      "text/html": [
       "<div style=\"display: table;\"><div style=\"display: table-row;\"><div style=\"display: table-cell;\"><b title=\"bokeh.models.layouts.Row\">Row</b>(</div><div style=\"display: table-cell;\">id&nbsp;=&nbsp;'13074', <span id=\"13688\" style=\"cursor: pointer;\">&hellip;)</span></div></div><div class=\"13687\" style=\"display: none;\"><div style=\"display: table-cell;\"></div><div style=\"display: table-cell;\">align&nbsp;=&nbsp;'start',</div></div><div class=\"13687\" style=\"display: none;\"><div style=\"display: table-cell;\"></div><div style=\"display: table-cell;\">aspect_ratio&nbsp;=&nbsp;None,</div></div><div class=\"13687\" style=\"display: none;\"><div style=\"display: table-cell;\"></div><div style=\"display: table-cell;\">background&nbsp;=&nbsp;None,</div></div><div class=\"13687\" style=\"display: none;\"><div style=\"display: table-cell;\"></div><div style=\"display: table-cell;\">children&nbsp;=&nbsp;[GridBox(id='13071', ...), ToolbarBox(id='13073', ...)],</div></div><div class=\"13687\" style=\"display: none;\"><div style=\"display: table-cell;\"></div><div style=\"display: table-cell;\">cols&nbsp;=&nbsp;'auto',</div></div><div class=\"13687\" style=\"display: none;\"><div style=\"display: table-cell;\"></div><div style=\"display: table-cell;\">css_classes&nbsp;=&nbsp;[],</div></div><div class=\"13687\" style=\"display: none;\"><div style=\"display: table-cell;\"></div><div style=\"display: table-cell;\">disabled&nbsp;=&nbsp;False,</div></div><div class=\"13687\" style=\"display: none;\"><div style=\"display: table-cell;\"></div><div style=\"display: table-cell;\">height&nbsp;=&nbsp;None,</div></div><div class=\"13687\" style=\"display: none;\"><div style=\"display: table-cell;\"></div><div style=\"display: table-cell;\">height_policy&nbsp;=&nbsp;'auto',</div></div><div class=\"13687\" style=\"display: none;\"><div style=\"display: table-cell;\"></div><div style=\"display: table-cell;\">js_event_callbacks&nbsp;=&nbsp;{},</div></div><div class=\"13687\" style=\"display: none;\"><div style=\"display: table-cell;\"></div><div style=\"display: table-cell;\">js_property_callbacks&nbsp;=&nbsp;{},</div></div><div class=\"13687\" style=\"display: none;\"><div style=\"display: table-cell;\"></div><div style=\"display: table-cell;\">margin&nbsp;=&nbsp;(0, 0, 0, 0),</div></div><div class=\"13687\" style=\"display: none;\"><div style=\"display: table-cell;\"></div><div style=\"display: table-cell;\">max_height&nbsp;=&nbsp;None,</div></div><div class=\"13687\" style=\"display: none;\"><div style=\"display: table-cell;\"></div><div style=\"display: table-cell;\">max_width&nbsp;=&nbsp;None,</div></div><div class=\"13687\" style=\"display: none;\"><div style=\"display: table-cell;\"></div><div style=\"display: table-cell;\">min_height&nbsp;=&nbsp;None,</div></div><div class=\"13687\" style=\"display: none;\"><div style=\"display: table-cell;\"></div><div style=\"display: table-cell;\">min_width&nbsp;=&nbsp;None,</div></div><div class=\"13687\" style=\"display: none;\"><div style=\"display: table-cell;\"></div><div style=\"display: table-cell;\">name&nbsp;=&nbsp;None,</div></div><div class=\"13687\" style=\"display: none;\"><div style=\"display: table-cell;\"></div><div style=\"display: table-cell;\">sizing_mode&nbsp;=&nbsp;'stretch_width',</div></div><div class=\"13687\" style=\"display: none;\"><div style=\"display: table-cell;\"></div><div style=\"display: table-cell;\">spacing&nbsp;=&nbsp;0,</div></div><div class=\"13687\" style=\"display: none;\"><div style=\"display: table-cell;\"></div><div style=\"display: table-cell;\">subscribed_events&nbsp;=&nbsp;[],</div></div><div class=\"13687\" style=\"display: none;\"><div style=\"display: table-cell;\"></div><div style=\"display: table-cell;\">syncable&nbsp;=&nbsp;True,</div></div><div class=\"13687\" style=\"display: none;\"><div style=\"display: table-cell;\"></div><div style=\"display: table-cell;\">tags&nbsp;=&nbsp;[],</div></div><div class=\"13687\" style=\"display: none;\"><div style=\"display: table-cell;\"></div><div style=\"display: table-cell;\">visible&nbsp;=&nbsp;True,</div></div><div class=\"13687\" style=\"display: none;\"><div style=\"display: table-cell;\"></div><div style=\"display: table-cell;\">width&nbsp;=&nbsp;None,</div></div><div class=\"13687\" style=\"display: none;\"><div style=\"display: table-cell;\"></div><div style=\"display: table-cell;\">width_policy&nbsp;=&nbsp;'auto')</div></div></div>\n",
       "<script>\n",
       "(function() {\n",
       "  let expanded = false;\n",
       "  const ellipsis = document.getElementById(\"13688\");\n",
       "  ellipsis.addEventListener(\"click\", function() {\n",
       "    const rows = document.getElementsByClassName(\"13687\");\n",
       "    for (let i = 0; i < rows.length; i++) {\n",
       "      const el = rows[i];\n",
       "      el.style.display = expanded ? \"none\" : \"table-row\";\n",
       "    }\n",
       "    ellipsis.innerHTML = expanded ? \"&hellip;)\" : \"&lsaquo;&lsaquo;&lsaquo;\";\n",
       "    expanded = !expanded;\n",
       "  });\n",
       "})();\n",
       "</script>\n"
      ],
      "text/plain": [
       "Row(id='13074', ...)"
      ]
     },
     "execution_count": 186,
     "metadata": {},
     "output_type": "execute_result"
    }
   ],
   "source": [
    "bt.plot()"
   ]
  }
 ],
 "metadata": {
  "kernelspec": {
   "display_name": "base",
   "language": "python",
   "name": "python3"
  },
  "language_info": {
   "codemirror_mode": {
    "name": "ipython",
    "version": 3
   },
   "file_extension": ".py",
   "mimetype": "text/x-python",
   "name": "python",
   "nbconvert_exporter": "python",
   "pygments_lexer": "ipython3",
   "version": "3.10.9"
  }
 },
 "nbformat": 4,
 "nbformat_minor": 2
}
