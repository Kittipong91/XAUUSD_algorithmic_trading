{
 "cells": [
  {
   "cell_type": "markdown",
   "metadata": {},
   "source": [
    "# How to send orders to the Market"
   ]
  },
  {
   "cell_type": "code",
   "execution_count": 1,
   "metadata": {},
   "outputs": [
    {
     "data": {
      "text/plain": [
       "True"
      ]
     },
     "execution_count": 1,
     "metadata": {},
     "output_type": "execute_result"
    }
   ],
   "source": [
    "import MetaTrader5 as mt5\n"
   ]
  },
  {
   "cell_type": "code",
   "execution_count": 2,
   "metadata": {},
   "outputs": [
    {
     "name": "stdout",
     "output_type": "stream",
     "text": [
      "MetaTrader5 package author:  MetaQuotes Ltd.\n",
      "MetaTrader5 package version:  5.0.44\n"
     ]
    }
   ],
   "source": [
    "print(\"MetaTrader5 package author: \",mt5.__author__)\n",
    "print(\"MetaTrader5 package version: \",mt5.__version__)"
   ]
  },
  {
   "cell_type": "code",
   "execution_count": null,
   "metadata": {},
   "outputs": [],
   "source": [
    "mt5.initialize()"
   ]
  },
  {
   "cell_type": "code",
   "execution_count": 1,
   "metadata": {},
   "outputs": [
    {
     "ename": "NameError",
     "evalue": "name 'mt5' is not defined",
     "output_type": "error",
     "traceback": [
      "\u001b[1;31m---------------------------------------------------------------------------\u001b[0m",
      "\u001b[1;31mNameError\u001b[0m                                 Traceback (most recent call last)",
      "\u001b[1;32m~\\AppData\\Local\\Temp\\ipykernel_24604\\1715656256.py\u001b[0m in \u001b[0;36m<module>\u001b[1;34m\u001b[0m\n\u001b[1;32m----> 1\u001b[1;33m \u001b[0mmt5\u001b[0m\u001b[1;33m.\u001b[0m\u001b[0minitialize\u001b[0m\u001b[1;33m(\u001b[0m\u001b[0mlogin\u001b[0m\u001b[1;33m=\u001b[0m\u001b[1;36m78777444\u001b[0m\u001b[1;33m,\u001b[0m \u001b[0mserver\u001b[0m\u001b[1;33m=\u001b[0m\u001b[1;34m\"Exness-MT5Trial7\"\u001b[0m\u001b[1;33m,\u001b[0m\u001b[0mpassword\u001b[0m\u001b[1;33m=\u001b[0m\u001b[1;34m\"Demo_forex_1\"\u001b[0m\u001b[1;33m)\u001b[0m\u001b[1;33m\u001b[0m\u001b[1;33m\u001b[0m\u001b[0m\n\u001b[0m",
      "\u001b[1;31mNameError\u001b[0m: name 'mt5' is not defined"
     ]
    }
   ],
   "source": [
    "mt5.initialize(login=78777444, server=\"Exness-MT5Trial7\",password=\"Demo_forex_1\")"
   ]
  },
  {
   "cell_type": "code",
   "execution_count": 3,
   "metadata": {},
   "outputs": [
    {
     "data": {
      "text/plain": [
       "OrderSendResult(retcode=10009, deal=36836555, order=58565601, volume=1.0, price=20349.53, bid=20332.99, ask=20349.53, comment='python script op', request_id=9, retcode_external=0, request=TradeRequest(action=1, magic=100, order=0, symbol='BTCUSDm', volume=1.0, price=0.57036, stoplimit=0.0, sl=0.0, tp=0.0, deviation=20, type=0, type_filling=1, type_time=0, expiration=0, comment='python script open', position=0, position_by=0))"
      ]
     },
     "execution_count": 3,
     "metadata": {},
     "output_type": "execute_result"
    }
   ],
   "source": [
    "# market order\n",
    "\n",
    "request = {\n",
    "    \"action\": mt5.TRADE_ACTION_DEAL,  # TRADE_ACTION_DEAL tells the platform that we want to open a trade \n",
    "    \"symbol\": \"BTCUSDm\",  # specify the symbol on which you want to open a trade\n",
    "    \"volume\": 1.0,  # amount of contracts you want to open\n",
    "    \"type\": mt5.ORDER_TYPE_BUY,  # ORDER_TYPE_BUY specifies a BUY order, use mt5.ORDER_TYPE_SELL to sell\n",
    "    \"price\": mt5.symbol_info_tick(\"NZDCHFm\").ask,  # specify the price for which you want to buy\n",
    "    \"sl\": 0.0,  # stoploss\n",
    "    \"tp\": 0.0,  # take profit\n",
    "    \"deviation\": 20,  # maximum amount of slippage allowed for your market order, otherwise reject\n",
    "    \"magic\": 100,  # unique number identifier of the order\n",
    "    \"comment\": \"python script open\",  # order comment\n",
    "    \"type_time\": mt5.ORDER_TIME_GTC,  # GTC (Good-Til-Cancelled) means that the order will remain active until cancelled\n",
    "    \"type_filling\": mt5.ORDER_FILLING_IOC,  # Allows partial fill of order. If the rest can't be filled, it will be cancelled\n",
    "}\n",
    "\n",
    "result = mt5.order_send(request)\n",
    "result"
   ]
  },
  {
   "cell_type": "code",
   "execution_count": 22,
   "metadata": {},
   "outputs": [
    {
     "ename": "IndexError",
     "evalue": "tuple index out of range",
     "output_type": "error",
     "traceback": [
      "\u001b[1;31m---------------------------------------------------------------------------\u001b[0m",
      "\u001b[1;31mIndexError\u001b[0m                                Traceback (most recent call last)",
      "Cell \u001b[1;32mIn[22], line 2\u001b[0m\n\u001b[0;32m      1\u001b[0m \u001b[39m# close order\u001b[39;00m\n\u001b[1;32m----> 2\u001b[0m position \u001b[39m=\u001b[39m mt5\u001b[39m.\u001b[39;49mpositions_get(ticket\u001b[39m=\u001b[39;49m\u001b[39m165405532\u001b[39;49m)[\u001b[39m0\u001b[39;49m]\n\u001b[0;32m      3\u001b[0m \u001b[39mprint\u001b[39m(position)\n\u001b[0;32m      5\u001b[0m tick \u001b[39m=\u001b[39m mt5\u001b[39m.\u001b[39msymbol_info_tick(\u001b[39m\"\u001b[39m\u001b[39mNZDCHFm\u001b[39m\u001b[39m\"\u001b[39m)\n",
      "\u001b[1;31mIndexError\u001b[0m: tuple index out of range"
     ]
    }
   ],
   "source": [
    "# close order\n",
    "position = mt5.positions_get(ticket=165405532)[0]\n",
    "print(position)\n",
    "\n",
    "tick = mt5.symbol_info_tick(\"NZDCHFm\")\n",
    "\n",
    "request = {\n",
    "    \"action\": mt5.TRADE_ACTION_DEAL,\n",
    "    \"position\": position.ticket,\n",
    "    \"symbol\": position.symbol,\n",
    "    \"volume\": position.volume,\n",
    "    \"type\": mt5.ORDER_TYPE_BUY if position.type == 1 else mt5.ORDER_TYPE_SELL,\n",
    "    \"price\": tick.ask if position.type == 1 else tick.bid,  \n",
    "    \"deviation\": 20,\n",
    "    \"magic\": 100,\n",
    "    \"comment\": \"python script close\",\n",
    "    \"type_time\": mt5.ORDER_TIME_GTC,\n",
    "    \"type_filling\": mt5.ORDER_FILLING_IOC,\n",
    "}\n",
    "\n",
    "result = mt5.order_send(request)\n",
    "result\n"
   ]
  },
  {
   "cell_type": "code",
   "execution_count": 79,
   "metadata": {},
   "outputs": [
    {
     "name": "stdout",
     "output_type": "stream",
     "text": [
      "TradePosition(ticket=165405546, time=1635608954, time_msc=1635608954905, time_update=1635609013, time_update_msc=1635609013271, type=0, magic=100, identifier=165405546, reason=3, volume=0.25, price_open=61666.69, sl=0.0, tp=0.0, price_current=61683.03, swap=0.0, profit=4.09, symbol='BTCUSD', comment='python script cl', external_id='')\n"
     ]
    },
    {
     "data": {
      "text/plain": [
       "OrderSendResult(retcode=10009, deal=117070192, order=165405557, volume=0.25, price=61671.33, bid=61671.33, ask=61693.48, comment='Request executed', request_id=32, retcode_external=0, request=TradeRequest(action=1, magic=100, order=0, symbol='BTCUSD', volume=0.25, price=61683.03, stoplimit=0.0, sl=0.0, tp=0.0, deviation=20, type=1, type_filling=1, type_time=0, expiration=0, comment='python script close', position=165405546, position_by=0))"
      ]
     },
     "execution_count": 79,
     "metadata": {},
     "output_type": "execute_result"
    }
   ],
   "source": [
    "# partial close\n",
    "position = mt5.positions_get(ticket=165405546)[0]\n",
    "print(position)\n",
    "\n",
    "tick = mt5.symbol_info_tick(\"BTCUSD\")\n",
    "\n",
    "request = {\n",
    "    \"action\": mt5.TRADE_ACTION_DEAL,\n",
    "    \"position\": position.ticket,\n",
    "    \"symbol\": position.symbol,\n",
    "    \"volume\": 0.25,\n",
    "    \"type\": mt5.ORDER_TYPE_BUY if position.type == 1 else mt5.ORDER_TYPE_SELL,\n",
    "    \"price\": tick.ask if position.type == 1 else tick.bid,  \n",
    "    \"deviation\": 20,\n",
    "    \"magic\": 100,\n",
    "    \"comment\": \"python script close\",\n",
    "    \"type_time\": mt5.ORDER_TIME_GTC,\n",
    "    \"type_filling\": mt5.ORDER_FILLING_IOC,\n",
    "}\n",
    "\n",
    "result = mt5.order_send(request)\n",
    "result"
   ]
  },
  {
   "cell_type": "code",
   "execution_count": 84,
   "metadata": {},
   "outputs": [
    {
     "data": {
      "text/plain": [
       "OrderSendResult(retcode=10009, deal=0, order=165405584, volume=1.0, price=0.0, bid=0.0, ask=0.0, comment='Request executed', request_id=40, retcode_external=0, request=TradeRequest(action=5, magic=100, order=0, symbol='BTCUSD', volume=1.0, price=60704.19, stoplimit=0.0, sl=0.0, tp=0.0, deviation=0, type=2, type_filling=2, type_time=0, expiration=0, comment='python script buy limit', position=0, position_by=0))"
      ]
     },
     "execution_count": 84,
     "metadata": {},
     "output_type": "execute_result"
    }
   ],
   "source": [
    "# limit order\n",
    "\n",
    "request = {\n",
    "    \"action\": mt5.TRADE_ACTION_PENDING,\n",
    "    \"symbol\": \"BTCUSD\",  \n",
    "    \"volume\": 1.0, \n",
    "    \"type\": mt5.ORDER_TYPE_BUY_LIMIT,  # use ORDER_TYPE_SELL_LIMIT for sell limit orders\n",
    "    \"price\": mt5.symbol_info_tick(\"BTCUSD\").ask - 1000,  \n",
    "    \"sl\": 0.0,  \n",
    "    \"tp\": 0.0,  \n",
    "    \"magic\": 100, \n",
    "    \"comment\": \"python script buy limit\", \n",
    "    \"type_time\": mt5.ORDER_TIME_GTC, \n",
    "    \"type_filling\": mt5.ORDER_FILLING_RETURN,\n",
    "}\n",
    "\n",
    "result = mt5.order_send(request)\n",
    "result"
   ]
  },
  {
   "cell_type": "code",
   "execution_count": 81,
   "metadata": {},
   "outputs": [
    {
     "data": {
      "text/plain": [
       "OrderSendResult(retcode=10009, deal=0, order=165405571, volume=1.0, price=0.0, bid=0.0, ask=0.0, comment='Request executed', request_id=35, retcode_external=0, request=TradeRequest(action=5, magic=100, order=0, symbol='BTCUSD', volume=1.0, price=62656.19, stoplimit=0.0, sl=0.0, tp=0.0, deviation=0, type=4, type_filling=2, type_time=0, expiration=0, comment='python script buy stop', position=0, position_by=0))"
      ]
     },
     "execution_count": 81,
     "metadata": {},
     "output_type": "execute_result"
    }
   ],
   "source": [
    "# stop order\n",
    "\n",
    "request = {\n",
    "    \"action\": mt5.TRADE_ACTION_PENDING,\n",
    "    \"symbol\": \"BTCUSD\",  \n",
    "    \"volume\": 1.0, \n",
    "    \"type\": mt5.ORDER_TYPE_BUY_STOP,  # use ORDER_TYPE_SELL_STOP for sell stop orders\n",
    "    \"price\": mt5.symbol_info_tick(\"BTCUSD\").ask + 1000,  \n",
    "    \"sl\": 0.0,  \n",
    "    \"tp\": 0.0,  \n",
    "    \"magic\": 100, \n",
    "    \"comment\": \"python script buy stop\", \n",
    "    \"type_time\": mt5.ORDER_TIME_GTC, \n",
    "    \"type_filling\": mt5.ORDER_FILLING_RETURN,\n",
    "}\n",
    "\n",
    "result = mt5.order_send(request)\n",
    "result"
   ]
  },
  {
   "cell_type": "code",
   "execution_count": 83,
   "metadata": {},
   "outputs": [
    {
     "data": {
      "text/plain": [
       "OrderSendResult(retcode=10009, deal=0, order=0, volume=0.0, price=0.0, bid=0.0, ask=0.0, comment='Request executed', request_id=38, retcode_external=0, request=TradeRequest(action=6, magic=0, order=0, symbol='', volume=0.0, price=0.0, stoplimit=0.0, sl=61400.0, tp=61850.0, deviation=0, type=0, type_filling=0, type_time=0, expiration=0, comment='', position=165405573, position_by=0))"
      ]
     },
     "execution_count": 83,
     "metadata": {},
     "output_type": "execute_result"
    }
   ],
   "source": [
    "# modify order SL/TP\n",
    "\n",
    "request = {\n",
    "    \"action\": mt5.TRADE_ACTION_SLTP,\n",
    "    \"position\": 165405573,\n",
    "    \"sl\": 61400.0,  \n",
    "    \"tp\": 61850.0,  \n",
    "}\n",
    "\n",
    "result = mt5.order_send(request)\n",
    "result"
   ]
  },
  {
   "cell_type": "code",
   "execution_count": 85,
   "metadata": {},
   "outputs": [
    {
     "data": {
      "text/plain": [
       "OrderSendResult(retcode=10009, deal=0, order=165405584, volume=0.0, price=0.0, bid=0.0, ask=0.0, comment='Request executed', request_id=41, retcode_external=0, request=TradeRequest(action=8, magic=0, order=165405584, symbol='', volume=0.0, price=0.0, stoplimit=0.0, sl=0.0, tp=0.0, deviation=0, type=0, type_filling=0, type_time=0, expiration=0, comment='', position=0, position_by=0))"
      ]
     },
     "execution_count": 85,
     "metadata": {},
     "output_type": "execute_result"
    }
   ],
   "source": [
    "# delete order\n",
    "\n",
    "request = {\n",
    "    \"action\": mt5.TRADE_ACTION_REMOVE,\n",
    "    \"order\": 165405584,\n",
    "}\n",
    "\n",
    "result = mt5.order_send(request)\n",
    "result\n"
   ]
  },
  {
   "cell_type": "code",
   "execution_count": null,
   "metadata": {},
   "outputs": [],
   "source": []
  }
 ],
 "metadata": {
  "kernelspec": {
   "display_name": "Python 3 (ipykernel)",
   "language": "python",
   "name": "python3"
  },
  "language_info": {
   "codemirror_mode": {
    "name": "ipython",
    "version": 3
   },
   "file_extension": ".py",
   "mimetype": "text/x-python",
   "name": "python",
   "nbconvert_exporter": "python",
   "pygments_lexer": "ipython3",
   "version": "3.11.2"
  }
 },
 "nbformat": 4,
 "nbformat_minor": 4
}
