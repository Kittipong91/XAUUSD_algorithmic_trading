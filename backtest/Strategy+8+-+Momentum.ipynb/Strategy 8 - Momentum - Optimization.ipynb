{
 "cells": [
  {
   "cell_type": "code",
   "execution_count": 1,
   "metadata": {},
   "outputs": [],
   "source": [
    "import sys\n",
    "sys.path.append('../../')"
   ]
  },
  {
   "cell_type": "code",
   "execution_count": 2,
   "metadata": {},
   "outputs": [],
   "source": [
    "\n",
    "from config.constants import *\n",
    "from backtesting import Backtest, Strategy\n",
    "from backtesting.test import EURUSD, SMA \n",
    "from backtesting.lib import plot_heatmaps, resample_apply\n",
    "import numpy as np\n",
    "import pandas as pd\n",
    "import seaborn as sns\n",
    "import matplotlib.pyplot as plt\n",
    "from util.ATR import *\n",
    "from util.plot_return import *"
   ]
  },
  {
   "cell_type": "code",
   "execution_count": 39,
   "metadata": {},
   "outputs": [],
   "source": [
    "XAUUSD = {}\n",
    "XAUUSD['D1'] = pd.read_csv(PATH_DATA + SYMBOL['XAUUSD']\n",
    "                           ['D1'] + '.csv', index_col='Time', parse_dates=True)\n",
    "XAUUSD['H4'] = pd.read_csv(PATH_DATA + SYMBOL['XAUUSD']\n",
    "                           ['H4'] + '.csv', index_col='Time', parse_dates=True)\n",
    "XAUUSD['H1'] = pd.read_csv(PATH_DATA + SYMBOL['XAUUSD']\n",
    "                           ['H1'] + '.csv', index_col='Time', parse_dates=True)\n",
    "XAUUSD['M30'] = pd.read_csv(\n",
    "    PATH_DATA + SYMBOL['XAUUSD']['M30'] + '.csv', index_col='Time', parse_dates=True)\n",
    "XAUUSD['M15'] = pd.read_csv(\n",
    "    PATH_DATA + SYMBOL['XAUUSD']['M15'] + '.csv', index_col='Time', parse_dates=True)\n",
    "XAUUSD['M5'] = pd.read_csv(PATH_DATA + SYMBOL['XAUUSD']\n",
    "                           ['M5'] + '.csv', index_col='Time', parse_dates=True)\n",
    "XAUUSD['M1'] = pd.read_csv(PATH_DATA + SYMBOL['XAUUSD']\n",
    "                           ['M1'] + '.csv', index_col='Time', parse_dates=True)"
   ]
  },
  {
   "cell_type": "code",
   "execution_count": 17,
   "metadata": {},
   "outputs": [],
   "source": [
    "start_2007 = \"2007-01-01\"\n",
    "start_2008 = \"2008-01-01\"\n",
    "start_2009 = \"2009-01-01\"\n",
    "start_2010 = \"2010-01-01\"\n",
    "start_2011 = \"2011-01-01\"\n",
    "start_2012 = \"2012-01-01\"\n",
    "start_2013 = \"2013-01-01\"\n",
    "start_2014 = \"2014-01-01\"\n",
    "start_2015 = \"2015-01-01\"\n",
    "start_2016 = \"2016-01-01\"\n",
    "start_2017 = \"2017-01-01\"\n",
    "start_2018 = \"2018-01-01\"\n",
    "start_2019 = \"2019-01-01\"\n",
    "start_2020 = \"2020-01-01\"\n",
    "start_2021 = \"2021-01-01\"\n",
    "start_2022 = \"2022-01-01\"\n",
    "start_2023 = \"2023-01-01\"\n",
    "\n",
    "end_2007 = \"2007-01-01\"\n",
    "end_2008 = \"2008-01-01\"\n",
    "end_2009 = \"2009-01-01\"\n",
    "end_2010 = \"2010-01-01\"\n",
    "end_2011 = \"2011-01-01\"\n",
    "end_2012 = \"2012-01-01\"\n",
    "end_2013 = \"2013-01-01\"\n",
    "end_2014 = \"2014-01-01\"\n",
    "end_2015 = \"2015-01-01\"\n",
    "end_2016 = \"2016-01-01\"\n",
    "end_2017 = \"2017-01-01\"\n",
    "end_2018 = \"2018-01-01\"\n",
    "end_2019 = \"2019-01-01\"\n",
    "end_2020 = \"2020-01-01\"\n",
    "end_2021 = \"2021-01-01\"\n",
    "end_2022 = \"2022-01-01\"\n",
    "end_2023 = \"2023-01-01\"\n"
   ]
  },
  {
   "cell_type": "code",
   "execution_count": 23,
   "metadata": {},
   "outputs": [
    {
     "data": {
      "text/html": [
       "<div>\n",
       "<style scoped>\n",
       "    .dataframe tbody tr th:only-of-type {\n",
       "        vertical-align: middle;\n",
       "    }\n",
       "\n",
       "    .dataframe tbody tr th {\n",
       "        vertical-align: top;\n",
       "    }\n",
       "\n",
       "    .dataframe thead th {\n",
       "        text-align: right;\n",
       "    }\n",
       "</style>\n",
       "<table border=\"1\" class=\"dataframe\">\n",
       "  <thead>\n",
       "    <tr style=\"text-align: right;\">\n",
       "      <th></th>\n",
       "      <th>Open</th>\n",
       "      <th>High</th>\n",
       "      <th>Low</th>\n",
       "      <th>Close</th>\n",
       "      <th>Volume</th>\n",
       "    </tr>\n",
       "    <tr>\n",
       "      <th>Time</th>\n",
       "      <th></th>\n",
       "      <th></th>\n",
       "      <th></th>\n",
       "      <th></th>\n",
       "      <th></th>\n",
       "    </tr>\n",
       "  </thead>\n",
       "  <tbody>\n",
       "    <tr>\n",
       "      <th>2007-01-01</th>\n",
       "      <td>635.679</td>\n",
       "      <td>637.103</td>\n",
       "      <td>635.006</td>\n",
       "      <td>635.943</td>\n",
       "      <td>604</td>\n",
       "    </tr>\n",
       "    <tr>\n",
       "      <th>2007-01-02</th>\n",
       "      <td>635.791</td>\n",
       "      <td>640.802</td>\n",
       "      <td>635.286</td>\n",
       "      <td>639.143</td>\n",
       "      <td>1282</td>\n",
       "    </tr>\n",
       "    <tr>\n",
       "      <th>2007-01-03</th>\n",
       "      <td>639.029</td>\n",
       "      <td>644.663</td>\n",
       "      <td>624.634</td>\n",
       "      <td>626.602</td>\n",
       "      <td>1302</td>\n",
       "    </tr>\n",
       "    <tr>\n",
       "      <th>2007-01-04</th>\n",
       "      <td>626.699</td>\n",
       "      <td>630.352</td>\n",
       "      <td>619.600</td>\n",
       "      <td>622.533</td>\n",
       "      <td>1365</td>\n",
       "    </tr>\n",
       "    <tr>\n",
       "      <th>2007-01-05</th>\n",
       "      <td>622.268</td>\n",
       "      <td>625.768</td>\n",
       "      <td>601.591</td>\n",
       "      <td>606.841</td>\n",
       "      <td>1284</td>\n",
       "    </tr>\n",
       "    <tr>\n",
       "      <th>...</th>\n",
       "      <td>...</td>\n",
       "      <td>...</td>\n",
       "      <td>...</td>\n",
       "      <td>...</td>\n",
       "      <td>...</td>\n",
       "    </tr>\n",
       "    <tr>\n",
       "      <th>2023-03-06</th>\n",
       "      <td>1852.255</td>\n",
       "      <td>1858.168</td>\n",
       "      <td>1845.015</td>\n",
       "      <td>1846.255</td>\n",
       "      <td>1380</td>\n",
       "    </tr>\n",
       "    <tr>\n",
       "      <th>2023-03-07</th>\n",
       "      <td>1846.225</td>\n",
       "      <td>1851.555</td>\n",
       "      <td>1812.655</td>\n",
       "      <td>1813.865</td>\n",
       "      <td>1380</td>\n",
       "    </tr>\n",
       "    <tr>\n",
       "      <th>2023-03-08</th>\n",
       "      <td>1813.855</td>\n",
       "      <td>1824.185</td>\n",
       "      <td>1809.248</td>\n",
       "      <td>1815.175</td>\n",
       "      <td>1379</td>\n",
       "    </tr>\n",
       "    <tr>\n",
       "      <th>2023-03-09</th>\n",
       "      <td>1815.195</td>\n",
       "      <td>1835.565</td>\n",
       "      <td>1811.805</td>\n",
       "      <td>1831.415</td>\n",
       "      <td>1366</td>\n",
       "    </tr>\n",
       "    <tr>\n",
       "      <th>2023-03-10</th>\n",
       "      <td>1831.428</td>\n",
       "      <td>1867.348</td>\n",
       "      <td>1827.675</td>\n",
       "      <td>1864.098</td>\n",
       "      <td>1080</td>\n",
       "    </tr>\n",
       "  </tbody>\n",
       "</table>\n",
       "<p>5043 rows × 5 columns</p>\n",
       "</div>"
      ],
      "text/plain": [
       "                Open      High       Low     Close  Volume\n",
       "Time                                                      \n",
       "2007-01-01   635.679   637.103   635.006   635.943     604\n",
       "2007-01-02   635.791   640.802   635.286   639.143    1282\n",
       "2007-01-03   639.029   644.663   624.634   626.602    1302\n",
       "2007-01-04   626.699   630.352   619.600   622.533    1365\n",
       "2007-01-05   622.268   625.768   601.591   606.841    1284\n",
       "...              ...       ...       ...       ...     ...\n",
       "2023-03-06  1852.255  1858.168  1845.015  1846.255    1380\n",
       "2023-03-07  1846.225  1851.555  1812.655  1813.865    1380\n",
       "2023-03-08  1813.855  1824.185  1809.248  1815.175    1379\n",
       "2023-03-09  1815.195  1835.565  1811.805  1831.415    1366\n",
       "2023-03-10  1831.428  1867.348  1827.675  1864.098    1080\n",
       "\n",
       "[5043 rows x 5 columns]"
      ]
     },
     "execution_count": 23,
     "metadata": {},
     "output_type": "execute_result"
    }
   ],
   "source": [
    "XAUUSD['D1']"
   ]
  },
  {
   "cell_type": "code",
   "execution_count": 24,
   "metadata": {},
   "outputs": [],
   "source": [
    "class Momentum(Strategy) :\n",
    "    ATR_SL = 6\n",
    "    max_dir_count = 2\n",
    "    def init(self):\n",
    "        self.data.df['ATR'] = ATR(self.data.df, 20)['ATR']\n",
    "        self.data.df['direction'] = np.where(self.data.Close > self.data.Open, 'bull', 'bear')\n",
    "        self.data.df['dir_count'] = self.data.df.groupby((self.data.df['direction'] != self.data.df['direction'].shift(1)).cumsum()).cumcount()+1\n",
    "        \n",
    "    \n",
    "\n",
    "    def next(self):\n",
    "        current_dir_count = self.data.df.loc[self.data.df.index[-1], 'dir_count']\n",
    "        current_direction = self.data.df.loc[self.data.df.index[-1], 'direction']\n",
    "        current_ATR = self.data.df.loc[self.data.df.index[-1], 'ATR']\n",
    "        \n",
    "        if current_dir_count >= self.max_dir_count and current_direction == 'bull' and not self.position and not np.isnan(current_ATR):\n",
    "            if self.position.is_long :\n",
    "                print('Have a order')\n",
    "            tp = self.data.Close[-1] + current_ATR * self.ATR_SL\n",
    "            sl = self.data.Open[-1]  - 0.001\n",
    "              \n",
    "                # Place your buy logic here\n",
    "            \n",
    "            self.buy(sl=sl, tp=tp, size= 1)\n",
    "        if current_dir_count >= self.max_dir_count and current_direction == 'bear' and not self.position and not np.isnan(current_ATR):\n",
    "            tp = self.data.Close[-1] - current_ATR * self.ATR_SL\n",
    "            sl = self.data.Open[-1] + 0.001\n",
    "               \n",
    "            \n",
    "           \n",
    "            self.sell(sl=sl, tp=tp, size= 1)"
   ]
  },
  {
   "cell_type": "code",
   "execution_count": 6,
   "metadata": {},
   "outputs": [],
   "source": [
    "account_size = 20000"
   ]
  },
  {
   "cell_type": "markdown",
   "metadata": {},
   "source": [
    "Optimization"
   ]
  },
  {
   "cell_type": "markdown",
   "metadata": {},
   "source": [
    "D1"
   ]
  },
  {
   "cell_type": "code",
   "execution_count": 25,
   "metadata": {},
   "outputs": [
    {
     "data": {
      "text/plain": [
       "Start                     2007-01-01 00:00:00\n",
       "End                       2023-03-10 00:00:00\n",
       "Duration                   5912 days 00:00:00\n",
       "Exposure Time [%]                   88.082491\n",
       "Equity Final [$]                   19436.2294\n",
       "Equity Peak [$]                    20318.3702\n",
       "Return [%]                          -2.818853\n",
       "Buy & Hold Return [%]               193.12344\n",
       "Return (Ann.) [%]                    -0.14278\n",
       "Volatility (Ann.) [%]                0.911034\n",
       "Sharpe Ratio                              0.0\n",
       "Sortino Ratio                             0.0\n",
       "Calmar Ratio                              0.0\n",
       "Max. Drawdown [%]                   -5.012349\n",
       "Avg. Drawdown [%]                   -0.413309\n",
       "Max. Drawdown Duration     5323 days 00:00:00\n",
       "Avg. Drawdown Duration      309 days 00:00:00\n",
       "# Trades                                  500\n",
       "Win Rate [%]                              9.2\n",
       "Best Trade [%]                      17.196177\n",
       "Worst Trade [%]                     -9.888391\n",
       "Avg. Trade [%]                       -0.13517\n",
       "Max. Trade Duration         181 days 00:00:00\n",
       "Avg. Trade Duration          10 days 00:00:00\n",
       "Profit Factor                        0.870281\n",
       "Expectancy [%]                      -0.100337\n",
       "SQN                                 -0.719907\n",
       "_strategy                            Momentum\n",
       "_equity_curve                             ...\n",
       "_trades                        Size  Entry...\n",
       "dtype: object"
      ]
     },
     "execution_count": 25,
     "metadata": {},
     "output_type": "execute_result"
    }
   ],
   "source": [
    "bt_D1 = Backtest(XAUUSD['D1'],Momentum, cash=account_size, margin=1/2000, )\n",
    "result = bt_D1.run()\n",
    "result"
   ]
  },
  {
   "cell_type": "code",
   "execution_count": 28,
   "metadata": {},
   "outputs": [
    {
     "data": {
      "application/vnd.jupyter.widget-view+json": {
       "model_id": "3f5c6114d4514f80a4a09f8d36b50247",
       "version_major": 2,
       "version_minor": 0
      },
      "text/plain": [
       "  0%|          | 0/8 [00:00<?, ?it/s]"
      ]
     },
     "metadata": {},
     "output_type": "display_data"
    }
   ],
   "source": [
    "optimize, heatmap =  bt_D1.optimize(\n",
    "    ATR_SL = range(1,15,1),\n",
    "    max_dir_count = range(2,10,1),\n",
    "    maximize='Sharpe Ratio',\n",
    "    return_heatmap= True,\n",
    "    # max_tries=10\n",
    "\n",
    ")"
   ]
  },
  {
   "cell_type": "code",
   "execution_count": 29,
   "metadata": {},
   "outputs": [
    {
     "data": {
      "text/plain": [
       "Start                     2007-01-01 00:00:00\n",
       "End                       2023-03-10 00:00:00\n",
       "Duration                   5912 days 00:00:00\n",
       "Exposure Time [%]                   44.199881\n",
       "Equity Final [$]                   20843.8282\n",
       "Equity Peak [$]                    21133.3988\n",
       "Return [%]                           4.219141\n",
       "Buy & Hold Return [%]               193.12344\n",
       "Return (Ann.) [%]                    0.206719\n",
       "Volatility (Ann.) [%]                0.645374\n",
       "Sharpe Ratio                         0.320308\n",
       "Sortino Ratio                          0.4587\n",
       "Calmar Ratio                         0.093539\n",
       "Max. Drawdown [%]                   -2.209973\n",
       "Avg. Drawdown [%]                   -0.249166\n",
       "Max. Drawdown Duration     2135 days 00:00:00\n",
       "Avg. Drawdown Duration      114 days 00:00:00\n",
       "# Trades                                  243\n",
       "Win Rate [%]                         8.641975\n",
       "Best Trade [%]                      23.260701\n",
       "Worst Trade [%]                     -4.250717\n",
       "Avg. Trade [%]                       0.261834\n",
       "Max. Trade Duration         120 days 00:00:00\n",
       "Avg. Trade Duration          10 days 00:00:00\n",
       "Profit Factor                        1.583639\n",
       "Expectancy [%]                       0.311413\n",
       "SQN                                  1.251751\n",
       "_strategy                 Momentum(ATR_SL=...\n",
       "_equity_curve                             ...\n",
       "_trades                        Size  Entry...\n",
       "dtype: object"
      ]
     },
     "execution_count": 29,
     "metadata": {},
     "output_type": "execute_result"
    }
   ],
   "source": [
    "optimize"
   ]
  },
  {
   "cell_type": "code",
   "execution_count": 32,
   "metadata": {},
   "outputs": [
    {
     "data": {
      "text/plain": [
       "<Strategy Momentum(ATR_SL=8,max_dir_count=4)>"
      ]
     },
     "execution_count": 32,
     "metadata": {},
     "output_type": "execute_result"
    }
   ],
   "source": [
    "optimize['_strategy']"
   ]
  },
  {
   "cell_type": "code",
   "execution_count": 33,
   "metadata": {},
   "outputs": [
    {
     "data": {
      "text/plain": [
       "ATR_SL  max_dir_count\n",
       "1       2                0.000000\n",
       "        3                0.000000\n",
       "        4                0.000000\n",
       "        5                0.000000\n",
       "        6                0.227751\n",
       "                           ...   \n",
       "14      5                0.002117\n",
       "        6                0.000000\n",
       "        7                0.000000\n",
       "        8                0.000000\n",
       "        9                0.000000\n",
       "Name: Sharpe Ratio, Length: 112, dtype: float64"
      ]
     },
     "execution_count": 33,
     "metadata": {},
     "output_type": "execute_result"
    }
   ],
   "source": [
    "heatmap"
   ]
  },
  {
   "cell_type": "code",
   "execution_count": 34,
   "metadata": {},
   "outputs": [],
   "source": [
    "hm = heatmap.groupby([\"ATR_SL\",\"max_dir_count\"]).mean().unstack()"
   ]
  },
  {
   "cell_type": "code",
   "execution_count": 41,
   "metadata": {},
   "outputs": [
    {
     "data": {
      "text/html": [
       "<div>\n",
       "<style scoped>\n",
       "    .dataframe tbody tr th:only-of-type {\n",
       "        vertical-align: middle;\n",
       "    }\n",
       "\n",
       "    .dataframe tbody tr th {\n",
       "        vertical-align: top;\n",
       "    }\n",
       "\n",
       "    .dataframe thead th {\n",
       "        text-align: right;\n",
       "    }\n",
       "</style>\n",
       "<table border=\"1\" class=\"dataframe\">\n",
       "  <thead>\n",
       "    <tr style=\"text-align: right;\">\n",
       "      <th>max_dir_count</th>\n",
       "      <th>2</th>\n",
       "      <th>3</th>\n",
       "      <th>4</th>\n",
       "      <th>5</th>\n",
       "      <th>6</th>\n",
       "      <th>7</th>\n",
       "      <th>8</th>\n",
       "      <th>9</th>\n",
       "    </tr>\n",
       "    <tr>\n",
       "      <th>ATR_SL</th>\n",
       "      <th></th>\n",
       "      <th></th>\n",
       "      <th></th>\n",
       "      <th></th>\n",
       "      <th></th>\n",
       "      <th></th>\n",
       "      <th></th>\n",
       "      <th></th>\n",
       "    </tr>\n",
       "  </thead>\n",
       "  <tbody>\n",
       "    <tr>\n",
       "      <th>1</th>\n",
       "      <td>0.000000</td>\n",
       "      <td>0.000000</td>\n",
       "      <td>0.000000</td>\n",
       "      <td>0.000000</td>\n",
       "      <td>0.227751</td>\n",
       "      <td>0.119626</td>\n",
       "      <td>0.029822</td>\n",
       "      <td>0.000000</td>\n",
       "    </tr>\n",
       "    <tr>\n",
       "      <th>2</th>\n",
       "      <td>0.103240</td>\n",
       "      <td>0.289891</td>\n",
       "      <td>0.199325</td>\n",
       "      <td>0.000000</td>\n",
       "      <td>0.062927</td>\n",
       "      <td>0.000000</td>\n",
       "      <td>0.000000</td>\n",
       "      <td>0.000000</td>\n",
       "    </tr>\n",
       "    <tr>\n",
       "      <th>3</th>\n",
       "      <td>0.053383</td>\n",
       "      <td>0.004541</td>\n",
       "      <td>0.028304</td>\n",
       "      <td>0.000000</td>\n",
       "      <td>0.000000</td>\n",
       "      <td>0.000000</td>\n",
       "      <td>0.000000</td>\n",
       "      <td>0.012435</td>\n",
       "    </tr>\n",
       "    <tr>\n",
       "      <th>4</th>\n",
       "      <td>0.040814</td>\n",
       "      <td>0.000000</td>\n",
       "      <td>0.115727</td>\n",
       "      <td>0.000000</td>\n",
       "      <td>0.000000</td>\n",
       "      <td>0.000000</td>\n",
       "      <td>0.000000</td>\n",
       "      <td>0.000000</td>\n",
       "    </tr>\n",
       "    <tr>\n",
       "      <th>5</th>\n",
       "      <td>0.000000</td>\n",
       "      <td>0.020286</td>\n",
       "      <td>0.212833</td>\n",
       "      <td>0.000000</td>\n",
       "      <td>0.060922</td>\n",
       "      <td>0.000000</td>\n",
       "      <td>0.000000</td>\n",
       "      <td>0.000000</td>\n",
       "    </tr>\n",
       "    <tr>\n",
       "      <th>6</th>\n",
       "      <td>0.000000</td>\n",
       "      <td>0.216491</td>\n",
       "      <td>0.245715</td>\n",
       "      <td>0.000000</td>\n",
       "      <td>0.000000</td>\n",
       "      <td>0.000000</td>\n",
       "      <td>0.000000</td>\n",
       "      <td>0.000000</td>\n",
       "    </tr>\n",
       "    <tr>\n",
       "      <th>7</th>\n",
       "      <td>0.000000</td>\n",
       "      <td>0.176569</td>\n",
       "      <td>0.303280</td>\n",
       "      <td>0.000000</td>\n",
       "      <td>0.000000</td>\n",
       "      <td>0.000000</td>\n",
       "      <td>0.000000</td>\n",
       "      <td>0.000000</td>\n",
       "    </tr>\n",
       "    <tr>\n",
       "      <th>8</th>\n",
       "      <td>0.000000</td>\n",
       "      <td>0.166716</td>\n",
       "      <td>0.320308</td>\n",
       "      <td>0.000000</td>\n",
       "      <td>0.000000</td>\n",
       "      <td>0.000000</td>\n",
       "      <td>0.000000</td>\n",
       "      <td>0.000000</td>\n",
       "    </tr>\n",
       "    <tr>\n",
       "      <th>9</th>\n",
       "      <td>0.000000</td>\n",
       "      <td>0.109242</td>\n",
       "      <td>0.159170</td>\n",
       "      <td>0.000000</td>\n",
       "      <td>0.000000</td>\n",
       "      <td>0.000000</td>\n",
       "      <td>0.000000</td>\n",
       "      <td>0.000000</td>\n",
       "    </tr>\n",
       "    <tr>\n",
       "      <th>10</th>\n",
       "      <td>0.002848</td>\n",
       "      <td>0.005237</td>\n",
       "      <td>0.104781</td>\n",
       "      <td>0.000000</td>\n",
       "      <td>0.000000</td>\n",
       "      <td>0.000000</td>\n",
       "      <td>0.000000</td>\n",
       "      <td>0.000000</td>\n",
       "    </tr>\n",
       "    <tr>\n",
       "      <th>11</th>\n",
       "      <td>0.000000</td>\n",
       "      <td>0.000000</td>\n",
       "      <td>0.106562</td>\n",
       "      <td>0.000000</td>\n",
       "      <td>0.000000</td>\n",
       "      <td>0.000000</td>\n",
       "      <td>0.000000</td>\n",
       "      <td>0.000000</td>\n",
       "    </tr>\n",
       "    <tr>\n",
       "      <th>12</th>\n",
       "      <td>0.000000</td>\n",
       "      <td>0.044504</td>\n",
       "      <td>0.035636</td>\n",
       "      <td>0.000000</td>\n",
       "      <td>0.000000</td>\n",
       "      <td>0.000000</td>\n",
       "      <td>0.000000</td>\n",
       "      <td>0.000000</td>\n",
       "    </tr>\n",
       "    <tr>\n",
       "      <th>13</th>\n",
       "      <td>0.000000</td>\n",
       "      <td>0.001674</td>\n",
       "      <td>0.000000</td>\n",
       "      <td>0.000000</td>\n",
       "      <td>0.000000</td>\n",
       "      <td>0.000000</td>\n",
       "      <td>0.000000</td>\n",
       "      <td>0.000000</td>\n",
       "    </tr>\n",
       "    <tr>\n",
       "      <th>14</th>\n",
       "      <td>0.000000</td>\n",
       "      <td>0.123165</td>\n",
       "      <td>0.000000</td>\n",
       "      <td>0.002117</td>\n",
       "      <td>0.000000</td>\n",
       "      <td>0.000000</td>\n",
       "      <td>0.000000</td>\n",
       "      <td>0.000000</td>\n",
       "    </tr>\n",
       "  </tbody>\n",
       "</table>\n",
       "</div>"
      ],
      "text/plain": [
       "max_dir_count         2         3         4         5         6         7  \\\n",
       "ATR_SL                                                                      \n",
       "1              0.000000  0.000000  0.000000  0.000000  0.227751  0.119626   \n",
       "2              0.103240  0.289891  0.199325  0.000000  0.062927  0.000000   \n",
       "3              0.053383  0.004541  0.028304  0.000000  0.000000  0.000000   \n",
       "4              0.040814  0.000000  0.115727  0.000000  0.000000  0.000000   \n",
       "5              0.000000  0.020286  0.212833  0.000000  0.060922  0.000000   \n",
       "6              0.000000  0.216491  0.245715  0.000000  0.000000  0.000000   \n",
       "7              0.000000  0.176569  0.303280  0.000000  0.000000  0.000000   \n",
       "8              0.000000  0.166716  0.320308  0.000000  0.000000  0.000000   \n",
       "9              0.000000  0.109242  0.159170  0.000000  0.000000  0.000000   \n",
       "10             0.002848  0.005237  0.104781  0.000000  0.000000  0.000000   \n",
       "11             0.000000  0.000000  0.106562  0.000000  0.000000  0.000000   \n",
       "12             0.000000  0.044504  0.035636  0.000000  0.000000  0.000000   \n",
       "13             0.000000  0.001674  0.000000  0.000000  0.000000  0.000000   \n",
       "14             0.000000  0.123165  0.000000  0.002117  0.000000  0.000000   \n",
       "\n",
       "max_dir_count         8         9  \n",
       "ATR_SL                             \n",
       "1              0.029822  0.000000  \n",
       "2              0.000000  0.000000  \n",
       "3              0.000000  0.012435  \n",
       "4              0.000000  0.000000  \n",
       "5              0.000000  0.000000  \n",
       "6              0.000000  0.000000  \n",
       "7              0.000000  0.000000  \n",
       "8              0.000000  0.000000  \n",
       "9              0.000000  0.000000  \n",
       "10             0.000000  0.000000  \n",
       "11             0.000000  0.000000  \n",
       "12             0.000000  0.000000  \n",
       "13             0.000000  0.000000  \n",
       "14             0.000000  0.000000  "
      ]
     },
     "execution_count": 41,
     "metadata": {},
     "output_type": "execute_result"
    }
   ],
   "source": [
    "hm"
   ]
  },
  {
   "cell_type": "code",
   "execution_count": 36,
   "metadata": {},
   "outputs": [
    {
     "data": {
      "image/png": "[encoded data removed]",
      "text/plain": [
       "<Figure size 640x480 with 2 Axes>"
      ]
     },
     "metadata": {},
     "output_type": "display_data"
    }
   ],
   "source": [
    "sns.heatmap(hm)\n",
    "plt.show()"
   ]
  },
  {
   "cell_type": "code",
   "execution_count": 37,
   "metadata": {},
   "outputs": [
    {
     "data": {
      "text/html": [
       "<div style=\"display: table;\"><div style=\"display: table-row;\"><div style=\"display: table-cell;\"><b title=\"bokeh.models.layouts.Column\">Column</b>(</div><div style=\"display: table-cell;\">id&nbsp;=&nbsp;'1050', <span id=\"1196\" style=\"cursor: pointer;\">&hellip;)</span></div></div><div class=\"1195\" style=\"display: none;\"><div style=\"display: table-cell;\"></div><div style=\"display: table-cell;\">align&nbsp;=&nbsp;'start',</div></div><div class=\"1195\" style=\"display: none;\"><div style=\"display: table-cell;\"></div><div style=\"display: table-cell;\">aspect_ratio&nbsp;=&nbsp;None,</div></div><div class=\"1195\" style=\"display: none;\"><div style=\"display: table-cell;\"></div><div style=\"display: table-cell;\">background&nbsp;=&nbsp;None,</div></div><div class=\"1195\" style=\"display: none;\"><div style=\"display: table-cell;\"></div><div style=\"display: table-cell;\">children&nbsp;=&nbsp;[ToolbarBox(id='1049', ...), GridBox(id='1047', ...)],</div></div><div class=\"1195\" style=\"display: none;\"><div style=\"display: table-cell;\"></div><div style=\"display: table-cell;\">css_classes&nbsp;=&nbsp;[],</div></div><div class=\"1195\" style=\"display: none;\"><div style=\"display: table-cell;\"></div><div style=\"display: table-cell;\">disabled&nbsp;=&nbsp;False,</div></div><div class=\"1195\" style=\"display: none;\"><div style=\"display: table-cell;\"></div><div style=\"display: table-cell;\">height&nbsp;=&nbsp;None,</div></div><div class=\"1195\" style=\"display: none;\"><div style=\"display: table-cell;\"></div><div style=\"display: table-cell;\">height_policy&nbsp;=&nbsp;'auto',</div></div><div class=\"1195\" style=\"display: none;\"><div style=\"display: table-cell;\"></div><div style=\"display: table-cell;\">js_event_callbacks&nbsp;=&nbsp;{},</div></div><div class=\"1195\" style=\"display: none;\"><div style=\"display: table-cell;\"></div><div style=\"display: table-cell;\">js_property_callbacks&nbsp;=&nbsp;{},</div></div><div class=\"1195\" style=\"display: none;\"><div style=\"display: table-cell;\"></div><div style=\"display: table-cell;\">margin&nbsp;=&nbsp;(0, 0, 0, 0),</div></div><div class=\"1195\" style=\"display: none;\"><div style=\"display: table-cell;\"></div><div style=\"display: table-cell;\">max_height&nbsp;=&nbsp;None,</div></div><div class=\"1195\" style=\"display: none;\"><div style=\"display: table-cell;\"></div><div style=\"display: table-cell;\">max_width&nbsp;=&nbsp;None,</div></div><div class=\"1195\" style=\"display: none;\"><div style=\"display: table-cell;\"></div><div style=\"display: table-cell;\">min_height&nbsp;=&nbsp;None,</div></div><div class=\"1195\" style=\"display: none;\"><div style=\"display: table-cell;\"></div><div style=\"display: table-cell;\">min_width&nbsp;=&nbsp;None,</div></div><div class=\"1195\" style=\"display: none;\"><div style=\"display: table-cell;\"></div><div style=\"display: table-cell;\">name&nbsp;=&nbsp;None,</div></div><div class=\"1195\" style=\"display: none;\"><div style=\"display: table-cell;\"></div><div style=\"display: table-cell;\">rows&nbsp;=&nbsp;'auto',</div></div><div class=\"1195\" style=\"display: none;\"><div style=\"display: table-cell;\"></div><div style=\"display: table-cell;\">sizing_mode&nbsp;=&nbsp;None,</div></div><div class=\"1195\" style=\"display: none;\"><div style=\"display: table-cell;\"></div><div style=\"display: table-cell;\">spacing&nbsp;=&nbsp;0,</div></div><div class=\"1195\" style=\"display: none;\"><div style=\"display: table-cell;\"></div><div style=\"display: table-cell;\">subscribed_events&nbsp;=&nbsp;[],</div></div><div class=\"1195\" style=\"display: none;\"><div style=\"display: table-cell;\"></div><div style=\"display: table-cell;\">syncable&nbsp;=&nbsp;True,</div></div><div class=\"1195\" style=\"display: none;\"><div style=\"display: table-cell;\"></div><div style=\"display: table-cell;\">tags&nbsp;=&nbsp;[],</div></div><div class=\"1195\" style=\"display: none;\"><div style=\"display: table-cell;\"></div><div style=\"display: table-cell;\">visible&nbsp;=&nbsp;True,</div></div><div class=\"1195\" style=\"display: none;\"><div style=\"display: table-cell;\"></div><div style=\"display: table-cell;\">width&nbsp;=&nbsp;None,</div></div><div class=\"1195\" style=\"display: none;\"><div style=\"display: table-cell;\"></div><div style=\"display: table-cell;\">width_policy&nbsp;=&nbsp;'auto')</div></div></div>\n",
       "<script>\n",
       "(function() {\n",
       "  let expanded = false;\n",
       "  const ellipsis = document.getElementById(\"1196\");\n",
       "  ellipsis.addEventListener(\"click\", function() {\n",
       "    const rows = document.getElementsByClassName(\"1195\");\n",
       "    for (let i = 0; i < rows.length; i++) {\n",
       "      const el = rows[i];\n",
       "      el.style.display = expanded ? \"none\" : \"table-row\";\n",
       "    }\n",
       "    ellipsis.innerHTML = expanded ? \"&hellip;)\" : \"&lsaquo;&lsaquo;&lsaquo;\";\n",
       "    expanded = !expanded;\n",
       "  });\n",
       "})();\n",
       "</script>\n"
      ],
      "text/plain": [
       "Column(id='1050', ...)"
      ]
     },
     "execution_count": 37,
     "metadata": {},
     "output_type": "execute_result"
    }
   ],
   "source": [
    "plot_heatmaps(heatmap, agg='mean',filename='../Strategy+8+-+Momentum.ipynb/Momentum_plot_heatmaps_.html')"
   ]
  },
  {
   "cell_type": "markdown",
   "metadata": {},
   "source": [
    "H4"
   ]
  },
  {
   "cell_type": "code",
   "execution_count": 40,
   "metadata": {},
   "outputs": [
    {
     "data": {
      "text/plain": [
       "Start                     2007-01-01 00:00:00\n",
       "End                       2023-03-10 16:00:00\n",
       "Duration                   5912 days 16:00:00\n",
       "Exposure Time [%]                   90.822298\n",
       "Equity Final [$]                   22629.5531\n",
       "Equity Peak [$]                    22684.7231\n",
       "Return [%]                          13.147766\n",
       "Buy & Hold Return [%]              193.329158\n",
       "Return (Ann.) [%]                    0.619164\n",
       "Volatility (Ann.) [%]                0.883748\n",
       "Sharpe Ratio                         0.700611\n",
       "Sortino Ratio                        1.122711\n",
       "Calmar Ratio                         0.313243\n",
       "Max. Drawdown [%]                   -1.976626\n",
       "Avg. Drawdown [%]                   -0.112835\n",
       "Max. Drawdown Duration      812 days 04:00:00\n",
       "Avg. Drawdown Duration       18 days 20:00:00\n",
       "# Trades                                 2157\n",
       "Win Rate [%]                         11.49745\n",
       "Best Trade [%]                      14.142366\n",
       "Worst Trade [%]                     -5.204921\n",
       "Avg. Trade [%]                       0.081197\n",
       "Max. Trade Duration         102 days 12:00:00\n",
       "Avg. Trade Duration           2 days 07:00:00\n",
       "Profit Factor                        1.299515\n",
       "Expectancy [%]                       0.090424\n",
       "SQN                                  3.138475\n",
       "_strategy                            Momentum\n",
       "_equity_curve                             ...\n",
       "_trades                         Size  Entr...\n",
       "dtype: object"
      ]
     },
     "execution_count": 40,
     "metadata": {},
     "output_type": "execute_result"
    }
   ],
   "source": [
    "bt_H4 = Backtest(XAUUSD['H4'], Momentum, cash=account_size, margin=1/2000, )\n",
    "result = bt_H4.run()\n",
    "result"
   ]
  },
  {
   "cell_type": "code",
   "execution_count": null,
   "metadata": {},
   "outputs": [],
   "source": []
  },
  {
   "cell_type": "code",
   "execution_count": 48,
   "metadata": {},
   "outputs": [
    {
     "data": {
      "application/vnd.jupyter.widget-view+json": {
       "model_id": "d3fb6633f7864ee4babec6d3f3c1069c",
       "version_major": 2,
       "version_minor": 0
      },
      "text/plain": [
       "  0%|          | 0/5 [00:00<?, ?it/s]"
      ]
     },
     "metadata": {},
     "output_type": "display_data"
    }
   ],
   "source": [
    "optimize, heatmap = bt_H4.optimize(\n",
    "    ATR_SL=range(1, 15, 1),\n",
    "    max_dir_count=range(2, 10, 1),\n",
    "    maximize='Sharpe Ratio',\n",
    "    return_heatmap=True,\n",
    "    max_tries=5\n",
    "\n",
    ")"
   ]
  },
  {
   "cell_type": "code",
   "execution_count": 49,
   "metadata": {},
   "outputs": [
    {
     "data": {
      "text/plain": [
       "Start                     2007-01-01 00:00:00\n",
       "End                       2023-03-10 16:00:00\n",
       "Duration                   5912 days 16:00:00\n",
       "Exposure Time [%]                   15.163998\n",
       "Equity Final [$]                   20002.7082\n",
       "Equity Peak [$]                    20403.5312\n",
       "Return [%]                           0.013541\n",
       "Buy & Hold Return [%]              193.329158\n",
       "Return (Ann.) [%]                    0.000677\n",
       "Volatility (Ann.) [%]                0.342798\n",
       "Sharpe Ratio                         0.001974\n",
       "Sortino Ratio                        0.002846\n",
       "Calmar Ratio                         0.000344\n",
       "Max. Drawdown [%]                   -1.964479\n",
       "Avg. Drawdown [%]                   -0.137127\n",
       "Max. Drawdown Duration     3172 days 08:00:00\n",
       "Avg. Drawdown Duration      108 days 16:00:00\n",
       "# Trades                                  351\n",
       "Win Rate [%]                         5.698006\n",
       "Best Trade [%]                       8.923872\n",
       "Worst Trade [%]                     -2.410296\n",
       "Avg. Trade [%]                       0.008755\n",
       "Max. Trade Duration          55 days 16:00:00\n",
       "Avg. Trade Duration           2 days 08:00:00\n",
       "Profit Factor                        1.064303\n",
       "Expectancy [%]                       0.017513\n",
       "SQN                                  0.008242\n",
       "_strategy                 Momentum(ATR_SL=...\n",
       "_equity_curve                             ...\n",
       "_trades                        Size  Entry...\n",
       "dtype: object"
      ]
     },
     "execution_count": 49,
     "metadata": {},
     "output_type": "execute_result"
    }
   ],
   "source": [
    "optimize"
   ]
  },
  {
   "cell_type": "code",
   "execution_count": 46,
   "metadata": {},
   "outputs": [
    {
     "data": {
      "text/plain": [
       "<Strategy Momentum(ATR_SL=9,max_dir_count=2)>"
      ]
     },
     "execution_count": 46,
     "metadata": {},
     "output_type": "execute_result"
    }
   ],
   "source": [
    "optimize['_strategy']"
   ]
  },
  {
   "cell_type": "code",
   "execution_count": 47,
   "metadata": {},
   "outputs": [
    {
     "data": {
      "text/plain": [
       "ATR_SL  max_dir_count\n",
       "2       6                0.000000\n",
       "4       7                0.000000\n",
       "9       2                0.157647\n",
       "Name: Sharpe Ratio, dtype: float64"
      ]
     },
     "execution_count": 47,
     "metadata": {},
     "output_type": "execute_result"
    }
   ],
   "source": [
    "heatmap"
   ]
  }
 ],
 "metadata": {
  "kernelspec": {
   "display_name": "base",
   "language": "python",
   "name": "python3"
  },
  "language_info": {
   "codemirror_mode": {
    "name": "ipython",
    "version": 3
   },
   "file_extension": ".py",
   "mimetype": "text/x-python",
   "name": "python",
   "nbconvert_exporter": "python",
   "pygments_lexer": "ipython3",
   "version": "3.10.9"
  }
 },
 "nbformat": 4,
 "nbformat_minor": 2
}
