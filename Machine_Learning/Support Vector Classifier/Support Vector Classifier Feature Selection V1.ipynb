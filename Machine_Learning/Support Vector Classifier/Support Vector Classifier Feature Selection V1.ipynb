{
 "cells": [
  {
   "cell_type": "markdown",
   "metadata": {},
   "source": [
    "# Trading Strategies powered by Machine Learning - Support_Vector_Classifier"
   ]
  },
  {
   "cell_type": "markdown",
   "metadata": {},
   "source": [
    "## Support_Vector_Classifier with scikit-learn "
   ]
  },
  {
   "cell_type": "code",
   "execution_count": 1,
   "metadata": {},
   "outputs": [],
   "source": [
    "import sys\n",
    "sys.path.append('../../')"
   ]
  },
  {
   "cell_type": "code",
   "execution_count": 2,
   "metadata": {},
   "outputs": [],
   "source": [
    "from util.load_data import *\n",
    "from config.constants import *\n",
    "from util.plot_equity import plot_equity_trades\n",
    "from util.Save_result_return import save_to_csv"
   ]
  },
  {
   "cell_type": "code",
   "execution_count": 3,
   "metadata": {},
   "outputs": [],
   "source": [
    "from backtesting import Strategy\n",
    "from sklearn import svm\n",
    "from sklearn import preprocessing"
   ]
  },
  {
   "cell_type": "markdown",
   "metadata": {},
   "source": [
    "## Getting the Data"
   ]
  },
  {
   "cell_type": "code",
   "execution_count": 4,
   "metadata": {},
   "outputs": [],
   "source": [
    "XAUUSD = load_data()"
   ]
  },
  {
   "cell_type": "code",
   "execution_count": 5,
   "metadata": {},
   "outputs": [
    {
     "data": {
      "text/plain": [
       "Time\n",
       "2007-01-01 00:00:00     635.497\n",
       "2007-01-01 04:00:00     635.699\n",
       "2007-01-01 08:00:00     635.993\n",
       "2007-01-01 12:00:00     636.006\n",
       "2007-01-01 16:00:00     635.989\n",
       "                         ...   \n",
       "2023-03-10 00:00:00    1829.085\n",
       "2023-03-10 04:00:00    1833.405\n",
       "2023-03-10 08:00:00    1834.865\n",
       "2023-03-10 12:00:00    1862.975\n",
       "2023-03-10 16:00:00    1864.098\n",
       "Name: Close, Length: 25976, dtype: float64"
      ]
     },
     "execution_count": 5,
     "metadata": {},
     "output_type": "execute_result"
    }
   ],
   "source": [
    "XAUUSD['H4'].Close"
   ]
  },
  {
   "cell_type": "code",
   "execution_count": 6,
   "metadata": {},
   "outputs": [
    {
     "name": "stdout",
     "output_type": "stream",
     "text": [
      "<class 'pandas.core.frame.DataFrame'>\n",
      "DatetimeIndex: 25976 entries, 2007-01-01 00:00:00 to 2023-03-10 16:00:00\n",
      "Data columns (total 5 columns):\n",
      " #   Column  Non-Null Count  Dtype  \n",
      "---  ------  --------------  -----  \n",
      " 0   Open    25976 non-null  float64\n",
      " 1   High    25976 non-null  float64\n",
      " 2   Low     25976 non-null  float64\n",
      " 3   Close   25976 non-null  float64\n",
      " 4   Volume  25976 non-null  int64  \n",
      "dtypes: float64(4), int64(1)\n",
      "memory usage: 1.2 MB\n"
     ]
    }
   ],
   "source": [
    "XAUUSD['H4'].info()"
   ]
  },
  {
   "cell_type": "markdown",
   "metadata": {},
   "source": [
    "## ML"
   ]
  },
  {
   "cell_type": "markdown",
   "metadata": {},
   "source": [
    "### Class and Strategy ML"
   ]
  },
  {
   "cell_type": "code",
   "execution_count": 7,
   "metadata": {},
   "outputs": [],
   "source": [
    "class Support_Vector_Classifier(Strategy):\n",
    "\n",
    "    def init(self):\n",
    "        pass\n",
    "\n",
    "    def next(self):\n",
    "\n",
    "        if self.data.pred[-1] == 1:\n",
    "            if not self.position:\n",
    "                self.buy(size=1)\n",
    "            elif self.position.is_short:\n",
    "                self.position.close()\n",
    "                self.buy(size=1)\n",
    "\n",
    "        elif self.data.pred[-1] == -1:\n",
    "            if not self.position:\n",
    "                self.sell(size=1)\n",
    "            elif self.position.is_long:\n",
    "                self.position.close()\n",
    "                self.sell(size=1)"
   ]
  },
  {
   "cell_type": "code",
   "execution_count": 8,
   "metadata": {},
   "outputs": [],
   "source": [
    "strategy = Support_Vector_Classifier\n",
    "account_size = 10000\n",
    "folder_ML_Strategy = 'Support Vector Classifier'"
   ]
  },
  {
   "cell_type": "code",
   "execution_count": 9,
   "metadata": {},
   "outputs": [],
   "source": [
    "from backtesting import Backtest\n",
    "import matplotlib.pyplot as plt\n",
    "import numpy as np\n",
    "import pandas as pd\n",
    "from util.Save_result_return import save_to_csv\n",
    "import sys\n",
    "from util.ATR import *\n",
    "from util.SMA import *\n",
    "from util.RSI import *\n",
    "sys.path.append('../../')\n",
    "\n",
    "\n",
    "plt.style.use(\"seaborn-v0_8\")\n",
    "\n",
    "\n",
    "class ML_SVC():\n",
    "\n",
    "    def __init__(self, data, strategy, start_train, start_test, end_train, end_test, TF):\n",
    "        self.data = data\n",
    "        self.strategy = strategy\n",
    "        self.start_train = start_train\n",
    "        self.start_test = start_test\n",
    "        self.end_train = end_train\n",
    "        self.end_test = end_test\n",
    "        self.TF = TF\n",
    "        self.data_train = None\n",
    "        self.data_test = None\n",
    "        self.results = None\n",
    "        self.model = None\n",
    "\n",
    "    def get_rsi(self, df, rsi_period):\n",
    "        chg = df['Close'].diff(1)\n",
    "        gain = chg.mask(chg < 0, 0)\n",
    "        loss = chg.mask(chg > 0, 0)\n",
    "        avg_gain = gain.ewm(com=rsi_period-1, min_periods=rsi_period).mean()\n",
    "        avg_loss = loss.ewm(com=rsi_period-1, min_periods=rsi_period).mean()\n",
    "        rs = abs(avg_gain/avg_loss)\n",
    "        rsi = 100 - (100/(1+rs))\n",
    "        return rsi\n",
    "\n",
    "    def Create_Features(self):\n",
    "\n",
    "        df = self.data.copy()\n",
    "\n",
    "        # relative strength index\n",
    "        df['rsi14'] = self.get_rsi(df, 14)\n",
    "        df['ATR'] = ATR(df, 20)['ATR']\n",
    "\n",
    "        periods = 14\n",
    "        moving_av = 3\n",
    "\n",
    "        df[\"roll_low\"] = df['Low'].rolling(periods).min()\n",
    "        df[\"roll_high\"] = df['High'].rolling(periods).max()\n",
    "        df[\"K\"] = (df.Close - df.roll_low) / (df.roll_high - df.roll_low) * 100\n",
    "        df[\"D\"] = df.K.rolling(moving_av).mean()\n",
    "\n",
    "        df = df.drop('roll_low', axis=1)\n",
    "        df = df.drop('roll_high', axis=1)\n",
    "\n",
    "        self.data = df\n",
    "\n",
    "    def Add_Signal(self):\n",
    "\n",
    "        df = self.data.copy()\n",
    "        df[\"returns\"] = np.log(df['Close'].div(df['Close'].shift(1)))\n",
    "        df['signal_t1'] = np.sign(df.returns)\n",
    "        df['Signal'] = df.signal_t1.shift(-1)\n",
    "        df = df.drop(columns=['returns', 'signal_t1'])\n",
    "        df = df.dropna()\n",
    "\n",
    "        self.data = df\n",
    "\n",
    "    def Train_Model(self):\n",
    "        self.Create_Features()\n",
    "        self.Add_Signal()\n",
    "\n",
    "        # Extract data within the specified date range\n",
    "        self.data_train = self.data.loc[self.start_train:self.end_train].copy()\n",
    "        self.data_test = self.data.loc[self.start_test:self.end_test].copy()\n",
    "\n",
    "        # Drop missing values from the training dataset\n",
    "        self.data_train.dropna(inplace=True)\n",
    "\n",
    "        # Ensure 'Signal' column exists in data_train\n",
    "        if 'Signal' not in self.data_train.columns:\n",
    "            raise ValueError(\"'Signal' column is missing in data_train\")\n",
    "\n",
    "        # Define features and target columns\n",
    "        features = ['rsi14', 'ATR', 'K', 'D']\n",
    "        target = 'Signal'\n",
    "\n",
    "        # Prepare data for model training\n",
    "        X_train = self.data_train[features]\n",
    "        y_train = self.data_train[target]\n",
    "\n",
    "        # Normalize/Scale data using MaxAbsScaler\n",
    "        max_abs_scaler = preprocessing.MaxAbsScaler()\n",
    "        X_train_scaled = max_abs_scaler.fit_transform(X_train)\n",
    "\n",
    "        self.model = svm.SVC(kernel='rbf', decision_function_shape='ovo')\n",
    "\n",
    "        try:\n",
    "            # Fit the model\n",
    "            self.model.fit(X_train_scaled, y_train)\n",
    "\n",
    "            # Make predictions on training and test data\n",
    "            self.data_train['pred'] = self.model.predict(X_train_scaled)\n",
    "            self.data_test['pred'] = self.model.predict(\n",
    "                max_abs_scaler.transform(self.data_test[features]))\n",
    "        except Exception as e:\n",
    "            print(f\"Error occurred during model fitting: {e}\")\n",
    "\n",
    "    def Backtest(self, data, account_size=10000):\n",
    "        # Assuming you have a Backtest class that performs backtesting\n",
    "        backtest = Backtest(data, self.strategy,\n",
    "                            cash=account_size, margin=1 / 100, commission=0.0002)\n",
    "        result = backtest.run()\n",
    "        return result\n",
    "\n",
    "    def Run(self):\n",
    "\n",
    "        self.Train_Model()\n",
    "\n",
    "        result_train = self.Backtest(self.data_train)\n",
    "\n",
    "        result_test = self.Backtest(self.data_test)\n",
    "\n",
    "        return result_train, result_test"
   ]
  },
  {
   "cell_type": "code",
   "execution_count": 10,
   "metadata": {},
   "outputs": [],
   "source": [
    "ML_Class = ML_SVC"
   ]
  },
  {
   "cell_type": "markdown",
   "metadata": {},
   "source": [
    "## TF D1"
   ]
  },
  {
   "cell_type": "code",
   "execution_count": 11,
   "metadata": {},
   "outputs": [],
   "source": [
    "data = XAUUSD['D1']\n",
    "start_train = '2007'\n",
    "start_test = '2020'\n",
    "end_train = '2019'\n",
    "end_test = '2023'\n",
    "TF = 'D1'"
   ]
  },
  {
   "cell_type": "code",
   "execution_count": 12,
   "metadata": {},
   "outputs": [],
   "source": [
    "ml = ML_Class(data, strategy, start_train, start_test, end_train, end_test, TF)"
   ]
  },
  {
   "cell_type": "code",
   "execution_count": 13,
   "metadata": {},
   "outputs": [],
   "source": [
    "train, test = ml.Run()"
   ]
  },
  {
   "cell_type": "markdown",
   "metadata": {},
   "source": [
    "### In-Sample Backtesting"
   ]
  },
  {
   "cell_type": "code",
   "execution_count": 14,
   "metadata": {},
   "outputs": [
    {
     "data": {
      "text/plain": [
       "Start                     2007-01-24 00:00:00\n",
       "End                       2019-12-31 00:00:00\n",
       "Duration                   4724 days 00:00:00\n",
       "Exposure Time [%]                   99.950397\n",
       "Equity Final [$]                 11557.492385\n",
       "Equity Peak [$]                  11795.345458\n",
       "Return [%]                          15.574924\n",
       "Buy & Hold Return [%]              134.605201\n",
       "Return (Ann.) [%]                    0.908785\n",
       "Volatility (Ann.) [%]                1.743668\n",
       "Sharpe Ratio                         0.521192\n",
       "Sortino Ratio                        0.747183\n",
       "Calmar Ratio                         0.153163\n",
       "Max. Drawdown [%]                    -5.93346\n",
       "Avg. Drawdown [%]                   -0.338862\n",
       "Max. Drawdown Duration     2970 days 00:00:00\n",
       "Avg. Drawdown Duration       52 days 00:00:00\n",
       "# Trades                                   25\n",
       "Win Rate [%]                             80.0\n",
       "Best Trade [%]                     106.751296\n",
       "Worst Trade [%]                    -15.750953\n",
       "Avg. Trade [%]                       5.474076\n",
       "Max. Trade Duration        2360 days 00:00:00\n",
       "Avg. Trade Duration         189 days 00:00:00\n",
       "Profit Factor                        5.863019\n",
       "Expectancy [%]                       7.117235\n",
       "SQN                                  1.517342\n",
       "_strategy                 Support_Vector_C...\n",
       "_equity_curve                             ...\n",
       "_trades                       Size  EntryB...\n",
       "dtype: object"
      ]
     },
     "execution_count": 14,
     "metadata": {},
     "output_type": "execute_result"
    }
   ],
   "source": [
    "train"
   ]
  },
  {
   "cell_type": "code",
   "execution_count": 15,
   "metadata": {},
   "outputs": [
    {
     "data": {
      "image/png": "[encoded data removed]",
      "text/plain": [
       "<Figure size 800x550 with 1 Axes>"
      ]
     },
     "metadata": {},
     "output_type": "display_data"
    }
   ],
   "source": [
    "plot_equity_trades(train['_equity_curve'],\n",
    "                   f'XAUUSD_In_Sample_{TF}', account_size)"
   ]
  },
  {
   "cell_type": "markdown",
   "metadata": {},
   "source": [
    "### Out-Sample Backtesting"
   ]
  },
  {
   "cell_type": "code",
   "execution_count": 16,
   "metadata": {},
   "outputs": [
    {
     "data": {
      "text/plain": [
       "Start                     2020-01-01 00:00:00\n",
       "End                       2023-03-09 00:00:00\n",
       "Duration                   1163 days 00:00:00\n",
       "Exposure Time [%]                    99.79798\n",
       "Equity Final [$]                 10579.473295\n",
       "Equity Peak [$]                  10750.900295\n",
       "Return [%]                           5.794733\n",
       "Buy & Hold Return [%]               20.623928\n",
       "Return (Ann.) [%]                    1.444198\n",
       "Volatility (Ann.) [%]                2.574768\n",
       "Sharpe Ratio                         0.560904\n",
       "Sortino Ratio                        0.812941\n",
       "Calmar Ratio                         0.431537\n",
       "Max. Drawdown [%]                   -3.346641\n",
       "Avg. Drawdown [%]                   -0.721844\n",
       "Max. Drawdown Duration      567 days 00:00:00\n",
       "Avg. Drawdown Duration       64 days 00:00:00\n",
       "# Trades                                    9\n",
       "Win Rate [%]                        66.666667\n",
       "Best Trade [%]                      21.038631\n",
       "Worst Trade [%]                     -8.560809\n",
       "Avg. Trade [%]                       3.463776\n",
       "Max. Trade Duration         574 days 00:00:00\n",
       "Avg. Trade Duration         129 days 00:00:00\n",
       "Profit Factor                         3.60712\n",
       "Expectancy [%]                       3.764249\n",
       "SQN                                  1.303927\n",
       "_strategy                 Support_Vector_C...\n",
       "_equity_curve                             ...\n",
       "_trades                      Size  EntryBa...\n",
       "dtype: object"
      ]
     },
     "execution_count": 16,
     "metadata": {},
     "output_type": "execute_result"
    }
   ],
   "source": [
    "test"
   ]
  },
  {
   "cell_type": "code",
   "execution_count": 17,
   "metadata": {},
   "outputs": [
    {
     "data": {
      "image/png": "[encoded data removed]",
      "text/plain": [
       "<Figure size 800x550 with 1 Axes>"
      ]
     },
     "metadata": {},
     "output_type": "display_data"
    }
   ],
   "source": [
    "plot_equity_trades(test['_equity_curve'],\n",
    "                   f'XAUUSD_Out_Sample_{TF}', account_size)"
   ]
  },
  {
   "cell_type": "markdown",
   "metadata": {},
   "source": [
    "### Save result "
   ]
  },
  {
   "cell_type": "code",
   "execution_count": 18,
   "metadata": {},
   "outputs": [],
   "source": [
    "filename_train = f'result_{TF}_In_Sample.csv'"
   ]
  },
  {
   "cell_type": "code",
   "execution_count": 19,
   "metadata": {},
   "outputs": [],
   "source": [
    "save_to_csv(\n",
    "    train, f'../../out/Machine_Learning/{folder_ML_Strategy}/Backtest/{filename_train}')"
   ]
  },
  {
   "cell_type": "code",
   "execution_count": 20,
   "metadata": {},
   "outputs": [],
   "source": [
    "filename_test = f'result_{TF}_Out_Sample.csv'"
   ]
  },
  {
   "cell_type": "code",
   "execution_count": 21,
   "metadata": {},
   "outputs": [],
   "source": [
    "save_to_csv(\n",
    "    test, f'../../out/Machine_Learning/{folder_ML_Strategy}/Backtest/{filename_test}')"
   ]
  },
  {
   "cell_type": "markdown",
   "metadata": {},
   "source": [
    "## TF H4"
   ]
  },
  {
   "cell_type": "code",
   "execution_count": 22,
   "metadata": {},
   "outputs": [],
   "source": [
    "data = XAUUSD['H4']\n",
    "start_train = '2007'\n",
    "start_test = '2020'\n",
    "end_train = '2019'\n",
    "end_test = '2023'\n",
    "TF = 'H4'"
   ]
  },
  {
   "cell_type": "code",
   "execution_count": 23,
   "metadata": {},
   "outputs": [],
   "source": [
    "ml = ML_Class(data, strategy, start_train, start_test, end_train, end_test, TF)"
   ]
  },
  {
   "cell_type": "code",
   "execution_count": 24,
   "metadata": {},
   "outputs": [],
   "source": [
    "train, test = ml.Run()"
   ]
  },
  {
   "cell_type": "markdown",
   "metadata": {},
   "source": [
    "### In-Sample Backtesting"
   ]
  },
  {
   "cell_type": "code",
   "execution_count": null,
   "metadata": {},
   "outputs": [],
   "source": [
    "train"
   ]
  },
  {
   "cell_type": "code",
   "execution_count": null,
   "metadata": {},
   "outputs": [],
   "source": [
    "plot_equity_trades(train['_equity_curve'],\n",
    "                   f'XAUUSD_In_Sample_{TF}', account_size)"
   ]
  },
  {
   "cell_type": "markdown",
   "metadata": {},
   "source": [
    "### Out-Sample Backtesting"
   ]
  },
  {
   "cell_type": "code",
   "execution_count": null,
   "metadata": {},
   "outputs": [],
   "source": [
    "test"
   ]
  },
  {
   "cell_type": "code",
   "execution_count": null,
   "metadata": {},
   "outputs": [],
   "source": [
    "plot_equity_trades(test['_equity_curve'],\n",
    "                   f'XAUUSD_Out_Sample_{TF}', account_size)"
   ]
  },
  {
   "cell_type": "markdown",
   "metadata": {},
   "source": [
    "### Save result "
   ]
  },
  {
   "cell_type": "code",
   "execution_count": null,
   "metadata": {},
   "outputs": [],
   "source": [
    "filename_train = f'result_{TF}_In_Sample.csv'"
   ]
  },
  {
   "cell_type": "code",
   "execution_count": null,
   "metadata": {},
   "outputs": [],
   "source": [
    "save_to_csv(\n",
    "    train, f'../../out/Machine_Learning/{folder_ML_Strategy}/Backtest/{filename_train}')"
   ]
  },
  {
   "cell_type": "code",
   "execution_count": null,
   "metadata": {},
   "outputs": [],
   "source": [
    "filename_test = f'result_{TF}_Out_Sample.csv'"
   ]
  },
  {
   "cell_type": "code",
   "execution_count": null,
   "metadata": {},
   "outputs": [],
   "source": [
    "save_to_csv(\n",
    "    test, f'../../out/Machine_Learning/{folder_ML_Strategy}/Backtest/{filename_test}')"
   ]
  },
  {
   "cell_type": "markdown",
   "metadata": {},
   "source": [
    "## TF H1"
   ]
  },
  {
   "cell_type": "code",
   "execution_count": null,
   "metadata": {},
   "outputs": [],
   "source": [
    "data = XAUUSD['H1']\n",
    "start_train = '2007'\n",
    "start_test = '2020'\n",
    "end_train = '2019'\n",
    "end_test = '2023'\n",
    "TF = 'H1'"
   ]
  },
  {
   "cell_type": "code",
   "execution_count": null,
   "metadata": {},
   "outputs": [],
   "source": [
    "ml = ML_Class(data, strategy, start_train, start_test, end_train, end_test, TF)"
   ]
  },
  {
   "cell_type": "code",
   "execution_count": null,
   "metadata": {},
   "outputs": [],
   "source": [
    "train, test = ml.Run()"
   ]
  },
  {
   "cell_type": "markdown",
   "metadata": {},
   "source": [
    "### In-Sample Backtesting"
   ]
  },
  {
   "cell_type": "code",
   "execution_count": null,
   "metadata": {},
   "outputs": [],
   "source": [
    "train"
   ]
  },
  {
   "cell_type": "code",
   "execution_count": null,
   "metadata": {},
   "outputs": [],
   "source": [
    "plot_equity_trades(train['_equity_curve'],\n",
    "                   f'XAUUSD_In_Sample_{TF}', account_size)"
   ]
  },
  {
   "cell_type": "markdown",
   "metadata": {},
   "source": [
    "### Out-Sample Backtesting"
   ]
  },
  {
   "cell_type": "code",
   "execution_count": null,
   "metadata": {},
   "outputs": [],
   "source": [
    "test"
   ]
  },
  {
   "cell_type": "code",
   "execution_count": null,
   "metadata": {},
   "outputs": [],
   "source": [
    "plot_equity_trades(test['_equity_curve'],\n",
    "                   f'XAUUSD_Out_Sample_{TF}', account_size)"
   ]
  },
  {
   "cell_type": "markdown",
   "metadata": {},
   "source": [
    "### Save result "
   ]
  },
  {
   "cell_type": "code",
   "execution_count": null,
   "metadata": {},
   "outputs": [],
   "source": [
    "filename_train = f'result_{TF}_In_Sample.csv'"
   ]
  },
  {
   "cell_type": "code",
   "execution_count": null,
   "metadata": {},
   "outputs": [],
   "source": [
    "save_to_csv(\n",
    "    train, f'../../out/Machine_Learning/{folder_ML_Strategy}/Backtest/{filename_train}')"
   ]
  },
  {
   "cell_type": "code",
   "execution_count": null,
   "metadata": {},
   "outputs": [],
   "source": [
    "filename_test = f'result_{TF}_Out_Sample.csv'"
   ]
  },
  {
   "cell_type": "code",
   "execution_count": null,
   "metadata": {},
   "outputs": [],
   "source": [
    "save_to_csv(\n",
    "    test, f'../../out/Machine_Learning/{folder_ML_Strategy}/Backtest/{filename_test}')"
   ]
  },
  {
   "cell_type": "markdown",
   "metadata": {},
   "source": [
    "## TF M30"
   ]
  },
  {
   "cell_type": "code",
   "execution_count": null,
   "metadata": {},
   "outputs": [],
   "source": [
    "data = XAUUSD['M30']\n",
    "start_train = '2007'\n",
    "start_test = '2020'\n",
    "end_train = '2019'\n",
    "end_test = '2023'\n",
    "TF = 'M30'"
   ]
  },
  {
   "cell_type": "code",
   "execution_count": null,
   "metadata": {},
   "outputs": [],
   "source": [
    "ml = ML_Class(data, strategy, start_train, start_test, end_train, end_test, TF)"
   ]
  },
  {
   "cell_type": "code",
   "execution_count": null,
   "metadata": {},
   "outputs": [],
   "source": [
    "train, test = ml.Run()"
   ]
  },
  {
   "cell_type": "markdown",
   "metadata": {},
   "source": [
    "### In-Sample Backtesting"
   ]
  },
  {
   "cell_type": "code",
   "execution_count": null,
   "metadata": {},
   "outputs": [],
   "source": [
    "train"
   ]
  },
  {
   "cell_type": "code",
   "execution_count": null,
   "metadata": {},
   "outputs": [],
   "source": [
    "plot_equity_trades(train['_equity_curve'],\n",
    "                   f'XAUUSD_Out_Sample_{TF}', account_size)"
   ]
  },
  {
   "cell_type": "markdown",
   "metadata": {},
   "source": [
    "### Out-Sample Backtesting"
   ]
  },
  {
   "cell_type": "code",
   "execution_count": null,
   "metadata": {},
   "outputs": [],
   "source": [
    "test"
   ]
  },
  {
   "cell_type": "code",
   "execution_count": null,
   "metadata": {},
   "outputs": [],
   "source": [
    "plot_equity_trades(test['_equity_curve'],\n",
    "                   f'XAUUSD_Out_Sample_{TF}', account_size)"
   ]
  },
  {
   "cell_type": "markdown",
   "metadata": {},
   "source": [
    "### Save result "
   ]
  },
  {
   "cell_type": "code",
   "execution_count": null,
   "metadata": {},
   "outputs": [],
   "source": [
    "filename_train = f'result_{TF}_In_Sample.csv'"
   ]
  },
  {
   "cell_type": "code",
   "execution_count": null,
   "metadata": {},
   "outputs": [],
   "source": [
    "save_to_csv(\n",
    "    train, f'../../out/Machine_Learning/{folder_ML_Strategy}/Backtest/{filename_train}')"
   ]
  },
  {
   "cell_type": "code",
   "execution_count": null,
   "metadata": {},
   "outputs": [],
   "source": [
    "filename_test = f'result_{TF}_Out_Sample.csv'"
   ]
  },
  {
   "cell_type": "code",
   "execution_count": null,
   "metadata": {},
   "outputs": [],
   "source": [
    "save_to_csv(\n",
    "    test, f'../../out/Machine_Learning/{folder_ML_Strategy}/Backtest/{filename_test}')"
   ]
  },
  {
   "cell_type": "markdown",
   "metadata": {},
   "source": [
    "## TF M15"
   ]
  },
  {
   "cell_type": "code",
   "execution_count": null,
   "metadata": {},
   "outputs": [],
   "source": [
    "data = XAUUSD['M15']\n",
    "start_train = '2014'\n",
    "start_test = '2020'\n",
    "end_train = '2019'\n",
    "end_test = '2023'\n",
    "TF = 'M15'"
   ]
  },
  {
   "cell_type": "code",
   "execution_count": null,
   "metadata": {},
   "outputs": [],
   "source": [
    "ml = ML_Class(data, strategy, start_train, start_test, end_train, end_test, TF)"
   ]
  },
  {
   "cell_type": "code",
   "execution_count": null,
   "metadata": {},
   "outputs": [],
   "source": [
    "train, test = ml.Run()"
   ]
  },
  {
   "cell_type": "markdown",
   "metadata": {},
   "source": [
    "### In-Sample Backtesting"
   ]
  },
  {
   "cell_type": "code",
   "execution_count": null,
   "metadata": {},
   "outputs": [],
   "source": [
    "train"
   ]
  },
  {
   "cell_type": "code",
   "execution_count": null,
   "metadata": {},
   "outputs": [],
   "source": [
    "plot_equity_trades(train['_equity_curve'],\n",
    "                   f'XAUUSD_In_Sample_{TF}', account_size)"
   ]
  },
  {
   "cell_type": "markdown",
   "metadata": {},
   "source": [
    "### Out-Sample Backtesting"
   ]
  },
  {
   "cell_type": "code",
   "execution_count": null,
   "metadata": {},
   "outputs": [],
   "source": [
    "test"
   ]
  },
  {
   "cell_type": "code",
   "execution_count": null,
   "metadata": {},
   "outputs": [],
   "source": [
    "plot_equity_trades(test['_equity_curve'],\n",
    "                   f'XAUUSD_Out_Sample_{TF}', account_size)"
   ]
  },
  {
   "cell_type": "markdown",
   "metadata": {},
   "source": [
    "### Save result "
   ]
  },
  {
   "cell_type": "code",
   "execution_count": null,
   "metadata": {},
   "outputs": [],
   "source": [
    "filename_train = f'result_{TF}_In_Sample.csv'"
   ]
  },
  {
   "cell_type": "code",
   "execution_count": null,
   "metadata": {},
   "outputs": [],
   "source": [
    "save_to_csv(\n",
    "    train, f'../../out/Machine_Learning/{folder_ML_Strategy}/Backtest/{filename_train}')"
   ]
  },
  {
   "cell_type": "code",
   "execution_count": null,
   "metadata": {},
   "outputs": [],
   "source": [
    "filename_test = f'result_{TF}_Out_Sample.csv'"
   ]
  },
  {
   "cell_type": "code",
   "execution_count": null,
   "metadata": {},
   "outputs": [],
   "source": [
    "save_to_csv(\n",
    "    test, f'../../out/Machine_Learning/{folder_ML_Strategy}/Backtest/{filename_test}')"
   ]
  },
  {
   "cell_type": "markdown",
   "metadata": {},
   "source": [
    "## TF M5"
   ]
  },
  {
   "cell_type": "code",
   "execution_count": null,
   "metadata": {},
   "outputs": [],
   "source": [
    "data = XAUUSD['M5']\n",
    "start_train = '2020'\n",
    "start_test = '2023'\n",
    "end_train = '2022'\n",
    "end_test = '2023'\n",
    "TF = 'M5'"
   ]
  },
  {
   "cell_type": "code",
   "execution_count": null,
   "metadata": {},
   "outputs": [],
   "source": [
    "ml = ML_Class(data, strategy, start_train, start_test, end_train, end_test, TF)"
   ]
  },
  {
   "cell_type": "code",
   "execution_count": null,
   "metadata": {},
   "outputs": [],
   "source": [
    "train, test = ml.Run()"
   ]
  },
  {
   "cell_type": "markdown",
   "metadata": {},
   "source": [
    "### In-Sample Backtesting"
   ]
  },
  {
   "cell_type": "code",
   "execution_count": null,
   "metadata": {},
   "outputs": [],
   "source": [
    "train"
   ]
  },
  {
   "cell_type": "code",
   "execution_count": null,
   "metadata": {},
   "outputs": [],
   "source": [
    "plot_equity_trades(train['_equity_curve'],\n",
    "                   f'XAUUSD_In_Sample_{TF}', account_size)"
   ]
  },
  {
   "cell_type": "markdown",
   "metadata": {},
   "source": [
    "### Out-Sample Backtesting"
   ]
  },
  {
   "cell_type": "code",
   "execution_count": null,
   "metadata": {},
   "outputs": [],
   "source": [
    "test"
   ]
  },
  {
   "cell_type": "code",
   "execution_count": null,
   "metadata": {},
   "outputs": [],
   "source": [
    "plot_equity_trades(test['_equity_curve'],\n",
    "                   f'XAUUSD_Out_Sample_{TF}', account_size)"
   ]
  },
  {
   "cell_type": "markdown",
   "metadata": {},
   "source": [
    "### Save result "
   ]
  },
  {
   "cell_type": "code",
   "execution_count": null,
   "metadata": {},
   "outputs": [],
   "source": [
    "filename_train = f'result_{TF}_In_Sample.csv'"
   ]
  },
  {
   "cell_type": "code",
   "execution_count": null,
   "metadata": {},
   "outputs": [],
   "source": [
    "save_to_csv(\n",
    "    train, f'../../out/Machine_Learning/{folder_ML_Strategy}/Backtest/{filename_train}')"
   ]
  },
  {
   "cell_type": "code",
   "execution_count": null,
   "metadata": {},
   "outputs": [],
   "source": [
    "filename_test = f'result_{TF}_Out_Sample.csv'"
   ]
  },
  {
   "cell_type": "code",
   "execution_count": null,
   "metadata": {},
   "outputs": [],
   "source": [
    "save_to_csv(\n",
    "    test, f'../../out/Machine_Learning/{folder_ML_Strategy}/Backtest/{filename_test}')"
   ]
  },
  {
   "cell_type": "markdown",
   "metadata": {},
   "source": [
    "## TF M1"
   ]
  },
  {
   "cell_type": "code",
   "execution_count": null,
   "metadata": {},
   "outputs": [],
   "source": [
    "data = XAUUSD['M1']\n",
    "start_train = '2022'\n",
    "start_test = '2023'\n",
    "end_train = '2022'\n",
    "end_test = '2023'\n",
    "TF = 'M1'"
   ]
  },
  {
   "cell_type": "code",
   "execution_count": null,
   "metadata": {},
   "outputs": [],
   "source": [
    "ml = ML_Class(data, strategy, start_train, start_test, end_train, end_test, TF)"
   ]
  },
  {
   "cell_type": "code",
   "execution_count": null,
   "metadata": {},
   "outputs": [],
   "source": [
    "train, test = ml.Run()"
   ]
  },
  {
   "cell_type": "markdown",
   "metadata": {},
   "source": [
    "### In-Sample Backtesting"
   ]
  },
  {
   "cell_type": "code",
   "execution_count": null,
   "metadata": {},
   "outputs": [],
   "source": [
    "train"
   ]
  },
  {
   "cell_type": "code",
   "execution_count": null,
   "metadata": {},
   "outputs": [],
   "source": [
    "plot_equity_trades(train['_equity_curve'],\n",
    "                   f'XAUUSD_In_Sample_{TF}', account_size)"
   ]
  },
  {
   "cell_type": "markdown",
   "metadata": {},
   "source": [
    "### Out-Sample Backtesting"
   ]
  },
  {
   "cell_type": "code",
   "execution_count": null,
   "metadata": {},
   "outputs": [],
   "source": [
    "test"
   ]
  },
  {
   "cell_type": "code",
   "execution_count": null,
   "metadata": {},
   "outputs": [],
   "source": [
    "plot_equity_trades(test['_equity_curve'],\n",
    "                   f'XAUUSD_Out_Sample_{TF}', account_size)"
   ]
  },
  {
   "cell_type": "markdown",
   "metadata": {},
   "source": [
    "### Save result "
   ]
  },
  {
   "cell_type": "code",
   "execution_count": null,
   "metadata": {},
   "outputs": [],
   "source": [
    "filename_train = f'result_{TF}_In_Sample.csv'"
   ]
  },
  {
   "cell_type": "code",
   "execution_count": null,
   "metadata": {},
   "outputs": [],
   "source": [
    "save_to_csv(\n",
    "    train, f'../../out/Machine_Learning/{folder_ML_Strategy}/Backtest/{filename_train}')"
   ]
  },
  {
   "cell_type": "code",
   "execution_count": null,
   "metadata": {},
   "outputs": [],
   "source": [
    "filename_test = f'result_{TF}_Out_Sample.csv'"
   ]
  },
  {
   "cell_type": "code",
   "execution_count": null,
   "metadata": {},
   "outputs": [],
   "source": [
    "save_to_csv(\n",
    "    test, f'../../out/Machine_Learning/{folder_ML_Strategy}/Backtest/{filename_test}')"
   ]
  }
 ],
 "metadata": {
  "kernelspec": {
   "display_name": "base",
   "language": "python",
   "name": "python3"
  },
  "language_info": {
   "codemirror_mode": {
    "name": "ipython",
    "version": 3
   },
   "file_extension": ".py",
   "mimetype": "text/x-python",
   "name": "python",
   "nbconvert_exporter": "python",
   "pygments_lexer": "ipython3",
   "version": "3.10.9"
  }
 },
 "nbformat": 4,
 "nbformat_minor": 2
}
