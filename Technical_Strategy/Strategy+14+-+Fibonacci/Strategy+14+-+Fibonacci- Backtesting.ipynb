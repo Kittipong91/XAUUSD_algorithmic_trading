{
 "cells": [
  {
   "cell_type": "markdown",
   "metadata": {},
   "source": [
    "# Fibonacci Strategies"
   ]
  },
  {
   "cell_type": "markdown",
   "metadata": {},
   "source": [
    "## Import Library"
   ]
  },
  {
   "cell_type": "code",
   "execution_count": 1,
   "metadata": {},
   "outputs": [],
   "source": [
    "import sys\n",
    "sys.path.append('../../')"
   ]
  },
  {
   "cell_type": "code",
   "execution_count": 2,
   "metadata": {},
   "outputs": [],
   "source": [
    "from config.constants import *\n",
    "from backtesting import Backtest\n",
    "from util.plot_equity import plot_equity_trades\n",
    "from util.load_data import load_data\n",
    "from Fibonacci import Fibonacci , PrepareData\n",
    "from util.Save_result_return import save_to_csv\n"
   ]
  },
  {
   "cell_type": "markdown",
   "metadata": {},
   "source": [
    "## Get Data"
   ]
  },
  {
   "cell_type": "code",
   "execution_count": 3,
   "metadata": {},
   "outputs": [],
   "source": [
    "XAUUSD = load_data()"
   ]
  },
  {
   "cell_type": "code",
   "execution_count": null,
   "metadata": {},
   "outputs": [],
   "source": [
    "XAUUSD['D1'].info()"
   ]
  },
  {
   "cell_type": "markdown",
   "metadata": {},
   "source": [
    "## Define Strategy"
   ]
  },
  {
   "cell_type": "code",
   "execution_count": 4,
   "metadata": {},
   "outputs": [],
   "source": [
    "strategy = Fibonacci"
   ]
  },
  {
   "cell_type": "code",
   "execution_count": 5,
   "metadata": {},
   "outputs": [],
   "source": [
    "account_size = 10000"
   ]
  },
  {
   "cell_type": "markdown",
   "metadata": {},
   "source": [
    "## Prepare Data"
   ]
  },
  {
   "cell_type": "code",
   "execution_count": 6,
   "metadata": {},
   "outputs": [],
   "source": [
    "data_D1 = PrepareData(XAUUSD['D1'])\n",
    "data_H4 = PrepareData(XAUUSD['H4'])"
   ]
  },
  {
   "cell_type": "code",
   "execution_count": null,
   "metadata": {},
   "outputs": [],
   "source": [
    "data_M30 = PrepareData(XAUUSD['M30'])\n",
    "data_H1 = PrepareData(XAUUSD['H1'])"
   ]
  },
  {
   "cell_type": "markdown",
   "metadata": {},
   "source": [
    "# Backtest each time frame"
   ]
  },
  {
   "cell_type": "markdown",
   "metadata": {},
   "source": [
    "## TF D1"
   ]
  },
  {
   "cell_type": "code",
   "execution_count": 7,
   "metadata": {},
   "outputs": [
    {
     "data": {
      "text/plain": [
       "Start                     2007-01-01 00:00:00\n",
       "End                       2023-03-10 00:00:00\n",
       "Duration                   5912 days 00:00:00\n",
       "Exposure Time [%]                   16.299822\n",
       "Equity Final [$]                          0.0\n",
       "Equity Peak [$]                  13126.944848\n",
       "Return [%]                             -100.0\n",
       "Buy & Hold Return [%]               193.12344\n",
       "Return (Ann.) [%]                         0.0\n",
       "Volatility (Ann.) [%]           187290.058323\n",
       "Sharpe Ratio                              0.0\n",
       "Sortino Ratio                             0.0\n",
       "Calmar Ratio                              0.0\n",
       "Max. Drawdown [%]                      -100.0\n",
       "Avg. Drawdown [%]                  -26.093805\n",
       "Max. Drawdown Duration     5231 days 00:00:00\n",
       "Avg. Drawdown Duration      590 days 00:00:00\n",
       "# Trades                                   31\n",
       "Win Rate [%]                              0.0\n",
       "Best Trade [%]                       -3.16071\n",
       "Worst Trade [%]                     -58.02992\n",
       "Avg. Trade [%]                     -26.021124\n",
       "Max. Trade Duration         958 days 00:00:00\n",
       "Avg. Trade Duration         485 days 00:00:00\n",
       "Profit Factor                             0.0\n",
       "Expectancy [%]                     -23.633929\n",
       "SQN                                 -8.697592\n",
       "_strategy                           Fibonacci\n",
       "_equity_curve                          Equ...\n",
       "_trades                       Size  EntryB...\n",
       "dtype: object"
      ]
     },
     "execution_count": 7,
     "metadata": {},
     "output_type": "execute_result"
    }
   ],
   "source": [
    "Backtest_D1 = Backtest(data_D1, strategy, cash=account_size, margin=1/100,  commission=0.0002 )\n",
    "result_D1 = Backtest_D1.run()\n",
    "result_D1"
   ]
  },
  {
   "cell_type": "code",
   "execution_count": 8,
   "metadata": {},
   "outputs": [
    {
     "data": {
      "image/png": "[encoded data removed]",
      "text/plain": [
       "<Figure size 640x480 with 1 Axes>"
      ]
     },
     "metadata": {},
     "output_type": "display_data"
    }
   ],
   "source": [
    "plot_equity_trades(result_D1['_equity_curve'],'XAUUSD_D1' , account_size)"
   ]
  },
  {
   "cell_type": "markdown",
   "metadata": {},
   "source": [
    "### Save output"
   ]
  },
  {
   "cell_type": "markdown",
   "metadata": {},
   "source": []
  },
  {
   "cell_type": "code",
   "execution_count": null,
   "metadata": {},
   "outputs": [],
   "source": [
    "save_to_csv(result_D1, '../../out/Technical_Strategy/Fibonacci/Backtest/result_D1.csv')  "
   ]
  },
  {
   "cell_type": "markdown",
   "metadata": {},
   "source": [
    "## TF H4"
   ]
  },
  {
   "cell_type": "code",
   "execution_count": 9,
   "metadata": {},
   "outputs": [
    {
     "data": {
      "text/plain": [
       "Start                     2007-01-01 00:00:00\n",
       "End                       2023-03-10 16:00:00\n",
       "Duration                   5912 days 16:00:00\n",
       "Exposure Time [%]                    5.097013\n",
       "Equity Final [$]                          0.0\n",
       "Equity Peak [$]                  10881.982841\n",
       "Return [%]                             -100.0\n",
       "Buy & Hold Return [%]              193.329158\n",
       "Return (Ann.) [%]                         0.0\n",
       "Volatility (Ann.) [%]             1070.734251\n",
       "Sharpe Ratio                              0.0\n",
       "Sortino Ratio                             0.0\n",
       "Calmar Ratio                              0.0\n",
       "Max. Drawdown [%]                      -100.0\n",
       "Avg. Drawdown [%]                  -10.889324\n",
       "Max. Drawdown Duration     5735 days 12:00:00\n",
       "Avg. Drawdown Duration      454 days 16:00:00\n",
       "# Trades                                   48\n",
       "Win Rate [%]                              0.0\n",
       "Best Trade [%]                      -2.012713\n",
       "Worst Trade [%]                    -27.766322\n",
       "Avg. Trade [%]                     -16.468476\n",
       "Max. Trade Duration         297 days 12:00:00\n",
       "Avg. Trade Duration         155 days 18:00:00\n",
       "Profit Factor                             0.0\n",
       "Expectancy [%]                     -16.279171\n",
       "SQN                                 -21.36055\n",
       "_strategy                           Fibonacci\n",
       "_equity_curve                             ...\n",
       "_trades                       Size  EntryB...\n",
       "dtype: object"
      ]
     },
     "execution_count": 9,
     "metadata": {},
     "output_type": "execute_result"
    }
   ],
   "source": [
    "Backtest_H4 = Backtest(data_H4, strategy,\n",
    "                       cash=account_size, margin=1/100,  commission=0.0002 )\n",
    "result_H4 = Backtest_H4.run()\n",
    "result_H4"
   ]
  },
  {
   "cell_type": "code",
   "execution_count": 10,
   "metadata": {},
   "outputs": [
    {
     "data": {
      "image/png": "[encoded data removed]",
      "text/plain": [
       "<Figure size 640x480 with 1 Axes>"
      ]
     },
     "metadata": {},
     "output_type": "display_data"
    }
   ],
   "source": [
    "plot_equity_trades(result_H4['_equity_curve'], 'XAUUSD_H4' , account_size)"
   ]
  },
  {
   "cell_type": "markdown",
   "metadata": {},
   "source": [
    "### Save output"
   ]
  },
  {
   "cell_type": "code",
   "execution_count": null,
   "metadata": {},
   "outputs": [],
   "source": [
    "save_to_csv(result_H4, '../../out/Technical_Strategy/Fibonacci/Backtest/result_H4.csv')  "
   ]
  },
  {
   "cell_type": "markdown",
   "metadata": {},
   "source": [
    "## TF H1"
   ]
  },
  {
   "cell_type": "code",
   "execution_count": null,
   "metadata": {},
   "outputs": [],
   "source": [
    "Backtest_H1 = Backtest(data_H1, strategy,\n",
    "                       cash= account_size, margin=1/100,  commission=0.0002 )\n",
    "result_H1 = Backtest_H1.run()\n",
    "result_H1"
   ]
  },
  {
   "cell_type": "code",
   "execution_count": null,
   "metadata": {},
   "outputs": [],
   "source": [
    "plot_equity_trades(result_H1['_equity_curve'], 'XAUUSD_H1', account_size)"
   ]
  },
  {
   "cell_type": "markdown",
   "metadata": {},
   "source": [
    "### Save output"
   ]
  },
  {
   "cell_type": "code",
   "execution_count": null,
   "metadata": {},
   "outputs": [],
   "source": [
    "save_to_csv(result_H1, '../../out/Technical_Strategy/Fibonacci/Backtest/result_H1.csv')  "
   ]
  },
  {
   "cell_type": "markdown",
   "metadata": {},
   "source": [
    "## TF M30 "
   ]
  },
  {
   "cell_type": "code",
   "execution_count": null,
   "metadata": {},
   "outputs": [],
   "source": [
    "Backtest_M30 = Backtest(data_M30, strategy,\n",
    "                       cash=account_size, margin=1/100,  commission=0.0002 )\n",
    "result_M30 = Backtest_M30.run()\n",
    "result_M30"
   ]
  },
  {
   "cell_type": "code",
   "execution_count": null,
   "metadata": {},
   "outputs": [],
   "source": [
    "plot_equity_trades(result_M30['_equity_curve'], 'XAUUSD_M30', account_size)"
   ]
  },
  {
   "cell_type": "markdown",
   "metadata": {},
   "source": [
    "### Save output"
   ]
  },
  {
   "cell_type": "code",
   "execution_count": null,
   "metadata": {},
   "outputs": [],
   "source": [
    "save_to_csv(result_M30, '../../out/Technical_Strategy/Fibonacci/Backtest/result_M30.csv')  "
   ]
  }
 ],
 "metadata": {
  "kernelspec": {
   "display_name": "base",
   "language": "python",
   "name": "python3"
  },
  "language_info": {
   "codemirror_mode": {
    "name": "ipython",
    "version": 3
   },
   "file_extension": ".py",
   "mimetype": "text/x-python",
   "name": "python",
   "nbconvert_exporter": "python",
   "pygments_lexer": "ipython3",
   "version": "3.10.9"
  }
 },
 "nbformat": 4,
 "nbformat_minor": 2
}
